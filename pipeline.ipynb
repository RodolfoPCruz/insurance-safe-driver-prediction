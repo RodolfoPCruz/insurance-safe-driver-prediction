{
 "cells": [
  {
   "cell_type": "code",
   "execution_count": 31,
   "id": "234b805b",
   "metadata": {},
   "outputs": [],
   "source": [
    "#Computação científica\n",
    "import numpy as np\n",
    "\n",
    "#análise de dados\n",
    "import pandas as pd\n",
    "\n",
    "#visualização\n",
    "import matplotlib.pyplot as plt\n",
    "\n",
    "#machine learning\n",
    "import sklearn\n",
    "\n",
    "# feature engineering\n",
    "from sklearn.impute import SimpleImputer\n",
    "from feature_engine.imputation import (\n",
    "    AddMissingIndicator)\n",
    "from feature_engine.transformation import YeoJohnsonTransformer\n",
    "from feature_engine.encoding import  RareLabelEncoder\n",
    "from sklearn.preprocessing import OneHotEncoder\n",
    "from sklearn.preprocessing import StandardScaler\n",
    "from feature_engine.wrappers import SklearnTransformerWrapper\n",
    "\n",
    "\n",
    "#Pipelines\n",
    "from sklearn.pipeline import Pipeline\n",
    "from sklearn.preprocessing import FunctionTransformer\n",
    "from sklearn.compose import ColumnTransformer"
   ]
  },
  {
   "cell_type": "code",
   "execution_count": 3,
   "id": "2747d1d4",
   "metadata": {},
   "outputs": [],
   "source": [
    "sklearn.set_config(display='diagram')\n",
    "sklearn.set_config(transform_output=\"pandas\")"
   ]
  },
  {
   "cell_type": "markdown",
   "id": "395a13e3",
   "metadata": {},
   "source": [
    "# Introdução"
   ]
  },
  {
   "cell_type": "markdown",
   "id": "79d6dceb",
   "metadata": {},
   "source": [
    "## Motivação\n"
   ]
  },
  {
   "cell_type": "markdown",
   "id": "c2dc9b67",
   "metadata": {},
   "source": [
    "## Objetivos\n"
   ]
  },
  {
   "cell_type": "code",
   "execution_count": null,
   "id": "114150db",
   "metadata": {},
   "outputs": [],
   "source": []
  },
  {
   "cell_type": "markdown",
   "id": "85873fbb",
   "metadata": {},
   "source": [
    "# Download Dataset"
   ]
  },
  {
   "cell_type": "code",
   "execution_count": 4,
   "id": "ccb4f2ea",
   "metadata": {},
   "outputs": [],
   "source": [
    "# O dataset está disponível no seguinte URL:\n",
    "#https://www.kaggle.com/competitions/porto-seguro-safe-driver-prediction/data\n",
    "\n",
    "path='/home/rodolfo/Insync/rodolfopcruz2@gmail.com/Google Drive/Estudo/Python_Projects/datasets/porto-seguro-safe-driver-prediction/'\n",
    "train=pd.read_csv(path+'train.csv')\n",
    "test= pd.read_csv(path+'test.csv')"
   ]
  },
  {
   "cell_type": "markdown",
   "id": "5390c70a",
   "metadata": {},
   "source": [
    "# Pipelines"
   ]
  },
  {
   "cell_type": "markdown",
   "id": "85a6e5be",
   "metadata": {},
   "source": [
    "- Serão criadas duas pipelines de dados:\n",
    "\n",
    "    - Em uma delas serão tratadas todas as colunas, a seleção das features será feita mais a frente;\n",
    "    - Na outra a primeira etapa consistirá na remoção de algumas festures, de acordo com os resultados obtidos com a correlação."
   ]
  },
  {
   "cell_type": "code",
   "execution_count": 5,
   "id": "205cf9af",
   "metadata": {},
   "outputs": [],
   "source": [
    "cat_features=[feature for feature in train.columns if 'cat' in feature]\n",
    "bin_features=[feature for feature in train.columns if 'bin' in feature]\n",
    "num_features=[feature for feature in train.columns if 'cat' not in feature \n",
    "                                                    and 'bin' not in feature and\n",
    "                                                    feature!='target' and feature!='id']\n"
   ]
  },
  {
   "cell_type": "markdown",
   "id": "a59b2d9f",
   "metadata": {},
   "source": [
    "## Pipeline com todas as features"
   ]
  },
  {
   "cell_type": "code",
   "execution_count": 19,
   "id": "fd3e5a34",
   "metadata": {},
   "outputs": [],
   "source": [
    "#Nos dados os missing values foram substituídos pelo valor -1\n",
    "#Função para trocar -1 por np .nan\n",
    "\n",
    "def impute_nan_missing_value(x):\n",
    "    x=x.replace(-1,np.nan)\n",
    "    return x\n",
    "\n",
    "impute_nan_missing_value_transformer=FunctionTransformer(impute_nan_missing_value)"
   ]
  },
  {
   "cell_type": "code",
   "execution_count": 20,
   "id": "bf2c7ed0",
   "metadata": {},
   "outputs": [],
   "source": [
    "#Função para converter data type para object\n",
    "\n",
    "def converter_object(x):\n",
    "    x=x.astype('object')\n",
    "    return x\n",
    "\n",
    "converter_object_transformer=FunctionTransformer(converter_object)"
   ]
  },
  {
   "cell_type": "markdown",
   "id": "ee243641",
   "metadata": {},
   "source": [
    "### Features Binárias"
   ]
  },
  {
   "cell_type": "code",
   "execution_count": 24,
   "id": "84fc3943",
   "metadata": {},
   "outputs": [],
   "source": [
    "imputer_binary=SimpleImputer(strategy='most_frequent')"
   ]
  },
  {
   "cell_type": "markdown",
   "id": "9bdfb165",
   "metadata": {},
   "source": [
    "Pipeline para features binárias:\n",
    "\n",
    "1) Substituir -1 por np.nan;\n",
    "2) Converter os valores para object;\n",
    "3) Substituir valores ausentes pelo mais frequente."
   ]
  },
  {
   "cell_type": "code",
   "execution_count": 25,
   "id": "c9ab26d2",
   "metadata": {},
   "outputs": [],
   "source": [
    "binary_pipeline=Pipeline([('replace_-1_nan',impute_nan_missing_value_transformer),\n",
    "                          ('convert_to_object',converter_object_transformer),\n",
    "                          ('fill_missing_binary',imputer_binary)])"
   ]
  },
  {
   "cell_type": "code",
   "execution_count": 26,
   "id": "c9426514",
   "metadata": {},
   "outputs": [],
   "source": [
    "teste=binary_pipeline.fit_transform(train[bin_features])"
   ]
  },
  {
   "cell_type": "markdown",
   "id": "ac193033",
   "metadata": {},
   "source": [
    "### Features Numéricas"
   ]
  },
  {
   "cell_type": "code",
   "execution_count": 29,
   "id": "3443643f",
   "metadata": {},
   "outputs": [],
   "source": [
    "missing_threshold=1/100\n",
    "\n",
    "#numeric features com muitos mussing values\n",
    "num_features_muitos_na=train[num_features].isna().mean()>missing_threshold\n",
    "num_features_muitos_na=num_features_muitos_na[num_features_muitos_na].index.to_list()\n",
    "\n",
    "#numeric features com poucos missing values\n",
    "num_features_poucos_na=train[num_features].isna().mean()<missing_threshold\n",
    "num_features_poucos_na=num_features_poucos_na[num_features_poucos_na].index.to_list()"
   ]
  },
  {
   "cell_type": "code",
   "execution_count": 41,
   "id": "66294d07",
   "metadata": {},
   "outputs": [],
   "source": [
    "#Criar nova coluna para indicar se existe valor ausente nas colunas numéricas com muitos na\n",
    "missing_indicator=AddMissingIndicator(variables=num_features_muitos_na)\n",
    "\n",
    "#Substituir os valores ausentes pela média\n",
    "num_imputer=SimpleImputer(strategy='mean')\n"
   ]
  },
  {
   "cell_type": "code",
   "execution_count": 43,
   "id": "d9890b75",
   "metadata": {},
   "outputs": [],
   "source": [
    "#Aplicar transformação de Yeo Jhonson as seguintes features\n",
    "\n",
    "features_to_be_transformed=['ps_reg_03',\n",
    "                            'ps_car_12',\n",
    "                            'ps_car_13',\n",
    "                            'ps_car_14',\n",
    "                            'ps_car_15',\n",
    "                            'ps_reg_02']\n",
    "\n",
    "yeo_transformer=YeoJohnsonTransformer(variables=features_to_be_transformed)"
   ]
  },
  {
   "cell_type": "code",
   "execution_count": 39,
   "id": "b4cab87f",
   "metadata": {},
   "outputs": [],
   "source": [
    "# Scaling\n",
    "\n",
    "scaler = StandardScaler()"
   ]
  },
  {
   "cell_type": "code",
   "execution_count": 44,
   "id": "b70bc738",
   "metadata": {},
   "outputs": [],
   "source": [
    "num_features_pipeline=Pipeline([\n",
    "            ('replace_-1_nan',impute_nan_missing_value_transformer),\n",
    "            ('addin_missing_indicator',missing_indicator),\n",
    "            ('imputer_mean',SklearnTransformerWrapper(transformer=num_imputer,variables=num_features)),\n",
    "            ('ajustar_ditribuicao',yeo_transformer),\n",
    "            ('standard_scaler',SklearnTransformerWrapper(transformer=scaler,variables=num_features))])"
   ]
  },
  {
   "cell_type": "code",
   "execution_count": 47,
   "id": "6c9b6f65",
   "metadata": {},
   "outputs": [],
   "source": [
    "x=num_features_pipeline.fit_transform(train[num_features])"
   ]
  },
  {
   "cell_type": "code",
   "execution_count": 46,
   "id": "c1c68851",
   "metadata": {},
   "outputs": [
    {
     "data": {
      "text/plain": [
       "(595212, 26)"
      ]
     },
     "execution_count": 46,
     "metadata": {},
     "output_type": "execute_result"
    }
   ],
   "source": [
    "np.shape(train[num_features])"
   ]
  },
  {
   "cell_type": "code",
   "execution_count": 50,
   "id": "b85e1149",
   "metadata": {},
   "outputs": [
    {
     "data": {
      "text/plain": [
       "Index(['ps_ind_01', 'ps_ind_03', 'ps_ind_14', 'ps_ind_15', 'ps_reg_01',\n",
       "       'ps_reg_02', 'ps_reg_03', 'ps_car_11', 'ps_car_12', 'ps_car_13',\n",
       "       'ps_car_14', 'ps_car_15', 'ps_calc_01', 'ps_calc_02', 'ps_calc_03',\n",
       "       'ps_calc_04', 'ps_calc_05', 'ps_calc_06', 'ps_calc_07', 'ps_calc_08',\n",
       "       'ps_calc_09', 'ps_calc_10', 'ps_calc_11', 'ps_calc_12', 'ps_calc_13',\n",
       "       'ps_calc_14', 'ps_reg_03_na', 'ps_car_14_na'],\n",
       "      dtype='object')"
      ]
     },
     "execution_count": 50,
     "metadata": {},
     "output_type": "execute_result"
    }
   ],
   "source": [
    "x.columns"
   ]
  },
  {
   "cell_type": "code",
   "execution_count": null,
   "id": "5fa7218c",
   "metadata": {},
   "outputs": [],
   "source": []
  }
 ],
 "metadata": {
  "kernelspec": {
   "display_name": "seguros",
   "language": "python",
   "name": "python3"
  },
  "language_info": {
   "codemirror_mode": {
    "name": "ipython",
    "version": 3
   },
   "file_extension": ".py",
   "mimetype": "text/x-python",
   "name": "python",
   "nbconvert_exporter": "python",
   "pygments_lexer": "ipython3",
   "version": "3.9.18"
  },
  "toc": {
   "base_numbering": 1,
   "nav_menu": {},
   "number_sections": true,
   "sideBar": true,
   "skip_h1_title": false,
   "title_cell": "Table of Contents",
   "title_sidebar": "Contents",
   "toc_cell": false,
   "toc_position": {
    "height": "calc(100% - 180px)",
    "left": "10px",
    "top": "150px",
    "width": "263.183px"
   },
   "toc_section_display": true,
   "toc_window_display": true
  }
 },
 "nbformat": 4,
 "nbformat_minor": 5
}
