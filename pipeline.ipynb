{
 "cells": [
  {
   "cell_type": "code",
   "execution_count": 81,
   "id": "234b805b",
   "metadata": {},
   "outputs": [],
   "source": [
    "#Computação científica\n",
    "import numpy as np\n",
    "\n",
    "#análise de dados\n",
    "import pandas as pd\n",
    "\n",
    "#visualização\n",
    "import matplotlib.pyplot as plt\n",
    "\n",
    "#machine learning\n",
    "import sklearn\n",
    "\n",
    "# feature engineering\n",
    "from sklearn.impute import SimpleImputer\n",
    "from feature_engine.imputation import (\n",
    "    AddMissingIndicator)\n",
    "from feature_engine.transformation import YeoJohnsonTransformer\n",
    "from feature_engine.encoding import  RareLabelEncoder\n",
    "from sklearn.preprocessing import OneHotEncoder\n",
    "from sklearn.preprocessing import StandardScaler\n",
    "from feature_engine.wrappers import SklearnTransformerWrapper\n",
    "\n",
    "\n",
    "#Pipelines\n",
    "from sklearn.pipeline import Pipeline\n",
    "from sklearn.preprocessing import FunctionTransformer\n",
    "from sklearn.compose import ColumnTransformer"
   ]
  },
  {
   "cell_type": "code",
   "execution_count": 82,
   "id": "2747d1d4",
   "metadata": {},
   "outputs": [],
   "source": [
    "sklearn.set_config(display='diagram')\n",
    "sklearn.set_config(transform_output=\"pandas\")"
   ]
  },
  {
   "cell_type": "markdown",
   "id": "395a13e3",
   "metadata": {},
   "source": [
    "# Introdução"
   ]
  },
  {
   "cell_type": "markdown",
   "id": "79d6dceb",
   "metadata": {},
   "source": [
    "## Motivação\n"
   ]
  },
  {
   "cell_type": "markdown",
   "id": "c2dc9b67",
   "metadata": {},
   "source": [
    "## Objetivos\n"
   ]
  },
  {
   "cell_type": "code",
   "execution_count": null,
   "id": "114150db",
   "metadata": {},
   "outputs": [],
   "source": []
  },
  {
   "cell_type": "markdown",
   "id": "85873fbb",
   "metadata": {},
   "source": [
    "# Download Dataset"
   ]
  },
  {
   "cell_type": "code",
   "execution_count": 83,
   "id": "ccb4f2ea",
   "metadata": {},
   "outputs": [],
   "source": [
    "# O dataset está disponível no seguinte URL:\n",
    "#https://www.kaggle.com/competitions/porto-seguro-safe-driver-prediction/data\n",
    "\n",
    "path='/home/rodolfo/Insync/rodolfopcruz2@gmail.com/Google Drive/Estudo/Python_Projects/datasets/porto-seguro-safe-driver-prediction/'\n",
    "train=pd.read_csv(path+'train.csv')\n",
    "test= pd.read_csv(path+'test.csv')"
   ]
  },
  {
   "cell_type": "code",
   "execution_count": 84,
   "id": "d854cac3",
   "metadata": {},
   "outputs": [],
   "source": [
    "cat_features=[feature for feature in train.columns if 'cat' in feature]\n",
    "\n",
    "bin_features=[feature for feature in train.columns if 'bin' in feature]\n",
    "\n",
    "num_features=[feature for feature in train.columns if 'cat' not in feature \n",
    "                                                    and 'bin' not in feature and\n",
    "                                                    feature!='target' and feature!='id']\n"
   ]
  },
  {
   "cell_type": "code",
   "execution_count": 85,
   "id": "2e9eb186",
   "metadata": {},
   "outputs": [],
   "source": [
    "y_train=train['target']\n",
    "train  =train.drop(columns=['target','id'])\n",
    "test   =test.drop(columns=[\"id\"])"
   ]
  },
  {
   "cell_type": "code",
   "execution_count": 86,
   "id": "4c1587a1",
   "metadata": {},
   "outputs": [],
   "source": [
    "#Nos dados os missing values estão representados por -1\n",
    "#Substituir -1 por np.nan para facilitar a identificação\n",
    "train=train.replace(-1,np.nan)"
   ]
  },
  {
   "cell_type": "markdown",
   "id": "5390c70a",
   "metadata": {},
   "source": [
    "# Pipelines"
   ]
  },
  {
   "cell_type": "markdown",
   "id": "85a6e5be",
   "metadata": {},
   "source": [
    "- Serão criadas duas pipelines de dados:\n",
    "\n",
    "    - Em uma delas serão tratadas todas as colunas, a seleção das features será feita mais a frente;\n",
    "    - Na outra a primeira etapa consistirá na remoção de algumas festures, de acordo com os resultados obtidos com a correlação."
   ]
  },
  {
   "cell_type": "markdown",
   "id": "a59b2d9f",
   "metadata": {},
   "source": [
    "## Pipeline para dados com todas as features"
   ]
  },
  {
   "cell_type": "code",
   "execution_count": 87,
   "id": "fd3e5a34",
   "metadata": {},
   "outputs": [],
   "source": [
    "#Nos dados os missing values foram substituídos pelo valor -1\n",
    "#Função para trocar -1 por np .nan\n",
    "\n",
    "def impute_nan_missing_value(x):\n",
    "    x=x.replace(-1,np.nan)\n",
    "    return x\n",
    "\n",
    "impute_nan_missing_value_transformer=FunctionTransformer(impute_nan_missing_value)"
   ]
  },
  {
   "cell_type": "code",
   "execution_count": 88,
   "id": "bf2c7ed0",
   "metadata": {},
   "outputs": [],
   "source": [
    "#Função para converter data type para object\n",
    "\n",
    "def converter_object(x):\n",
    "    x=x.astype('object')\n",
    "    return x\n",
    "\n",
    "converter_object_transformer=FunctionTransformer(converter_object)"
   ]
  },
  {
   "cell_type": "markdown",
   "id": "ee243641",
   "metadata": {},
   "source": [
    "### Features Binárias"
   ]
  },
  {
   "cell_type": "markdown",
   "id": "9bdfb165",
   "metadata": {},
   "source": [
    "Pipeline para features binárias:\n",
    "\n",
    "1) Substituir -1 por np.nan;\n",
    "2) Converter os valores para object;\n",
    "3) Substituir valores ausentes pelo mais frequente."
   ]
  },
  {
   "cell_type": "code",
   "execution_count": 89,
   "id": "f9ecfce0",
   "metadata": {},
   "outputs": [],
   "source": [
    "#imputer para substituir missing values\n",
    "imputer_binary=SimpleImputer(strategy='most_frequent')"
   ]
  },
  {
   "cell_type": "code",
   "execution_count": 90,
   "id": "c9ab26d2",
   "metadata": {},
   "outputs": [],
   "source": [
    "pipeline_bin_features=Pipeline([('replace_-1_nan',impute_nan_missing_value_transformer),\n",
    "                          ('convert_to_object',converter_object_transformer),\n",
    "                          ('fill_missing_binary',imputer_binary)])"
   ]
  },
  {
   "cell_type": "markdown",
   "id": "ac193033",
   "metadata": {},
   "source": [
    "### Features Numéricas"
   ]
  },
  {
   "cell_type": "markdown",
   "id": "3071a800",
   "metadata": {},
   "source": [
    "Pipeline para features numéricas:\n",
    "\n",
    "1) Os missing values estão representados por -1. Substituir por np.nan;\n",
    "2) Para as colunas numéricas com muitos missing values será criada um nova coluna para identificar um valor ausente;\n",
    "3) Os valores ausentes de todas as colunas numéricas serão substituídos pela média;\n",
    "4) Corrigir a distribuição de algumas colunas;\n",
    "5) Normalização dos dados das colunas.\n"
   ]
  },
  {
   "cell_type": "code",
   "execution_count": 91,
   "id": "3443643f",
   "metadata": {},
   "outputs": [],
   "source": [
    "missing_threshold=1/100\n",
    "\n",
    "#numeric features com muitos mussing values\n",
    "num_features_muitos_na=train[num_features].isna().mean()>missing_threshold\n",
    "num_features_muitos_na=num_features_muitos_na[num_features_muitos_na].index.to_list()\n",
    "\n",
    "#numeric features com poucos missing values\n",
    "num_features_poucos_na=train[num_features].isna().mean()<missing_threshold\n",
    "num_features_poucos_na=num_features_poucos_na[num_features_poucos_na].index.to_list()"
   ]
  },
  {
   "cell_type": "code",
   "execution_count": 93,
   "id": "66294d07",
   "metadata": {},
   "outputs": [],
   "source": [
    "#Criar nova coluna para indicar se existe valor ausente nas colunas numéricas com muitos na\n",
    "\n",
    "missing_indicator=AddMissingIndicator(variables=num_features_muitos_na)\n",
    "#A coluna criada tem o mesmo nome da original acrescido da terminação _na"
   ]
  },
  {
   "cell_type": "code",
   "execution_count": 75,
   "id": "6029eaa4",
   "metadata": {},
   "outputs": [],
   "source": [
    "#Substituir os valores ausentes pela média\n",
    "#Será aplicado em todas as colunas numéricas\n",
    "\n",
    "num_imputer=SimpleImputer(strategy='mean')\n"
   ]
  },
  {
   "cell_type": "code",
   "execution_count": 74,
   "id": "d9890b75",
   "metadata": {},
   "outputs": [],
   "source": [
    "#Aplicar transformação de Yeo Jhonson as seguintes features\n",
    "\n",
    "features_to_be_transformed=['ps_reg_03',\n",
    "                            'ps_car_12',\n",
    "                            'ps_car_13',\n",
    "                            'ps_car_14',\n",
    "                            'ps_car_15',\n",
    "                            'ps_reg_02']\n",
    "\n",
    "yeo_transformer=YeoJohnsonTransformer(variables=features_to_be_transformed)"
   ]
  },
  {
   "cell_type": "code",
   "execution_count": 76,
   "id": "b4cab87f",
   "metadata": {},
   "outputs": [],
   "source": [
    "# Scaling\n",
    "\n",
    "scaler = StandardScaler()"
   ]
  },
  {
   "cell_type": "code",
   "execution_count": 97,
   "id": "b70bc738",
   "metadata": {},
   "outputs": [],
   "source": [
    "pipeline_num_features=Pipeline([\n",
    "            ('replace_-1_nan',impute_nan_missing_value_transformer),\n",
    "            ('addin_missing_indicator',missing_indicator),\n",
    "            ('imputer_mean',SklearnTransformerWrapper(transformer=num_imputer,variables=num_features)),\n",
    "            ('ajustar_ditribuicao',yeo_transformer),\n",
    "            ('standard_scaler',SklearnTransformerWrapper(transformer=scaler,variables=num_features))])\n"
   ]
  },
  {
   "cell_type": "markdown",
   "id": "1797c6d6",
   "metadata": {},
   "source": [
    "### Features Categóricas"
   ]
  },
  {
   "cell_type": "markdown",
   "id": "a976e110",
   "metadata": {},
   "source": []
  },
  {
   "cell_type": "code",
   "execution_count": 98,
   "id": "a40e1d7f",
   "metadata": {},
   "outputs": [
    {
     "data": {
      "text/plain": [
       "['ps_ind_02_cat',\n",
       " 'ps_ind_04_cat',\n",
       " 'ps_ind_05_cat',\n",
       " 'ps_car_01_cat',\n",
       " 'ps_car_02_cat',\n",
       " 'ps_car_03_cat',\n",
       " 'ps_car_04_cat',\n",
       " 'ps_car_05_cat',\n",
       " 'ps_car_06_cat',\n",
       " 'ps_car_07_cat',\n",
       " 'ps_car_08_cat',\n",
       " 'ps_car_09_cat',\n",
       " 'ps_car_10_cat',\n",
       " 'ps_car_11_cat']"
      ]
     },
     "execution_count": 98,
     "metadata": {},
     "output_type": "execute_result"
    }
   ],
   "source": [
    "cat_features"
   ]
  },
  {
   "cell_type": "code",
   "execution_count": 99,
   "id": "052df721",
   "metadata": {},
   "outputs": [],
   "source": [
    "missing_threshold=1/100\n",
    "#features categóricas com número de missing values superior ao thresold\n",
    "cat_features_muitos_na=train[cat_features].isna().mean()>missing_threshold\n",
    "cat_features_muitos_na=cat_features_muitos_na[cat_features_muitos_na].index.to_list()\n",
    "\n",
    "#features categóricas com número de missing values inferior ao thresold\n",
    "cat_features_poucos_na=train[cat_features].isna().mean()<missing_threshold\n",
    "cat_features_poucos_na=cat_features_poucos_na[cat_features_poucos_na].index.to_list()"
   ]
  },
  {
   "cell_type": "code",
   "execution_count": 139,
   "id": "f6a300b3",
   "metadata": {},
   "outputs": [],
   "source": [
    "#Substituir missing values nas features com muitos valores ausentes\n",
    "cat_imputer_muitos_na=SimpleImputer(strategy='constant',fill_value='missing')\n",
    "\n",
    "#Substituir missing values nas features com poucos valores ausentes\n",
    "cat_imputer_poucos_na=SimpleImputer(strategy='most_frequent')\n"
   ]
  },
  {
   "cell_type": "code",
   "execution_count": 140,
   "id": "3ca58cb9",
   "metadata": {},
   "outputs": [],
   "source": [
    "#Labels raras\n",
    "\n",
    "rare_threshold=1/100\n",
    "#Todas as labels que aparecem em proproção inferior a rare_thrshold serão agrupadas como uma única\n",
    "\n",
    "#Identificar fearues que contem labels raras\n",
    "rare_labels=[]\n",
    "for feature in cat_features:\n",
    "    if  not ((train[feature].value_counts()/len(train))>rare_threshold).all():\n",
    "        rare_labels.append(feature)\n",
    "\n",
    "rare_encoder = RareLabelEncoder(tol=rare_threshold, n_categories=1, variables=rare_labels)\n"
   ]
  },
  {
   "cell_type": "code",
   "execution_count": 141,
   "id": "10f76096",
   "metadata": {},
   "outputs": [],
   "source": [
    "#One hot encoder\n",
    "enc = OneHotEncoder(handle_unknown='ignore',sparse_output=False)\n",
    "\n",
    "#one hot encoding será aplicado somente a features com mais de duas labels\n",
    "#e tambem aquelas com duas labels mas com muitos missing values, para a quais foi criada um label para indicar um missing value\n",
    "columns_to_encode=[x for x in cat_features if train[x].nunique()>2 or x in cat_features_muitos_na]\n"
   ]
  },
  {
   "cell_type": "code",
   "execution_count": 147,
   "id": "0dd21520",
   "metadata": {},
   "outputs": [],
   "source": [
    "#Converter para string para que tods os dados em uma mesma coluna tenham o mesmo formato\n",
    "#Essa etapa é necessária para usar o one hot encoding\n",
    "\n",
    "def converter_para_str(x):\n",
    "    x=x.astype(str)\n",
    "    return x\n",
    "\n",
    "converter_str_transformer=FunctionTransformer(converter_para_str)"
   ]
  },
  {
   "cell_type": "code",
   "execution_count": 148,
   "id": "b2f00305",
   "metadata": {},
   "outputs": [],
   "source": [
    "pipeline_cat_features=Pipeline([\n",
    "            ('replace_-1_nan',impute_nan_missing_value_transformer),\n",
    "            ('converter_object',converter_object_transformer),\n",
    "            ('imputer_muitos_na',SklearnTransformerWrapper(transformer=cat_imputer_muitos_na,variables=cat_features_muitos_na)),\n",
    "            ('imputer_poucos_na',SklearnTransformerWrapper(transformer=cat_imputer_poucos_na,variables=cat_features_poucos_na)),\n",
    "            ('rare_labels',rare_encoder),\n",
    "            ('converter_str',SklearnTransformerWrapper(transformer=converter_str_transformer,variables=columns_to_encode)),\n",
    "            ('one_hot',SklearnTransformerWrapper(transformer=enc,variables=columns_to_encode))])"
   ]
  }
 ],
 "metadata": {
  "kernelspec": {
   "display_name": "seguros",
   "language": "python",
   "name": "python3"
  },
  "language_info": {
   "codemirror_mode": {
    "name": "ipython",
    "version": 3
   },
   "file_extension": ".py",
   "mimetype": "text/x-python",
   "name": "python",
   "nbconvert_exporter": "python",
   "pygments_lexer": "ipython3",
   "version": "3.9.18"
  },
  "toc": {
   "base_numbering": 1,
   "nav_menu": {},
   "number_sections": true,
   "sideBar": true,
   "skip_h1_title": false,
   "title_cell": "Table of Contents",
   "title_sidebar": "Contents",
   "toc_cell": false,
   "toc_position": {
    "height": "calc(100% - 180px)",
    "left": "10px",
    "top": "150px",
    "width": "263.183px"
   },
   "toc_section_display": true,
   "toc_window_display": true
  }
 },
 "nbformat": 4,
 "nbformat_minor": 5
}
