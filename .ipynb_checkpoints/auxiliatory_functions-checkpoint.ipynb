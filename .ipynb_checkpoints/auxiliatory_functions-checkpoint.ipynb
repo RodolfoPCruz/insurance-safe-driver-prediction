{
 "cells": [
  {
   "cell_type": "code",
   "execution_count": 1,
   "id": "c96749d8",
   "metadata": {},
   "outputs": [],
   "source": [
    "import numpy as np\n",
    "import pandas as pd\n",
    "\n",
    "from scipy.stats import chi2_contingency\n"
   ]
  },
  {
   "cell_type": "code",
   "execution_count": 2,
   "id": "fbb48046",
   "metadata": {},
   "outputs": [],
   "source": [
    "def chi_squared_test_cramers_features_output(data,alpha):\n",
    "    \n",
    "    '''\n",
    "    This function calculates the chi-squared test between each categorical feature in the dataframe and the \n",
    "    output variable (column named 'target'). The test aims to determine whether they are independent or not. \n",
    "    The level of association between each variable and the 'target ' column, the cramer'v  value and the cramer'v degrees \n",
    "    of freedom are calculated.\n",
    "    \n",
    "    data is a dataframe containing categorial features and the output variable\n",
    "    alpha is the significance for the test of hypothesis\n",
    "    \n",
    "    calculate Cramers V statistic for categorial-categorial association.\n",
    "    uses correction from Bergsma and Wicher,\n",
    "    Journal of the Korean Statistical Society 42 (2013): 323-328\n",
    "    \n",
    "    The output is a dataframe with the following columns:\n",
    "    \n",
    "    chi2       - calculated values of the chi squared test\n",
    "    p          - p value\n",
    "    dof        - degrees of freedom\n",
    "    conclusion - the result of the chi-squared test indicating whether the variables are independent\n",
    "    cramers_v  - cramer'v value\n",
    "    cramers_df - cramers'v degrees of freedom\n",
    "    '''\n",
    "    \n",
    "    features=data.columns\n",
    "    features=features.delete(np.argwhere(features=='target'))\n",
    "    results={'chi2':[],'p':[],'dof':[],'conclusion':[],'cramers_v':[],'cramers_df':[]}\n",
    "    for i in features:\n",
    "        x=data[[i,'target']].copy()\n",
    "        x.dropna(inplace=True)\n",
    "        columns=x.columns\n",
    "        x=pd.crosstab(x[columns[0]],x[columns[1]])\n",
    "        chi2, p, dof, con_table = chi2_contingency(x)\n",
    "        n=x.values.sum()\n",
    "        r, k = x.shape\n",
    "        phi2 = chi2 / n\n",
    "        phi2corr = max(0, phi2 - ((k-1)*(r-1))/(n-1))\n",
    "        rcorr = r - ((r-1)**2)/(n-1)\n",
    "        kcorr = k - ((k-1)**2)/(n-1)\n",
    "        cramers_dof=min(x.shape)-1\n",
    "        cramers_v=np.sqrt(phi2corr / min((kcorr-1), (rcorr-1)))\n",
    "        results['chi2']      =results['chi2']+[chi2]\n",
    "        results['p']         =results['p']   +[p]\n",
    "        results['dof']       =results['dof']+[dof]\n",
    "        results['cramers_v'] =results['cramers_v']+[cramers_v]\n",
    "        results['cramers_df']=results['cramers_df']+[cramers_dof]\n",
    "\n",
    "        if p<alpha/2:\n",
    "            conclusion='Dependent'\n",
    "        else:\n",
    "            conclusion='Independent'\n",
    "        results['conclusion']=results['conclusion']+[conclusion]\n",
    "    results=pd.DataFrame(results,index=features)\n",
    "    results.sort_values(by=['cramers_v'],ascending=False,inplace=True)\n",
    "    return results\n",
    "        \n"
   ]
  },
  {
   "cell_type": "code",
   "execution_count": null,
   "id": "508b05d4",
   "metadata": {},
   "outputs": [],
   "source": []
  }
 ],
 "metadata": {
  "kernelspec": {
   "display_name": "Python 3 (ipykernel)",
   "language": "python",
   "name": "python3"
  },
  "language_info": {
   "codemirror_mode": {
    "name": "ipython",
    "version": 3
   },
   "file_extension": ".py",
   "mimetype": "text/x-python",
   "name": "python",
   "nbconvert_exporter": "python",
   "pygments_lexer": "ipython3",
   "version": "3.9.18"
  },
  "toc": {
   "base_numbering": 1,
   "nav_menu": {},
   "number_sections": true,
   "sideBar": true,
   "skip_h1_title": false,
   "title_cell": "Table of Contents",
   "title_sidebar": "Contents",
   "toc_cell": false,
   "toc_position": {},
   "toc_section_display": true,
   "toc_window_display": false
  }
 },
 "nbformat": 4,
 "nbformat_minor": 5
}
