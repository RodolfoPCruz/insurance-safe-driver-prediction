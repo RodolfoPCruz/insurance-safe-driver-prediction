{
 "cells": [
  {
   "cell_type": "code",
   "execution_count": 6,
   "id": "234b805b",
   "metadata": {},
   "outputs": [],
   "source": [
    "#Computação científica\n",
    "import numpy as np\n",
    "\n",
    "#análise de dados\n",
    "import pandas as pd\n",
    "\n",
    "#machine learning\n",
    "import sklearn\n",
    "\n",
    "# from feature-engine\n",
    "from feature_engine.imputation import (\n",
    "    AddMissingIndicator,\n",
    "    MeanMedianImputer,\n",
    "    CategoricalImputer,\n",
    ")"
   ]
  },
  {
   "cell_type": "code",
   "execution_count": 10,
   "id": "2747d1d4",
   "metadata": {},
   "outputs": [],
   "source": [
    "sklearn.set_config(display='diagram')\n",
    "sklearn.set_config(transform_output=\"pandas\")"
   ]
  },
  {
   "cell_type": "markdown",
   "id": "395a13e3",
   "metadata": {},
   "source": [
    "# Introdução"
   ]
  },
  {
   "cell_type": "markdown",
   "id": "79d6dceb",
   "metadata": {},
   "source": [
    "## Motivação\n"
   ]
  },
  {
   "cell_type": "code",
   "execution_count": null,
   "id": "f306e507",
   "metadata": {
    "scrolled": true
   },
   "outputs": [],
   "source": []
  },
  {
   "cell_type": "markdown",
   "id": "c2dc9b67",
   "metadata": {},
   "source": [
    "## Objetivos\n"
   ]
  },
  {
   "cell_type": "code",
   "execution_count": null,
   "id": "114150db",
   "metadata": {},
   "outputs": [],
   "source": []
  },
  {
   "cell_type": "markdown",
   "id": "85873fbb",
   "metadata": {},
   "source": [
    "# Download Dataset"
   ]
  },
  {
   "cell_type": "code",
   "execution_count": 22,
   "id": "ccb4f2ea",
   "metadata": {},
   "outputs": [],
   "source": [
    "# O dataset está disponível no seguinte URL:\n",
    "#https://www.kaggle.com/competitions/porto-seguro-safe-driver-prediction/data\n",
    "\n",
    "path='/home/rodolfo/Insync/rodolfopcruz2@gmail.com/Google Drive/Estudo/Python_Projects/datasets/porto-seguro-safe-driver-prediction/'\n",
    "train=pd.read_csv(path+'train.csv')"
   ]
  },
  {
   "cell_type": "markdown",
   "id": "5390c70a",
   "metadata": {},
   "source": [
    "# Feature Engineering"
   ]
  },
  {
   "cell_type": "markdown",
   "id": "85a6e5be",
   "metadata": {},
   "source": [
    "- Missing Values\n",
    "- Distribuição não normal\n",
    "- Remoção de labels raras nas variáveis categóricas\n",
    "- Encoding\n",
    "- Normalização"
   ]
  },
  {
   "cell_type": "code",
   "execution_count": 23,
   "id": "205cf9af",
   "metadata": {},
   "outputs": [],
   "source": [
    "cat_features=[feature for feature in train.columns if 'cat' in feature]\n",
    "bin_features=[feature for feature in train.columns if 'bin' in feature]\n",
    "num_features=[feature for feature in train.columns if 'cat' not in feature \n",
    "                                                    and 'bin' not in feature and\n",
    "                                                    feature!='target' and feature!='id']\n"
   ]
  },
  {
   "cell_type": "markdown",
   "id": "af2d8286",
   "metadata": {},
   "source": [
    "## Missing Values"
   ]
  },
  {
   "cell_type": "code",
   "execution_count": 29,
   "id": "7f4c12b1",
   "metadata": {},
   "outputs": [],
   "source": [
    "#Missing values estão com valor -1\n",
    "#Substituir -1 por nan para facilitar a identificação dos valores ausentes\n",
    "\n",
    "train=train.replace(-1, np.nan)"
   ]
  },
  {
   "cell_type": "markdown",
   "id": "dde05f87",
   "metadata": {},
   "source": [
    "### Features Binárias"
   ]
  },
  {
   "cell_type": "code",
   "execution_count": 30,
   "id": "80cc08f7",
   "metadata": {},
   "outputs": [
    {
     "data": {
      "text/plain": [
       "ps_ind_06_bin     0\n",
       "ps_ind_07_bin     0\n",
       "ps_ind_08_bin     0\n",
       "ps_ind_09_bin     0\n",
       "ps_ind_10_bin     0\n",
       "ps_ind_11_bin     0\n",
       "ps_ind_12_bin     0\n",
       "ps_ind_13_bin     0\n",
       "ps_ind_16_bin     0\n",
       "ps_ind_17_bin     0\n",
       "ps_ind_18_bin     0\n",
       "ps_calc_15_bin    0\n",
       "ps_calc_16_bin    0\n",
       "ps_calc_17_bin    0\n",
       "ps_calc_18_bin    0\n",
       "ps_calc_19_bin    0\n",
       "ps_calc_20_bin    0\n",
       "dtype: int64"
      ]
     },
     "execution_count": 30,
     "metadata": {},
     "output_type": "execute_result"
    }
   ],
   "source": [
    "train.loc[:,bin_features].isna().sum()"
   ]
  },
  {
   "cell_type": "code",
   "execution_count": 31,
   "id": "a832f34e",
   "metadata": {},
   "outputs": [
    {
     "data": {
      "text/html": [
       "<style>#sk-container-id-3 {\n",
       "  /* Definition of color scheme common for light and dark mode */\n",
       "  --sklearn-color-text: black;\n",
       "  --sklearn-color-line: gray;\n",
       "  /* Definition of color scheme for unfitted estimators */\n",
       "  --sklearn-color-unfitted-level-0: #fff5e6;\n",
       "  --sklearn-color-unfitted-level-1: #f6e4d2;\n",
       "  --sklearn-color-unfitted-level-2: #ffe0b3;\n",
       "  --sklearn-color-unfitted-level-3: chocolate;\n",
       "  /* Definition of color scheme for fitted estimators */\n",
       "  --sklearn-color-fitted-level-0: #f0f8ff;\n",
       "  --sklearn-color-fitted-level-1: #d4ebff;\n",
       "  --sklearn-color-fitted-level-2: #b3dbfd;\n",
       "  --sklearn-color-fitted-level-3: cornflowerblue;\n",
       "\n",
       "  /* Specific color for light theme */\n",
       "  --sklearn-color-text-on-default-background: var(--sg-text-color, var(--theme-code-foreground, var(--jp-content-font-color1, black)));\n",
       "  --sklearn-color-background: var(--sg-background-color, var(--theme-background, var(--jp-layout-color0, white)));\n",
       "  --sklearn-color-border-box: var(--sg-text-color, var(--theme-code-foreground, var(--jp-content-font-color1, black)));\n",
       "  --sklearn-color-icon: #696969;\n",
       "\n",
       "  @media (prefers-color-scheme: dark) {\n",
       "    /* Redefinition of color scheme for dark theme */\n",
       "    --sklearn-color-text-on-default-background: var(--sg-text-color, var(--theme-code-foreground, var(--jp-content-font-color1, white)));\n",
       "    --sklearn-color-background: var(--sg-background-color, var(--theme-background, var(--jp-layout-color0, #111)));\n",
       "    --sklearn-color-border-box: var(--sg-text-color, var(--theme-code-foreground, var(--jp-content-font-color1, white)));\n",
       "    --sklearn-color-icon: #878787;\n",
       "  }\n",
       "}\n",
       "\n",
       "#sk-container-id-3 {\n",
       "  color: var(--sklearn-color-text);\n",
       "}\n",
       "\n",
       "#sk-container-id-3 pre {\n",
       "  padding: 0;\n",
       "}\n",
       "\n",
       "#sk-container-id-3 input.sk-hidden--visually {\n",
       "  border: 0;\n",
       "  clip: rect(1px 1px 1px 1px);\n",
       "  clip: rect(1px, 1px, 1px, 1px);\n",
       "  height: 1px;\n",
       "  margin: -1px;\n",
       "  overflow: hidden;\n",
       "  padding: 0;\n",
       "  position: absolute;\n",
       "  width: 1px;\n",
       "}\n",
       "\n",
       "#sk-container-id-3 div.sk-dashed-wrapped {\n",
       "  border: 1px dashed var(--sklearn-color-line);\n",
       "  margin: 0 0.4em 0.5em 0.4em;\n",
       "  box-sizing: border-box;\n",
       "  padding-bottom: 0.4em;\n",
       "  background-color: var(--sklearn-color-background);\n",
       "}\n",
       "\n",
       "#sk-container-id-3 div.sk-container {\n",
       "  /* jupyter's `normalize.less` sets `[hidden] { display: none; }`\n",
       "     but bootstrap.min.css set `[hidden] { display: none !important; }`\n",
       "     so we also need the `!important` here to be able to override the\n",
       "     default hidden behavior on the sphinx rendered scikit-learn.org.\n",
       "     See: https://github.com/scikit-learn/scikit-learn/issues/21755 */\n",
       "  display: inline-block !important;\n",
       "  position: relative;\n",
       "}\n",
       "\n",
       "#sk-container-id-3 div.sk-text-repr-fallback {\n",
       "  display: none;\n",
       "}\n",
       "\n",
       "div.sk-parallel-item,\n",
       "div.sk-serial,\n",
       "div.sk-item {\n",
       "  /* draw centered vertical line to link estimators */\n",
       "  background-image: linear-gradient(var(--sklearn-color-text-on-default-background), var(--sklearn-color-text-on-default-background));\n",
       "  background-size: 2px 100%;\n",
       "  background-repeat: no-repeat;\n",
       "  background-position: center center;\n",
       "}\n",
       "\n",
       "/* Parallel-specific style estimator block */\n",
       "\n",
       "#sk-container-id-3 div.sk-parallel-item::after {\n",
       "  content: \"\";\n",
       "  width: 100%;\n",
       "  border-bottom: 2px solid var(--sklearn-color-text-on-default-background);\n",
       "  flex-grow: 1;\n",
       "}\n",
       "\n",
       "#sk-container-id-3 div.sk-parallel {\n",
       "  display: flex;\n",
       "  align-items: stretch;\n",
       "  justify-content: center;\n",
       "  background-color: var(--sklearn-color-background);\n",
       "  position: relative;\n",
       "}\n",
       "\n",
       "#sk-container-id-3 div.sk-parallel-item {\n",
       "  display: flex;\n",
       "  flex-direction: column;\n",
       "}\n",
       "\n",
       "#sk-container-id-3 div.sk-parallel-item:first-child::after {\n",
       "  align-self: flex-end;\n",
       "  width: 50%;\n",
       "}\n",
       "\n",
       "#sk-container-id-3 div.sk-parallel-item:last-child::after {\n",
       "  align-self: flex-start;\n",
       "  width: 50%;\n",
       "}\n",
       "\n",
       "#sk-container-id-3 div.sk-parallel-item:only-child::after {\n",
       "  width: 0;\n",
       "}\n",
       "\n",
       "/* Serial-specific style estimator block */\n",
       "\n",
       "#sk-container-id-3 div.sk-serial {\n",
       "  display: flex;\n",
       "  flex-direction: column;\n",
       "  align-items: center;\n",
       "  background-color: var(--sklearn-color-background);\n",
       "  padding-right: 1em;\n",
       "  padding-left: 1em;\n",
       "}\n",
       "\n",
       "\n",
       "/* Toggleable style: style used for estimator/Pipeline/ColumnTransformer box that is\n",
       "clickable and can be expanded/collapsed.\n",
       "- Pipeline and ColumnTransformer use this feature and define the default style\n",
       "- Estimators will overwrite some part of the style using the `sk-estimator` class\n",
       "*/\n",
       "\n",
       "/* Pipeline and ColumnTransformer style (default) */\n",
       "\n",
       "#sk-container-id-3 div.sk-toggleable {\n",
       "  /* Default theme specific background. It is overwritten whether we have a\n",
       "  specific estimator or a Pipeline/ColumnTransformer */\n",
       "  background-color: var(--sklearn-color-background);\n",
       "}\n",
       "\n",
       "/* Toggleable label */\n",
       "#sk-container-id-3 label.sk-toggleable__label {\n",
       "  cursor: pointer;\n",
       "  display: block;\n",
       "  width: 100%;\n",
       "  margin-bottom: 0;\n",
       "  padding: 0.5em;\n",
       "  box-sizing: border-box;\n",
       "  text-align: center;\n",
       "}\n",
       "\n",
       "#sk-container-id-3 label.sk-toggleable__label-arrow:before {\n",
       "  /* Arrow on the left of the label */\n",
       "  content: \"▸\";\n",
       "  float: left;\n",
       "  margin-right: 0.25em;\n",
       "  color: var(--sklearn-color-icon);\n",
       "}\n",
       "\n",
       "#sk-container-id-3 label.sk-toggleable__label-arrow:hover:before {\n",
       "  color: var(--sklearn-color-text);\n",
       "}\n",
       "\n",
       "/* Toggleable content - dropdown */\n",
       "\n",
       "#sk-container-id-3 div.sk-toggleable__content {\n",
       "  max-height: 0;\n",
       "  max-width: 0;\n",
       "  overflow: hidden;\n",
       "  text-align: left;\n",
       "  /* unfitted */\n",
       "  background-color: var(--sklearn-color-unfitted-level-0);\n",
       "}\n",
       "\n",
       "#sk-container-id-3 div.sk-toggleable__content.fitted {\n",
       "  /* fitted */\n",
       "  background-color: var(--sklearn-color-fitted-level-0);\n",
       "}\n",
       "\n",
       "#sk-container-id-3 div.sk-toggleable__content pre {\n",
       "  margin: 0.2em;\n",
       "  border-radius: 0.25em;\n",
       "  color: var(--sklearn-color-text);\n",
       "  /* unfitted */\n",
       "  background-color: var(--sklearn-color-unfitted-level-0);\n",
       "}\n",
       "\n",
       "#sk-container-id-3 div.sk-toggleable__content.fitted pre {\n",
       "  /* unfitted */\n",
       "  background-color: var(--sklearn-color-fitted-level-0);\n",
       "}\n",
       "\n",
       "#sk-container-id-3 input.sk-toggleable__control:checked~div.sk-toggleable__content {\n",
       "  /* Expand drop-down */\n",
       "  max-height: 200px;\n",
       "  max-width: 100%;\n",
       "  overflow: auto;\n",
       "}\n",
       "\n",
       "#sk-container-id-3 input.sk-toggleable__control:checked~label.sk-toggleable__label-arrow:before {\n",
       "  content: \"▾\";\n",
       "}\n",
       "\n",
       "/* Pipeline/ColumnTransformer-specific style */\n",
       "\n",
       "#sk-container-id-3 div.sk-label input.sk-toggleable__control:checked~label.sk-toggleable__label {\n",
       "  color: var(--sklearn-color-text);\n",
       "  background-color: var(--sklearn-color-unfitted-level-2);\n",
       "}\n",
       "\n",
       "#sk-container-id-3 div.sk-label.fitted input.sk-toggleable__control:checked~label.sk-toggleable__label {\n",
       "  background-color: var(--sklearn-color-fitted-level-2);\n",
       "}\n",
       "\n",
       "/* Estimator-specific style */\n",
       "\n",
       "/* Colorize estimator box */\n",
       "#sk-container-id-3 div.sk-estimator input.sk-toggleable__control:checked~label.sk-toggleable__label {\n",
       "  /* unfitted */\n",
       "  background-color: var(--sklearn-color-unfitted-level-2);\n",
       "}\n",
       "\n",
       "#sk-container-id-3 div.sk-estimator.fitted input.sk-toggleable__control:checked~label.sk-toggleable__label {\n",
       "  /* fitted */\n",
       "  background-color: var(--sklearn-color-fitted-level-2);\n",
       "}\n",
       "\n",
       "#sk-container-id-3 div.sk-label label.sk-toggleable__label,\n",
       "#sk-container-id-3 div.sk-label label {\n",
       "  /* The background is the default theme color */\n",
       "  color: var(--sklearn-color-text-on-default-background);\n",
       "}\n",
       "\n",
       "/* On hover, darken the color of the background */\n",
       "#sk-container-id-3 div.sk-label:hover label.sk-toggleable__label {\n",
       "  color: var(--sklearn-color-text);\n",
       "  background-color: var(--sklearn-color-unfitted-level-2);\n",
       "}\n",
       "\n",
       "/* Label box, darken color on hover, fitted */\n",
       "#sk-container-id-3 div.sk-label.fitted:hover label.sk-toggleable__label.fitted {\n",
       "  color: var(--sklearn-color-text);\n",
       "  background-color: var(--sklearn-color-fitted-level-2);\n",
       "}\n",
       "\n",
       "/* Estimator label */\n",
       "\n",
       "#sk-container-id-3 div.sk-label label {\n",
       "  font-family: monospace;\n",
       "  font-weight: bold;\n",
       "  display: inline-block;\n",
       "  line-height: 1.2em;\n",
       "}\n",
       "\n",
       "#sk-container-id-3 div.sk-label-container {\n",
       "  text-align: center;\n",
       "}\n",
       "\n",
       "/* Estimator-specific */\n",
       "#sk-container-id-3 div.sk-estimator {\n",
       "  font-family: monospace;\n",
       "  border: 1px dotted var(--sklearn-color-border-box);\n",
       "  border-radius: 0.25em;\n",
       "  box-sizing: border-box;\n",
       "  margin-bottom: 0.5em;\n",
       "  /* unfitted */\n",
       "  background-color: var(--sklearn-color-unfitted-level-0);\n",
       "}\n",
       "\n",
       "#sk-container-id-3 div.sk-estimator.fitted {\n",
       "  /* fitted */\n",
       "  background-color: var(--sklearn-color-fitted-level-0);\n",
       "}\n",
       "\n",
       "/* on hover */\n",
       "#sk-container-id-3 div.sk-estimator:hover {\n",
       "  /* unfitted */\n",
       "  background-color: var(--sklearn-color-unfitted-level-2);\n",
       "}\n",
       "\n",
       "#sk-container-id-3 div.sk-estimator.fitted:hover {\n",
       "  /* fitted */\n",
       "  background-color: var(--sklearn-color-fitted-level-2);\n",
       "}\n",
       "\n",
       "/* Specification for estimator info (e.g. \"i\" and \"?\") */\n",
       "\n",
       "/* Common style for \"i\" and \"?\" */\n",
       "\n",
       ".sk-estimator-doc-link,\n",
       "a:link.sk-estimator-doc-link,\n",
       "a:visited.sk-estimator-doc-link {\n",
       "  float: right;\n",
       "  font-size: smaller;\n",
       "  line-height: 1em;\n",
       "  font-family: monospace;\n",
       "  background-color: var(--sklearn-color-background);\n",
       "  border-radius: 1em;\n",
       "  height: 1em;\n",
       "  width: 1em;\n",
       "  text-decoration: none !important;\n",
       "  margin-left: 1ex;\n",
       "  /* unfitted */\n",
       "  border: var(--sklearn-color-unfitted-level-1) 1pt solid;\n",
       "  color: var(--sklearn-color-unfitted-level-1);\n",
       "}\n",
       "\n",
       ".sk-estimator-doc-link.fitted,\n",
       "a:link.sk-estimator-doc-link.fitted,\n",
       "a:visited.sk-estimator-doc-link.fitted {\n",
       "  /* fitted */\n",
       "  border: var(--sklearn-color-fitted-level-1) 1pt solid;\n",
       "  color: var(--sklearn-color-fitted-level-1);\n",
       "}\n",
       "\n",
       "/* On hover */\n",
       "div.sk-estimator:hover .sk-estimator-doc-link:hover,\n",
       ".sk-estimator-doc-link:hover,\n",
       "div.sk-label-container:hover .sk-estimator-doc-link:hover,\n",
       ".sk-estimator-doc-link:hover {\n",
       "  /* unfitted */\n",
       "  background-color: var(--sklearn-color-unfitted-level-3);\n",
       "  color: var(--sklearn-color-background);\n",
       "  text-decoration: none;\n",
       "}\n",
       "\n",
       "div.sk-estimator.fitted:hover .sk-estimator-doc-link.fitted:hover,\n",
       ".sk-estimator-doc-link.fitted:hover,\n",
       "div.sk-label-container:hover .sk-estimator-doc-link.fitted:hover,\n",
       ".sk-estimator-doc-link.fitted:hover {\n",
       "  /* fitted */\n",
       "  background-color: var(--sklearn-color-fitted-level-3);\n",
       "  color: var(--sklearn-color-background);\n",
       "  text-decoration: none;\n",
       "}\n",
       "\n",
       "/* Span, style for the box shown on hovering the info icon */\n",
       ".sk-estimator-doc-link span {\n",
       "  display: none;\n",
       "  z-index: 9999;\n",
       "  position: relative;\n",
       "  font-weight: normal;\n",
       "  right: .2ex;\n",
       "  padding: .5ex;\n",
       "  margin: .5ex;\n",
       "  width: min-content;\n",
       "  min-width: 20ex;\n",
       "  max-width: 50ex;\n",
       "  color: var(--sklearn-color-text);\n",
       "  box-shadow: 2pt 2pt 4pt #999;\n",
       "  /* unfitted */\n",
       "  background: var(--sklearn-color-unfitted-level-0);\n",
       "  border: .5pt solid var(--sklearn-color-unfitted-level-3);\n",
       "}\n",
       "\n",
       ".sk-estimator-doc-link.fitted span {\n",
       "  /* fitted */\n",
       "  background: var(--sklearn-color-fitted-level-0);\n",
       "  border: var(--sklearn-color-fitted-level-3);\n",
       "}\n",
       "\n",
       ".sk-estimator-doc-link:hover span {\n",
       "  display: block;\n",
       "}\n",
       "\n",
       "/* \"?\"-specific style due to the `<a>` HTML tag */\n",
       "\n",
       "#sk-container-id-3 a.estimator_doc_link {\n",
       "  float: right;\n",
       "  font-size: 1rem;\n",
       "  line-height: 1em;\n",
       "  font-family: monospace;\n",
       "  background-color: var(--sklearn-color-background);\n",
       "  border-radius: 1rem;\n",
       "  height: 1rem;\n",
       "  width: 1rem;\n",
       "  text-decoration: none;\n",
       "  /* unfitted */\n",
       "  color: var(--sklearn-color-unfitted-level-1);\n",
       "  border: var(--sklearn-color-unfitted-level-1) 1pt solid;\n",
       "}\n",
       "\n",
       "#sk-container-id-3 a.estimator_doc_link.fitted {\n",
       "  /* fitted */\n",
       "  border: var(--sklearn-color-fitted-level-1) 1pt solid;\n",
       "  color: var(--sklearn-color-fitted-level-1);\n",
       "}\n",
       "\n",
       "/* On hover */\n",
       "#sk-container-id-3 a.estimator_doc_link:hover {\n",
       "  /* unfitted */\n",
       "  background-color: var(--sklearn-color-unfitted-level-3);\n",
       "  color: var(--sklearn-color-background);\n",
       "  text-decoration: none;\n",
       "}\n",
       "\n",
       "#sk-container-id-3 a.estimator_doc_link.fitted:hover {\n",
       "  /* fitted */\n",
       "  background-color: var(--sklearn-color-fitted-level-3);\n",
       "}\n",
       "</style><div id=\"sk-container-id-3\" class=\"sk-top-container\"><div class=\"sk-text-repr-fallback\"><pre>CategoricalImputer(imputation_method=&#x27;frequent&#x27;,\n",
       "                   variables=[&#x27;ps_ind_06_bin&#x27;, &#x27;ps_ind_07_bin&#x27;, &#x27;ps_ind_08_bin&#x27;,\n",
       "                              &#x27;ps_ind_09_bin&#x27;, &#x27;ps_ind_10_bin&#x27;, &#x27;ps_ind_11_bin&#x27;,\n",
       "                              &#x27;ps_ind_12_bin&#x27;, &#x27;ps_ind_13_bin&#x27;, &#x27;ps_ind_16_bin&#x27;,\n",
       "                              &#x27;ps_ind_17_bin&#x27;, &#x27;ps_ind_18_bin&#x27;,\n",
       "                              &#x27;ps_calc_15_bin&#x27;, &#x27;ps_calc_16_bin&#x27;,\n",
       "                              &#x27;ps_calc_17_bin&#x27;, &#x27;ps_calc_18_bin&#x27;,\n",
       "                              &#x27;ps_calc_19_bin&#x27;, &#x27;ps_calc_20_bin&#x27;])</pre><b>In a Jupyter environment, please rerun this cell to show the HTML representation or trust the notebook. <br />On GitHub, the HTML representation is unable to render, please try loading this page with nbviewer.org.</b></div><div class=\"sk-container\" hidden><div class=\"sk-item\"><div class=\"sk-estimator fitted sk-toggleable\"><input class=\"sk-toggleable__control sk-hidden--visually\" id=\"sk-estimator-id-3\" type=\"checkbox\" checked><label for=\"sk-estimator-id-3\" class=\"sk-toggleable__label fitted sk-toggleable__label-arrow fitted\">&nbsp;CategoricalImputer<span class=\"sk-estimator-doc-link fitted\">i<span>Fitted</span></span></label><div class=\"sk-toggleable__content fitted\"><pre>CategoricalImputer(imputation_method=&#x27;frequent&#x27;,\n",
       "                   variables=[&#x27;ps_ind_06_bin&#x27;, &#x27;ps_ind_07_bin&#x27;, &#x27;ps_ind_08_bin&#x27;,\n",
       "                              &#x27;ps_ind_09_bin&#x27;, &#x27;ps_ind_10_bin&#x27;, &#x27;ps_ind_11_bin&#x27;,\n",
       "                              &#x27;ps_ind_12_bin&#x27;, &#x27;ps_ind_13_bin&#x27;, &#x27;ps_ind_16_bin&#x27;,\n",
       "                              &#x27;ps_ind_17_bin&#x27;, &#x27;ps_ind_18_bin&#x27;,\n",
       "                              &#x27;ps_calc_15_bin&#x27;, &#x27;ps_calc_16_bin&#x27;,\n",
       "                              &#x27;ps_calc_17_bin&#x27;, &#x27;ps_calc_18_bin&#x27;,\n",
       "                              &#x27;ps_calc_19_bin&#x27;, &#x27;ps_calc_20_bin&#x27;])</pre></div> </div></div></div></div>"
      ],
      "text/plain": [
       "CategoricalImputer(imputation_method='frequent',\n",
       "                   variables=['ps_ind_06_bin', 'ps_ind_07_bin', 'ps_ind_08_bin',\n",
       "                              'ps_ind_09_bin', 'ps_ind_10_bin', 'ps_ind_11_bin',\n",
       "                              'ps_ind_12_bin', 'ps_ind_13_bin', 'ps_ind_16_bin',\n",
       "                              'ps_ind_17_bin', 'ps_ind_18_bin',\n",
       "                              'ps_calc_15_bin', 'ps_calc_16_bin',\n",
       "                              'ps_calc_17_bin', 'ps_calc_18_bin',\n",
       "                              'ps_calc_19_bin', 'ps_calc_20_bin'])"
      ]
     },
     "execution_count": 31,
     "metadata": {},
     "output_type": "execute_result"
    }
   ],
   "source": [
    "#Os missing values das features binárias serõa substituídos pelo valor mais frequente na coluna\n",
    "\n",
    "train[bin_features]=train[bin_features].astype('object') #converter para formato categórico para permitir a substituição\n",
    "bin_imputer_most_frequent=CategoricalImputer(imputation_method='frequent',variables=bin_features)\n",
    "bin_imputer_most_frequent.fit(train)"
   ]
  },
  {
   "cell_type": "markdown",
   "id": "5585f121",
   "metadata": {},
   "source": [
    "### Features Categóricas"
   ]
  },
  {
   "cell_type": "code",
   "execution_count": 32,
   "id": "4d892989",
   "metadata": {},
   "outputs": [
    {
     "data": {
      "text/plain": [
       "['ps_ind_02_cat',\n",
       " 'ps_ind_04_cat',\n",
       " 'ps_ind_05_cat',\n",
       " 'ps_car_01_cat',\n",
       " 'ps_car_02_cat',\n",
       " 'ps_car_03_cat',\n",
       " 'ps_car_04_cat',\n",
       " 'ps_car_05_cat',\n",
       " 'ps_car_06_cat',\n",
       " 'ps_car_07_cat',\n",
       " 'ps_car_08_cat',\n",
       " 'ps_car_09_cat',\n",
       " 'ps_car_10_cat',\n",
       " 'ps_car_11_cat']"
      ]
     },
     "execution_count": 32,
     "metadata": {},
     "output_type": "execute_result"
    }
   ],
   "source": [
    "cat_features"
   ]
  },
  {
   "cell_type": "code",
   "execution_count": 45,
   "id": "3d4a2842",
   "metadata": {},
   "outputs": [
    {
     "data": {
      "text/plain": [
       "ps_car_03_cat    0.690898\n",
       "ps_car_05_cat    0.447825\n",
       "ps_car_07_cat    0.019302\n",
       "ps_ind_05_cat    0.009760\n",
       "ps_car_09_cat    0.000956\n",
       "ps_ind_02_cat    0.000363\n",
       "ps_car_01_cat    0.000180\n",
       "ps_ind_04_cat    0.000139\n",
       "ps_car_02_cat    0.000008\n",
       "ps_car_04_cat    0.000000\n",
       "ps_car_06_cat    0.000000\n",
       "ps_car_08_cat    0.000000\n",
       "ps_car_10_cat    0.000000\n",
       "ps_car_11_cat    0.000000\n",
       "dtype: float64"
      ]
     },
     "execution_count": 45,
     "metadata": {},
     "output_type": "execute_result"
    }
   ],
   "source": [
    "#proporção de missing values\n",
    "train[cat_features].isna().mean().sort_values(ascending=False)\n"
   ]
  },
  {
   "cell_type": "markdown",
   "id": "6e22701b",
   "metadata": {},
   "source": [
    "Duas estratégias para substituição doos missing values:\n",
    "\n",
    "1) Features com menos de 1% de valores ausentes:\n",
    "\n",
    "        Substituição por valor mais comum\n",
    "\n",
    "2) Features com mais de 1% de dados ausentes:\n",
    "        \n",
    "        Substituição dos valores ausentes pela string missing"
   ]
  },
  {
   "cell_type": "code",
   "execution_count": 49,
   "id": "bfe3697b",
   "metadata": {},
   "outputs": [],
   "source": [
    "missing_threshold=1/100\n",
    "cat_var_muitos_na=[feature.index for feature in  pd.DataFrame(train[cat_features].isna().mean()) if feature>missing_threshold]"
   ]
  },
  {
   "cell_type": "code",
   "execution_count": 51,
   "id": "241d3377",
   "metadata": {},
   "outputs": [
    {
     "name": "stdout",
     "output_type": "stream",
     "text": [
      "0\n"
     ]
    }
   ],
   "source": [
    "for feature in  pd.DataFrame(train[cat_features].isna().mean()):\n",
    "    print(feature)"
   ]
  },
  {
   "cell_type": "code",
   "execution_count": 52,
   "id": "19006f6d",
   "metadata": {},
   "outputs": [
    {
     "data": {
      "text/html": [
       "<div>\n",
       "<style scoped>\n",
       "    .dataframe tbody tr th:only-of-type {\n",
       "        vertical-align: middle;\n",
       "    }\n",
       "\n",
       "    .dataframe tbody tr th {\n",
       "        vertical-align: top;\n",
       "    }\n",
       "\n",
       "    .dataframe thead th {\n",
       "        text-align: right;\n",
       "    }\n",
       "</style>\n",
       "<table border=\"1\" class=\"dataframe\">\n",
       "  <thead>\n",
       "    <tr style=\"text-align: right;\">\n",
       "      <th></th>\n",
       "      <th>0</th>\n",
       "    </tr>\n",
       "  </thead>\n",
       "  <tbody>\n",
       "    <tr>\n",
       "      <th>ps_ind_02_cat</th>\n",
       "      <td>0.000363</td>\n",
       "    </tr>\n",
       "    <tr>\n",
       "      <th>ps_ind_04_cat</th>\n",
       "      <td>0.000139</td>\n",
       "    </tr>\n",
       "    <tr>\n",
       "      <th>ps_ind_05_cat</th>\n",
       "      <td>0.009760</td>\n",
       "    </tr>\n",
       "    <tr>\n",
       "      <th>ps_car_01_cat</th>\n",
       "      <td>0.000180</td>\n",
       "    </tr>\n",
       "    <tr>\n",
       "      <th>ps_car_02_cat</th>\n",
       "      <td>0.000008</td>\n",
       "    </tr>\n",
       "    <tr>\n",
       "      <th>ps_car_03_cat</th>\n",
       "      <td>0.690898</td>\n",
       "    </tr>\n",
       "    <tr>\n",
       "      <th>ps_car_04_cat</th>\n",
       "      <td>0.000000</td>\n",
       "    </tr>\n",
       "    <tr>\n",
       "      <th>ps_car_05_cat</th>\n",
       "      <td>0.447825</td>\n",
       "    </tr>\n",
       "    <tr>\n",
       "      <th>ps_car_06_cat</th>\n",
       "      <td>0.000000</td>\n",
       "    </tr>\n",
       "    <tr>\n",
       "      <th>ps_car_07_cat</th>\n",
       "      <td>0.019302</td>\n",
       "    </tr>\n",
       "    <tr>\n",
       "      <th>ps_car_08_cat</th>\n",
       "      <td>0.000000</td>\n",
       "    </tr>\n",
       "    <tr>\n",
       "      <th>ps_car_09_cat</th>\n",
       "      <td>0.000956</td>\n",
       "    </tr>\n",
       "    <tr>\n",
       "      <th>ps_car_10_cat</th>\n",
       "      <td>0.000000</td>\n",
       "    </tr>\n",
       "    <tr>\n",
       "      <th>ps_car_11_cat</th>\n",
       "      <td>0.000000</td>\n",
       "    </tr>\n",
       "  </tbody>\n",
       "</table>\n",
       "</div>"
      ],
      "text/plain": [
       "                      0\n",
       "ps_ind_02_cat  0.000363\n",
       "ps_ind_04_cat  0.000139\n",
       "ps_ind_05_cat  0.009760\n",
       "ps_car_01_cat  0.000180\n",
       "ps_car_02_cat  0.000008\n",
       "ps_car_03_cat  0.690898\n",
       "ps_car_04_cat  0.000000\n",
       "ps_car_05_cat  0.447825\n",
       "ps_car_06_cat  0.000000\n",
       "ps_car_07_cat  0.019302\n",
       "ps_car_08_cat  0.000000\n",
       "ps_car_09_cat  0.000956\n",
       "ps_car_10_cat  0.000000\n",
       "ps_car_11_cat  0.000000"
      ]
     },
     "execution_count": 52,
     "metadata": {},
     "output_type": "execute_result"
    }
   ],
   "source": [
    "pd.DataFrame(train[cat_features].isna().mean())"
   ]
  },
  {
   "cell_type": "code",
   "execution_count": null,
   "id": "07636b92",
   "metadata": {},
   "outputs": [],
   "source": []
  },
  {
   "cell_type": "code",
   "execution_count": null,
   "id": "25110d4c",
   "metadata": {},
   "outputs": [],
   "source": []
  },
  {
   "cell_type": "code",
   "execution_count": null,
   "id": "882a1923",
   "metadata": {},
   "outputs": [],
   "source": []
  },
  {
   "cell_type": "code",
   "execution_count": null,
   "id": "ad9ede47",
   "metadata": {},
   "outputs": [],
   "source": []
  },
  {
   "cell_type": "code",
   "execution_count": null,
   "id": "0ae0c10c",
   "metadata": {},
   "outputs": [],
   "source": []
  },
  {
   "cell_type": "code",
   "execution_count": null,
   "id": "68600fa8",
   "metadata": {},
   "outputs": [],
   "source": []
  },
  {
   "cell_type": "code",
   "execution_count": null,
   "id": "d1d73659",
   "metadata": {},
   "outputs": [],
   "source": []
  },
  {
   "cell_type": "code",
   "execution_count": null,
   "id": "038c4160",
   "metadata": {},
   "outputs": [],
   "source": []
  },
  {
   "cell_type": "code",
   "execution_count": null,
   "id": "d6c141fa",
   "metadata": {},
   "outputs": [],
   "source": []
  },
  {
   "cell_type": "code",
   "execution_count": null,
   "id": "54e9034f",
   "metadata": {},
   "outputs": [],
   "source": []
  },
  {
   "cell_type": "code",
   "execution_count": null,
   "id": "369bc6fe",
   "metadata": {},
   "outputs": [],
   "source": []
  },
  {
   "cell_type": "code",
   "execution_count": null,
   "id": "380fc282",
   "metadata": {},
   "outputs": [],
   "source": []
  },
  {
   "cell_type": "code",
   "execution_count": null,
   "id": "db0ed708",
   "metadata": {},
   "outputs": [],
   "source": []
  },
  {
   "cell_type": "code",
   "execution_count": 73,
   "id": "bbba2bb9",
   "metadata": {},
   "outputs": [
    {
     "data": {
      "text/plain": [
       "target         0.000000\n",
       "ps_ind_01      0.000000\n",
       "ps_ind_03      0.000000\n",
       "ps_ind_14      0.000000\n",
       "ps_ind_15      0.000000\n",
       "ps_reg_01      0.000000\n",
       "ps_reg_02      0.000000\n",
       "ps_reg_03     18.106490\n",
       "ps_car_11      0.000840\n",
       "ps_car_12      0.000168\n",
       "ps_car_13      0.000000\n",
       "ps_car_14      7.160474\n",
       "ps_car_15      0.000000\n",
       "ps_calc_01     0.000000\n",
       "ps_calc_02     0.000000\n",
       "ps_calc_03     0.000000\n",
       "ps_calc_04     0.000000\n",
       "ps_calc_05     0.000000\n",
       "ps_calc_06     0.000000\n",
       "ps_calc_07     0.000000\n",
       "ps_calc_08     0.000000\n",
       "ps_calc_09     0.000000\n",
       "ps_calc_10     0.000000\n",
       "ps_calc_11     0.000000\n",
       "ps_calc_12     0.000000\n",
       "ps_calc_13     0.000000\n",
       "ps_calc_14     0.000000\n",
       "dtype: float64"
      ]
     },
     "execution_count": 73,
     "metadata": {},
     "output_type": "execute_result"
    }
   ],
   "source": [
    "#Propoção de valores ausentes entre as variáveis contínuas e ordinárias.\n",
    "(train[cont_ordinal_features].isna().sum()/len(train))*100"
   ]
  },
  {
   "cell_type": "code",
   "execution_count": 74,
   "id": "8e7db682",
   "metadata": {},
   "outputs": [],
   "source": [
    "#cont_ordinal_features_hp - lista de variáveis contínuas ou ordinárias com alta proporção de valores ausentes\n",
    "#cont_ordinal_features_lp - lista de variáveis contínuas ou ordinárias com baixa proporção de valores ausentes\n",
    "\n",
    "cont_ordinal_features_hp=['ps_reg_03','ps_car_14']\n",
    "cont_ordinal_features_lp=[i for i in cont_ordinal_features if i not in cont_ordinal_features_hp]"
   ]
  },
  {
   "cell_type": "code",
   "execution_count": 75,
   "id": "328247f0",
   "metadata": {},
   "outputs": [],
   "source": [
    "#Diferentes estratégias serão adotadas para substituir os valores ausentes"
   ]
  },
  {
   "cell_type": "code",
   "execution_count": 76,
   "id": "a5b815be",
   "metadata": {},
   "outputs": [],
   "source": [
    "#Substituindo os valores ausentes das variáveis binárias\n",
    "imputer_binary=SimpleImputer(strategy='most_frequent')\n",
    "imputer_binary.fit(train[binary_features])\n",
    "train[binary_features]=imputer_binary.transform(train[binary_features])"
   ]
  },
  {
   "cell_type": "code",
   "execution_count": 77,
   "id": "6d32a8d3",
   "metadata": {},
   "outputs": [],
   "source": [
    "#Variáveis categóricas\n",
    "'''\n",
    "categorical_features_lp\n",
    "O valor mais frequente será usado para substituir os valores ausentes. Pela proporção de valores ausentes \n",
    "ser baixa, a adição dos valores terá efeito desprezível nos resultados.\n",
    "\n",
    "categorical_features_hp\n",
    "Os valores ausentes serão substituídos por uma label indicando que eles estavam ausentes. Como havia uma elevada \n",
    "proporção desses dados, a adição de valores novos alteraria a distribuição original dos dados e poderia ter impacto\n",
    "significativo nos resultados finais. A substituição pelo valor mais frequente também será testada\n",
    "'''\n",
    "\n",
    "\n",
    "imputer_categorical_lp=SimpleImputer(strategy='most_frequent')\n",
    "imputer_categorical_lp.fit(train[categorical_features_lp])\n",
    "train[categorical_features_lp]=imputer_categorical_lp.fit_transform(train[categorical_features_lp])\n",
    "\n",
    "imputer_categorical_hp=SimpleImputer(strategy='constant',fill_value='missing')\n",
    "imputer_categorical_hp.fit(train[categorical_features_hp])\n",
    "train[categorical_features_hp]=imputer_categorical_hp.transform(train[categorical_features_hp])"
   ]
  },
  {
   "cell_type": "code",
   "execution_count": 78,
   "id": "c5f6f80f",
   "metadata": {},
   "outputs": [
    {
     "name": "stdout",
     "output_type": "stream",
     "text": [
      "<class 'pandas.core.frame.DataFrame'>\n",
      "RangeIndex: 595212 entries, 0 to 595211\n",
      "Data columns (total 1 columns):\n",
      " #   Column         Non-Null Count   Dtype \n",
      "---  ------         --------------   ----- \n",
      " 0   ps_car_03_cat  595212 non-null  object\n",
      "dtypes: object(1)\n",
      "memory usage: 4.5+ MB\n"
     ]
    }
   ],
   "source": [
    "train[categorical_features_hp].info()\n"
   ]
  },
  {
   "cell_type": "code",
   "execution_count": 79,
   "id": "4e5b5140",
   "metadata": {},
   "outputs": [],
   "source": [
    "#Variáveis contínuas e ordinárias\n",
    "\n",
    "'''\n",
    "Para as variáveis com baixa proporção de valores ausentes os valores ausentes serão substituídos pela mediana\n",
    "dos dados da variável. Já para as variáveis com alta proporção de dados ausentes, além da substituição pela \n",
    "mediana, também serão criadas novas variáveis indicando se um valor estava ausente. Uma outra alternativa que \n",
    "será testada substituirá os dados ausentes pela mediana dos n vizinhos mais próximos.\n",
    "'''\n",
    "\n",
    "train['ps_reg_03_new']=pd.Series(np.where(train['ps_reg_03'].isna(),'missing','not_missing'))\n",
    "train['ps_car_14_new']=pd.Series(np.where(train['ps_car_14'].isna(),'missing','not_missing'))\n",
    "imputer_cont_ordinal=SimpleImputer(strategy='median')\n",
    "imputer_cont_ordinal.fit(train[cont_ordinal_features])\n",
    "#train[cont_ordinal_features]=imputer_cont_ordinal.fit_transform(train[cont_ordinal_features])\n",
    "\n",
    "#Outra opção seria usar knn para calcular os vizinhos maś próximos do valor ausente. A mediana seria então\n",
    "#calculada então levando em conta somente os vizinhos mais próximos\n",
    "\n",
    "class apply_knn_imputer(BaseEstimator,TransformerMixin):\n",
    "    def __init__(self,feature_name=cont_ordinal_features,n_neighbours=5,weights=\"uniform\"):\n",
    "        self.feature_name=feature_name\n",
    "        self.n_neighbours=n_neighbours\n",
    "        self.weights=weights\n",
    "    def fit(self,X,y=None):\n",
    "        self.imputer_KNN_ = KNNImputer(n_neighbors=self.n_neighbours, weights=self.weights)\n",
    "        self.imputer_KNN_.fit(X[self.feature_name])\n",
    "        return self\n",
    "    def transform(self,X):\n",
    "        check_is_fitted(self)\n",
    "        X2=self.imputer_KNN_.transform(X[self.feature_name])\n",
    "        return self.imputer_KNN_.transform(X[self.feature_name])\n"
   ]
  },
  {
   "cell_type": "markdown",
   "id": "b4360f30",
   "metadata": {},
   "source": [
    "### Conclusão"
   ]
  },
  {
   "cell_type": "markdown",
   "id": "0e1f56c0",
   "metadata": {},
   "source": []
  },
  {
   "cell_type": "markdown",
   "id": "95c1985e",
   "metadata": {},
   "source": [
    "## Encoding"
   ]
  },
  {
   "cell_type": "markdown",
   "id": "d849ba20",
   "metadata": {},
   "source": [
    "### Rare labels"
   ]
  },
  {
   "cell_type": "code",
   "execution_count": 80,
   "id": "9758b8d1",
   "metadata": {},
   "outputs": [],
   "source": [
    "#Contando o número de amostras para determinar se existe alguma label rara"
   ]
  },
  {
   "cell_type": "code",
   "execution_count": 81,
   "id": "dfc56ef6",
   "metadata": {},
   "outputs": [],
   "source": [
    "copy_train=train.copy()  \n",
    "# criando uma cópia do dataset"
   ]
  },
  {
   "cell_type": "code",
   "execution_count": 82,
   "id": "54c7eaeb",
   "metadata": {},
   "outputs": [],
   "source": [
    "count_labels={}\n",
    "for i in categorical_features:\n",
    "    count_labels[i]=(copy_train[[i]].value_counts()/len(copy_train))*100\n",
    "    "
   ]
  },
  {
   "cell_type": "code",
   "execution_count": 83,
   "id": "4ae67d28",
   "metadata": {},
   "outputs": [
    {
     "data": {
      "text/plain": [
       "{'ps_ind_02_cat': ps_ind_02_cat\n",
       " 1.0              72.591782\n",
       " 2.0              20.761174\n",
       " 3.0               4.735456\n",
       " 4.0               1.911588\n",
       " dtype: float64,\n",
       " 'ps_ind_04_cat': ps_ind_04_cat\n",
       " 0.0              58.30662\n",
       " 1.0              41.69338\n",
       " dtype: float64,\n",
       " 'ps_ind_05_cat': ps_ind_05_cat\n",
       " 0.0              89.685356\n",
       " 6.0               3.471368\n",
       " 4.0               3.081927\n",
       " 1.0               1.398157\n",
       " 3.0               1.383205\n",
       " 2.0               0.702943\n",
       " 5.0               0.277044\n",
       " dtype: float64,\n",
       " 'ps_car_01_cat': ps_car_01_cat\n",
       " 11.0             34.891770\n",
       " 7.0              30.114816\n",
       " 6.0              10.482484\n",
       " 10.0              8.414985\n",
       " 4.0               4.397425\n",
       " 9.0               3.414414\n",
       " 5.0               3.047990\n",
       " 8.0               2.535735\n",
       " 3.0               1.118593\n",
       " 0.0               0.991915\n",
       " 2.0               0.360208\n",
       " 1.0               0.229666\n",
       " dtype: float64,\n",
       " 'ps_car_02_cat': ps_car_02_cat\n",
       " 1.0              82.994798\n",
       " 0.0              17.005202\n",
       " dtype: float64,\n",
       " 'ps_car_03_cat': ps_car_03_cat\n",
       " missing          69.089837\n",
       " 1.0              18.599927\n",
       " 0.0              12.310236\n",
       " dtype: float64,\n",
       " 'ps_car_04_cat': ps_car_04_cat\n",
       " 0                83.429266\n",
       " 1                 5.395557\n",
       " 2                 3.993535\n",
       " 8                 3.460616\n",
       " 9                 3.197852\n",
       " 6                 0.262091\n",
       " 3                 0.107525\n",
       " 5                 0.091564\n",
       " 4                 0.038642\n",
       " 7                 0.023353\n",
       " dtype: float64,\n",
       " 'ps_car_06_cat': ps_car_06_cat\n",
       " 11               22.097505\n",
       " 1                19.889720\n",
       " 0                18.551373\n",
       " 14                9.954940\n",
       " 10                5.622534\n",
       " 4                 5.231077\n",
       " 15                3.651136\n",
       " 6                 3.519922\n",
       " 9                 2.959786\n",
       " 7                 2.714663\n",
       " 3                 2.015584\n",
       " 13                1.049374\n",
       " 17                0.829116\n",
       " 16                0.769810\n",
       " 12                0.400866\n",
       " 2                 0.269988\n",
       " 8                 0.237226\n",
       " 5                 0.235378\n",
       " dtype: float64,\n",
       " 'ps_car_07_cat': ps_car_07_cat\n",
       " 1.0              94.863175\n",
       " 0.0               5.136825\n",
       " dtype: float64,\n",
       " 'ps_car_08_cat': ps_car_08_cat\n",
       " 1                83.208\n",
       " 0                16.792\n",
       " dtype: float64,\n",
       " 'ps_car_09_cat': ps_car_09_cat\n",
       " 2.0              59.483176\n",
       " 0.0              32.680457\n",
       " 1.0               4.885654\n",
       " 3.0               2.479117\n",
       " 4.0               0.471597\n",
       " dtype: float64,\n",
       " 'ps_car_11_cat': ps_car_11_cat\n",
       " 104              14.294571\n",
       " 103               4.076195\n",
       " 64                3.742868\n",
       " 87                2.873934\n",
       " 32                2.113197\n",
       "                    ...    \n",
       " 58                0.245963\n",
       " 81                0.240755\n",
       " 56                0.213705\n",
       " 18                0.207153\n",
       " 63                0.185312\n",
       " Length: 104, dtype: float64}"
      ]
     },
     "execution_count": 83,
     "metadata": {},
     "output_type": "execute_result"
    }
   ],
   "source": [
    "#Todas as labels de uma variável cuja proporção estejam abaixo de um valor especificado serão agrupadas\n",
    "#em uma única label\n",
    "\n",
    "count_labels\n"
   ]
  },
  {
   "cell_type": "code",
   "execution_count": 84,
   "id": "5040a357",
   "metadata": {},
   "outputs": [
    {
     "name": "stderr",
     "output_type": "stream",
     "text": [
      "/home/rodolfo/anaconda3/envs/estudo/lib/python3.10/site-packages/feature_engine/encoding/rare_label.py:216: UserWarning: The number of unique categories for variable ps_ind_04_cat is less than that indicated in n_categories. Thus, all categories will be considered frequent\n",
      "  warnings.warn(\n",
      "/home/rodolfo/anaconda3/envs/estudo/lib/python3.10/site-packages/feature_engine/encoding/rare_label.py:216: UserWarning: The number of unique categories for variable ps_car_02_cat is less than that indicated in n_categories. Thus, all categories will be considered frequent\n",
      "  warnings.warn(\n",
      "/home/rodolfo/anaconda3/envs/estudo/lib/python3.10/site-packages/feature_engine/encoding/rare_label.py:216: UserWarning: The number of unique categories for variable ps_car_07_cat is less than that indicated in n_categories. Thus, all categories will be considered frequent\n",
      "  warnings.warn(\n",
      "/home/rodolfo/anaconda3/envs/estudo/lib/python3.10/site-packages/feature_engine/encoding/rare_label.py:216: UserWarning: The number of unique categories for variable ps_car_08_cat is less than that indicated in n_categories. Thus, all categories will be considered frequent\n",
      "  warnings.warn(\n"
     ]
    }
   ],
   "source": [
    "min_prop    =0.02 #a proporção mínima que uma label deve ter para ser considerada frequente\n",
    "n_categories=2    #o número mínimo de categorias que uma variável deve ter para que o encoder busque as labels\n",
    "                  #frequentes. Se uma variável tem um número menor de categorias todas elas são consideradas\n",
    "                  #frequentes\n",
    "        \n",
    "rare_encoder=RareLabelEncoder(tol=min_prop,n_categories=n_categories,variables=categorical_features,max_n_categories=5)\n",
    "rare_encoder.fit(copy_train)\n",
    "copy_train=rare_encoder.transform(copy_train)"
   ]
  },
  {
   "cell_type": "code",
   "execution_count": 85,
   "id": "0a3ffb3f",
   "metadata": {},
   "outputs": [],
   "source": [
    "count_labels_encoded={}\n",
    "for i in categorical_features:\n",
    "    count_labels_encoded[i]=(copy_train[[i]].value_counts()/len(copy_train))*100\n",
    "    "
   ]
  },
  {
   "cell_type": "code",
   "execution_count": 86,
   "id": "88da1978",
   "metadata": {},
   "outputs": [
    {
     "data": {
      "text/plain": [
       "{'ps_ind_02_cat': ps_ind_02_cat\n",
       " 1.0              72.591782\n",
       " 2.0              20.761174\n",
       " 3.0               4.735456\n",
       " Rare              1.911588\n",
       " dtype: float64,\n",
       " 'ps_ind_04_cat': ps_ind_04_cat\n",
       " 0.0              58.30662\n",
       " 1.0              41.69338\n",
       " dtype: float64,\n",
       " 'ps_ind_05_cat': ps_ind_05_cat\n",
       " 0.0              89.685356\n",
       " Rare              3.761349\n",
       " 6.0               3.471368\n",
       " 4.0               3.081927\n",
       " dtype: float64,\n",
       " 'ps_car_01_cat': ps_car_01_cat\n",
       " 11.0             34.891770\n",
       " 7.0              30.114816\n",
       " Rare             11.698521\n",
       " 6.0              10.482484\n",
       " 10.0              8.414985\n",
       " 4.0               4.397425\n",
       " dtype: float64,\n",
       " 'ps_car_02_cat': ps_car_02_cat\n",
       " 1.0              82.994798\n",
       " 0.0              17.005202\n",
       " dtype: float64,\n",
       " 'ps_car_03_cat': ps_car_03_cat\n",
       " missing          69.089837\n",
       " 1.0              18.599927\n",
       " 0.0              12.310236\n",
       " dtype: float64,\n",
       " 'ps_car_04_cat': ps_car_04_cat\n",
       " 0                83.429266\n",
       " 1                 5.395557\n",
       " 2                 3.993535\n",
       " 8                 3.460616\n",
       " 9                 3.197852\n",
       " Rare              0.523175\n",
       " dtype: float64,\n",
       " 'ps_car_06_cat': ps_car_06_cat\n",
       " Rare             23.883927\n",
       " 11               22.097505\n",
       " 1                19.889720\n",
       " 0                18.551373\n",
       " 14                9.954940\n",
       " 10                5.622534\n",
       " dtype: float64,\n",
       " 'ps_car_07_cat': ps_car_07_cat\n",
       " 1.0              94.863175\n",
       " 0.0               5.136825\n",
       " dtype: float64,\n",
       " 'ps_car_08_cat': ps_car_08_cat\n",
       " 1                83.208\n",
       " 0                16.792\n",
       " dtype: float64,\n",
       " 'ps_car_09_cat': ps_car_09_cat\n",
       " 2.0              59.483176\n",
       " 0.0              32.680457\n",
       " 1.0               4.885654\n",
       " 3.0               2.479117\n",
       " Rare              0.471597\n",
       " dtype: float64,\n",
       " 'ps_car_11_cat': ps_car_11_cat\n",
       " Rare             72.899236\n",
       " 104              14.294571\n",
       " 103               4.076195\n",
       " 64                3.742868\n",
       " 87                2.873934\n",
       " 32                2.113197\n",
       " dtype: float64}"
      ]
     },
     "execution_count": 86,
     "metadata": {},
     "output_type": "execute_result"
    }
   ],
   "source": [
    "count_labels_encoded"
   ]
  },
  {
   "cell_type": "markdown",
   "id": "5711d694",
   "metadata": {},
   "source": [
    "###  Encoding"
   ]
  },
  {
   "cell_type": "code",
   "execution_count": 87,
   "id": "9021ec3e",
   "metadata": {},
   "outputs": [],
   "source": [
    "#Duas técnicas serão empregadas para codificar as variáveis binária e caegóricas. Uma delas sera mean encoding.\n",
    "#Essa técnica tem a vantagem de não criar novas variáveis e também de criar uma relação monotônica entre as \n",
    "#variáveis e a target feature. Outra técnica que será testada será one-hot-encoding"
   ]
  },
  {
   "cell_type": "code",
   "execution_count": 88,
   "id": "3cc46129",
   "metadata": {},
   "outputs": [
    {
     "data": {
      "text/plain": [
       "['ps_ind_02_cat',\n",
       " 'ps_ind_04_cat',\n",
       " 'ps_ind_05_cat',\n",
       " 'ps_car_01_cat',\n",
       " 'ps_car_02_cat',\n",
       " 'ps_car_03_cat',\n",
       " 'ps_car_04_cat',\n",
       " 'ps_car_06_cat',\n",
       " 'ps_car_07_cat',\n",
       " 'ps_car_08_cat',\n",
       " 'ps_car_09_cat',\n",
       " 'ps_car_11_cat',\n",
       " 'ps_ind_06_bin',\n",
       " 'ps_ind_07_bin',\n",
       " 'ps_ind_08_bin',\n",
       " 'ps_ind_09_bin',\n",
       " 'ps_ind_12_bin',\n",
       " 'ps_ind_16_bin',\n",
       " 'ps_ind_17_bin',\n",
       " 'ps_ind_18_bin']"
      ]
     },
     "execution_count": 88,
     "metadata": {},
     "output_type": "execute_result"
    }
   ],
   "source": [
    "categorical_features+binary_features"
   ]
  },
  {
   "cell_type": "code",
   "execution_count": 89,
   "id": "9a5314cb",
   "metadata": {},
   "outputs": [],
   "source": [
    "#Mean Encoding"
   ]
  },
  {
   "cell_type": "code",
   "execution_count": 90,
   "id": "384ea049",
   "metadata": {},
   "outputs": [],
   "source": [
    "mean_encoder=MeanEncoder(variables=categorical_features+binary_features)"
   ]
  },
  {
   "cell_type": "code",
   "execution_count": 91,
   "id": "cdc5e805",
   "metadata": {},
   "outputs": [],
   "source": [
    "y_copy_train=copy_train['target'].copy()"
   ]
  },
  {
   "cell_type": "code",
   "execution_count": 92,
   "id": "79898ee1",
   "metadata": {},
   "outputs": [],
   "source": [
    "copy_train.drop(columns='target',inplace=True)"
   ]
  },
  {
   "cell_type": "code",
   "execution_count": 93,
   "id": "50cdcea6",
   "metadata": {},
   "outputs": [
    {
     "data": {
      "text/html": [
       "<style>#sk-container-id-1 {color: black;background-color: white;}#sk-container-id-1 pre{padding: 0;}#sk-container-id-1 div.sk-toggleable {background-color: white;}#sk-container-id-1 label.sk-toggleable__label {cursor: pointer;display: block;width: 100%;margin-bottom: 0;padding: 0.3em;box-sizing: border-box;text-align: center;}#sk-container-id-1 label.sk-toggleable__label-arrow:before {content: \"▸\";float: left;margin-right: 0.25em;color: #696969;}#sk-container-id-1 label.sk-toggleable__label-arrow:hover:before {color: black;}#sk-container-id-1 div.sk-estimator:hover label.sk-toggleable__label-arrow:before {color: black;}#sk-container-id-1 div.sk-toggleable__content {max-height: 0;max-width: 0;overflow: hidden;text-align: left;background-color: #f0f8ff;}#sk-container-id-1 div.sk-toggleable__content pre {margin: 0.2em;color: black;border-radius: 0.25em;background-color: #f0f8ff;}#sk-container-id-1 input.sk-toggleable__control:checked~div.sk-toggleable__content {max-height: 200px;max-width: 100%;overflow: auto;}#sk-container-id-1 input.sk-toggleable__control:checked~label.sk-toggleable__label-arrow:before {content: \"▾\";}#sk-container-id-1 div.sk-estimator input.sk-toggleable__control:checked~label.sk-toggleable__label {background-color: #d4ebff;}#sk-container-id-1 div.sk-label input.sk-toggleable__control:checked~label.sk-toggleable__label {background-color: #d4ebff;}#sk-container-id-1 input.sk-hidden--visually {border: 0;clip: rect(1px 1px 1px 1px);clip: rect(1px, 1px, 1px, 1px);height: 1px;margin: -1px;overflow: hidden;padding: 0;position: absolute;width: 1px;}#sk-container-id-1 div.sk-estimator {font-family: monospace;background-color: #f0f8ff;border: 1px dotted black;border-radius: 0.25em;box-sizing: border-box;margin-bottom: 0.5em;}#sk-container-id-1 div.sk-estimator:hover {background-color: #d4ebff;}#sk-container-id-1 div.sk-parallel-item::after {content: \"\";width: 100%;border-bottom: 1px solid gray;flex-grow: 1;}#sk-container-id-1 div.sk-label:hover label.sk-toggleable__label {background-color: #d4ebff;}#sk-container-id-1 div.sk-serial::before {content: \"\";position: absolute;border-left: 1px solid gray;box-sizing: border-box;top: 0;bottom: 0;left: 50%;z-index: 0;}#sk-container-id-1 div.sk-serial {display: flex;flex-direction: column;align-items: center;background-color: white;padding-right: 0.2em;padding-left: 0.2em;position: relative;}#sk-container-id-1 div.sk-item {position: relative;z-index: 1;}#sk-container-id-1 div.sk-parallel {display: flex;align-items: stretch;justify-content: center;background-color: white;position: relative;}#sk-container-id-1 div.sk-item::before, #sk-container-id-1 div.sk-parallel-item::before {content: \"\";position: absolute;border-left: 1px solid gray;box-sizing: border-box;top: 0;bottom: 0;left: 50%;z-index: -1;}#sk-container-id-1 div.sk-parallel-item {display: flex;flex-direction: column;z-index: 1;position: relative;background-color: white;}#sk-container-id-1 div.sk-parallel-item:first-child::after {align-self: flex-end;width: 50%;}#sk-container-id-1 div.sk-parallel-item:last-child::after {align-self: flex-start;width: 50%;}#sk-container-id-1 div.sk-parallel-item:only-child::after {width: 0;}#sk-container-id-1 div.sk-dashed-wrapped {border: 1px dashed gray;margin: 0 0.4em 0.5em 0.4em;box-sizing: border-box;padding-bottom: 0.4em;background-color: white;}#sk-container-id-1 div.sk-label label {font-family: monospace;font-weight: bold;display: inline-block;line-height: 1.2em;}#sk-container-id-1 div.sk-label-container {text-align: center;}#sk-container-id-1 div.sk-container {/* jupyter's `normalize.less` sets `[hidden] { display: none; }` but bootstrap.min.css set `[hidden] { display: none !important; }` so we also need the `!important` here to be able to override the default hidden behavior on the sphinx rendered scikit-learn.org. See: https://github.com/scikit-learn/scikit-learn/issues/21755 */display: inline-block !important;position: relative;}#sk-container-id-1 div.sk-text-repr-fallback {display: none;}</style><div id=\"sk-container-id-1\" class=\"sk-top-container\"><div class=\"sk-text-repr-fallback\"><pre>MeanEncoder(variables=[&#x27;ps_ind_02_cat&#x27;, &#x27;ps_ind_04_cat&#x27;, &#x27;ps_ind_05_cat&#x27;,\n",
       "                       &#x27;ps_car_01_cat&#x27;, &#x27;ps_car_02_cat&#x27;, &#x27;ps_car_03_cat&#x27;,\n",
       "                       &#x27;ps_car_04_cat&#x27;, &#x27;ps_car_06_cat&#x27;, &#x27;ps_car_07_cat&#x27;,\n",
       "                       &#x27;ps_car_08_cat&#x27;, &#x27;ps_car_09_cat&#x27;, &#x27;ps_car_11_cat&#x27;,\n",
       "                       &#x27;ps_ind_06_bin&#x27;, &#x27;ps_ind_07_bin&#x27;, &#x27;ps_ind_08_bin&#x27;,\n",
       "                       &#x27;ps_ind_09_bin&#x27;, &#x27;ps_ind_12_bin&#x27;, &#x27;ps_ind_16_bin&#x27;,\n",
       "                       &#x27;ps_ind_17_bin&#x27;, &#x27;ps_ind_18_bin&#x27;])</pre><b>In a Jupyter environment, please rerun this cell to show the HTML representation or trust the notebook. <br />On GitHub, the HTML representation is unable to render, please try loading this page with nbviewer.org.</b></div><div class=\"sk-container\" hidden><div class=\"sk-item\"><div class=\"sk-estimator sk-toggleable\"><input class=\"sk-toggleable__control sk-hidden--visually\" id=\"sk-estimator-id-1\" type=\"checkbox\" checked><label for=\"sk-estimator-id-1\" class=\"sk-toggleable__label sk-toggleable__label-arrow\">MeanEncoder</label><div class=\"sk-toggleable__content\"><pre>MeanEncoder(variables=[&#x27;ps_ind_02_cat&#x27;, &#x27;ps_ind_04_cat&#x27;, &#x27;ps_ind_05_cat&#x27;,\n",
       "                       &#x27;ps_car_01_cat&#x27;, &#x27;ps_car_02_cat&#x27;, &#x27;ps_car_03_cat&#x27;,\n",
       "                       &#x27;ps_car_04_cat&#x27;, &#x27;ps_car_06_cat&#x27;, &#x27;ps_car_07_cat&#x27;,\n",
       "                       &#x27;ps_car_08_cat&#x27;, &#x27;ps_car_09_cat&#x27;, &#x27;ps_car_11_cat&#x27;,\n",
       "                       &#x27;ps_ind_06_bin&#x27;, &#x27;ps_ind_07_bin&#x27;, &#x27;ps_ind_08_bin&#x27;,\n",
       "                       &#x27;ps_ind_09_bin&#x27;, &#x27;ps_ind_12_bin&#x27;, &#x27;ps_ind_16_bin&#x27;,\n",
       "                       &#x27;ps_ind_17_bin&#x27;, &#x27;ps_ind_18_bin&#x27;])</pre></div></div></div></div></div>"
      ],
      "text/plain": [
       "MeanEncoder(variables=['ps_ind_02_cat', 'ps_ind_04_cat', 'ps_ind_05_cat',\n",
       "                       'ps_car_01_cat', 'ps_car_02_cat', 'ps_car_03_cat',\n",
       "                       'ps_car_04_cat', 'ps_car_06_cat', 'ps_car_07_cat',\n",
       "                       'ps_car_08_cat', 'ps_car_09_cat', 'ps_car_11_cat',\n",
       "                       'ps_ind_06_bin', 'ps_ind_07_bin', 'ps_ind_08_bin',\n",
       "                       'ps_ind_09_bin', 'ps_ind_12_bin', 'ps_ind_16_bin',\n",
       "                       'ps_ind_17_bin', 'ps_ind_18_bin'])"
      ]
     },
     "execution_count": 93,
     "metadata": {},
     "output_type": "execute_result"
    }
   ],
   "source": [
    "mean_encoder.fit(copy_train,y_copy_train)"
   ]
  },
  {
   "cell_type": "code",
   "execution_count": 94,
   "id": "0c071e39",
   "metadata": {},
   "outputs": [
    {
     "data": {
      "text/plain": [
       "{'ps_ind_02_cat': {1.0: 0.035799340392293,\n",
       "  2.0: 0.038139399383360445,\n",
       "  3.0: 0.037217058113957285,\n",
       "  'Rare': 0.04078045350676745},\n",
       " 'ps_ind_04_cat': {0.0: 0.03487701989350176, 1.0: 0.038643800067697166},\n",
       " 'ps_ind_05_cat': {0.0: 0.03440311117272179,\n",
       "  4.0: 0.05206061927605757,\n",
       "  6.0: 0.05933597909205304,\n",
       "  'Rare': 0.05127747007325353},\n",
       " 'ps_car_01_cat': {4.0: 0.03916099946511806,\n",
       "  6.0: 0.029762954177551967,\n",
       "  7.0: 0.028770355989221577,\n",
       "  10.0: 0.03697566234751532,\n",
       "  11.0: 0.04172284283513097,\n",
       "  'Rare': 0.04506613433671784},\n",
       " 'ps_car_02_cat': {0.0: 0.04950749380044854, 1.0: 0.03377159687851092},\n",
       " 'ps_car_03_cat': {0.0: 0.039537613276558574,\n",
       "  1.0: 0.04829778970092766,\n",
       "  'missing': 0.03270667824166952},\n",
       " 'ps_car_04_cat': {0: 0.033450736133682116,\n",
       "  1: 0.04882453682080025,\n",
       "  2: 0.04720235591081195,\n",
       "  8: 0.0501505000485484,\n",
       "  9: 0.06188925081433225,\n",
       "  'Rare': 0.05844572896596018},\n",
       " 'ps_car_06_cat': {0: 0.03337257743162471,\n",
       "  1: 0.03418478536313416,\n",
       "  10: 0.04410446423235523,\n",
       "  11: 0.03171972294661932,\n",
       "  14: 0.03429362226385162,\n",
       "  'Rare': 0.044189645469893075},\n",
       " 'ps_car_07_cat': {0.0: 0.05118560915780867, 1.0: 0.035649452657193915},\n",
       " 'ps_car_08_cat': {0: 0.04493336534998199, 1: 0.03473501001486076},\n",
       " 'ps_car_09_cat': {0.0: 0.033343957885645543,\n",
       "  1.0: 0.056946354883081154,\n",
       "  2.0: 0.03640718427571169,\n",
       "  3.0: 0.03510436432637571,\n",
       "  'Rare': 0.05130032062700392},\n",
       " 'ps_car_11_cat': {32: 0.02432819208141199,\n",
       "  64: 0.028727892988598618,\n",
       "  87: 0.03162632994271016,\n",
       "  103: 0.026667216222900008,\n",
       "  104: 0.04501486783493765,\n",
       "  'Rare': 0.03625217501526832},\n",
       " 'ps_ind_06_bin': {0: 0.04158491569951116, 1: 0.028537293053422084},\n",
       " 'ps_ind_07_bin': {0: 0.03267582192694636, 1: 0.04734980946342548},\n",
       " 'ps_ind_08_bin': {0: 0.035356600300616506, 1: 0.042011725155788784},\n",
       " 'ps_ind_09_bin': {0: 0.03718368298079878, 1: 0.0332109343125255},\n",
       " 'ps_ind_12_bin': {0: 0.03630464353436433, 1: 0.051441794232823065},\n",
       " 'ps_ind_16_bin': {0: 0.04371365451105101, 1: 0.03271807388198205},\n",
       " 'ps_ind_17_bin': {0: 0.033870280210191096, 1: 0.05515547600216459},\n",
       " 'ps_ind_18_bin': {0: 0.036084059863578356, 1: 0.03845269508282877}}"
      ]
     },
     "execution_count": 94,
     "metadata": {},
     "output_type": "execute_result"
    }
   ],
   "source": [
    "mean_encoder.encoder_dict_"
   ]
  },
  {
   "cell_type": "code",
   "execution_count": 95,
   "id": "d27317a2",
   "metadata": {},
   "outputs": [],
   "source": [
    "copy_train=mean_encoder.transform(copy_train)"
   ]
  },
  {
   "cell_type": "code",
   "execution_count": 96,
   "id": "7af7c474",
   "metadata": {},
   "outputs": [
    {
     "data": {
      "text/plain": [
       "0"
      ]
     },
     "execution_count": 96,
     "metadata": {},
     "output_type": "execute_result"
    }
   ],
   "source": [
    "#Removendo dataframes para liberar memória RAM\n",
    "del train,copy_train,y_copy_train\n",
    "gc.collect()"
   ]
  },
  {
   "cell_type": "markdown",
   "id": "bc7f140f",
   "metadata": {},
   "source": [
    "## Pipelines"
   ]
  },
  {
   "cell_type": "code",
   "execution_count": 97,
   "id": "2c25d06c",
   "metadata": {},
   "outputs": [],
   "source": [
    "#Serão criadas algumas pilenines para organizar as transformações que serão aplicadas aos dados. \n",
    "#A diferença entre as pipelines serão os tipos de transformações que cada uma delas vai conter."
   ]
  },
  {
   "cell_type": "code",
   "execution_count": 98,
   "id": "1e29620c",
   "metadata": {},
   "outputs": [],
   "source": [
    "x_train=pd.read_csv(path+'train.csv')\n"
   ]
  },
  {
   "cell_type": "code",
   "execution_count": 99,
   "id": "577c6fd4",
   "metadata": {},
   "outputs": [],
   "source": [
    "y_train=x_train['target']\n",
    "x_train.drop(columns='target',inplace=True)\n"
   ]
  },
  {
   "cell_type": "code",
   "execution_count": 100,
   "id": "e9f857bf",
   "metadata": {},
   "outputs": [],
   "source": [
    "x_train.drop(columns=features_to_remove,inplace=True)"
   ]
  },
  {
   "cell_type": "code",
   "execution_count": 101,
   "id": "cb4540eb",
   "metadata": {},
   "outputs": [],
   "source": [
    "features_list=x_train.columns.to_list()\n",
    "categorical_features  =[i for i in features_list if 'cat' in i] #lista das variáveis categóricas\n",
    "binary_features       =[i for i in features_list if 'bin' in i] #lista das variáveis binárias\n",
    "cont_ordinal_features =[i for i in features_list if 'bin' not in i and 'cat' not in i] #lista das variáveis \n",
    "                                                                                       #ordinárias ou contínuas "
   ]
  },
  {
   "cell_type": "code",
   "execution_count": 102,
   "id": "724c912a",
   "metadata": {},
   "outputs": [],
   "source": [
    "cont_ordinal_features_hp=['ps_reg_03','ps_car_14']\n",
    "cont_ordinal_features_lp=[i for i in cont_ordinal_features if i not in cont_ordinal_features_hp]\n",
    "#cont_ordinal_features_hp - variáveis com proporção elevada de valores ausentes\n",
    "#cont_ordinal_features_lp - variáveis com proporção baixa de valores ausentes"
   ]
  },
  {
   "cell_type": "code",
   "execution_count": 103,
   "id": "4711996d",
   "metadata": {},
   "outputs": [],
   "source": [
    "categorical_features_hp=['ps_car_03_cat']     \n",
    "categorical_features_lp=[i for i in categorical_features if i not in categorical_features_hp]"
   ]
  },
  {
   "cell_type": "code",
   "execution_count": 104,
   "id": "2d6c1aef",
   "metadata": {},
   "outputs": [],
   "source": [
    "#Essa transformação será comum a todas as pipelines.\n",
    "#Novas variáveis serão criadas para indicar se um valor estava ausente. Isso será aplicado as variáveis \n",
    "#contínuas e ordinárias com elevada proporção de dados ausentes\n",
    "\n",
    "missing=[i+'_missing' for i in cont_ordinal_features_hp]\n",
    "\n",
    "#O primeiro pipeline cria duas novas colunas indicando se havia valores ausentes para as variáveis\n",
    "#'ps_reg_03','ps_car_14'\n",
    "\n",
    "def creating_missing_column(x,features_list):\n",
    "    x_copy=x.copy()\n",
    "    for i in features_list:\n",
    "        x_copy[i+'_missing']=pd.Series(np.where(x_copy[i].isna(),'missing','not_missing'))\n",
    "    return x_copy\n",
    "\n",
    "create_columns=FunctionTransformer(creating_missing_column,kw_args=dict(features_list=cont_ordinal_features_hp))\n",
    "first_pipeline=Pipeline([('create_columns',create_columns)])"
   ]
  },
  {
   "cell_type": "code",
   "execution_count": 105,
   "id": "f3360ded",
   "metadata": {},
   "outputs": [
    {
     "data": {
      "text/plain": [
       "['ps_reg_03_missing', 'ps_car_14_missing']"
      ]
     },
     "execution_count": 105,
     "metadata": {},
     "output_type": "execute_result"
    }
   ],
   "source": [
    "missing"
   ]
  },
  {
   "cell_type": "markdown",
   "id": "209e32fa",
   "metadata": {},
   "source": [
    "### Primeira Pipeline"
   ]
  },
  {
   "cell_type": "markdown",
   "id": "e0a54822",
   "metadata": {},
   "source": [
    "Essa primeira pipeline aplica as seguintes transformações:\n",
    "\n",
    "       -Para as variáveis contínuas e ordinárias com elevada proporção de dados ausentes serão criadas novas variáveis para indicar se os dados estavam ausentes. Os dados ausentes serão substituídos pela mediana. Por fim os dados serão normalizados\n",
    "        \n",
    "                -Para as variáveis binárias os dados ausentes serão substituídos pelo mais frequente. Todas as labels raras serão agrupadas em uma única.Para a codificação será usado o mean encoding e por fim os dados serão          normalizados.\n",
    "        \n",
    "       -Os dados ausentes das variáveis categóricas com alta proporção de dados ausentes serão substituídos por \n",
    "        uma constante. Já para as variáveis com baixa proporção será usados o dados mais frequente.Todas as labels         raras serão agrupadas em uma única.Para a codificação será usado o mean encoder e por fim os dados serão           normalizados.\n",
    "       "
   ]
  },
  {
   "cell_type": "code",
   "execution_count": 106,
   "id": "a97b8207",
   "metadata": {},
   "outputs": [],
   "source": [
    "#Função que converte o formato dos dados para object\n",
    "def convert_to_object(x):\n",
    "    return x.astype('object')"
   ]
  },
  {
   "cell_type": "code",
   "execution_count": 107,
   "id": "52a4f7d9",
   "metadata": {},
   "outputs": [],
   "source": [
    "#Transformação que será aplicada a todas as variáveis binárias\n",
    "binary_pipeline_pp=Pipeline([\n",
    "    ('convert_to_object',FunctionTransformer(convert_to_object)),\n",
    "    ('impute_binary',SimpleImputer(strategy='most_frequent')),\n",
    "    ('encoding_binary',MeanEncoder()),\n",
    "    ('standardize',StandardScaler())\n",
    "])"
   ]
  },
  {
   "cell_type": "code",
   "execution_count": 108,
   "id": "652ea322",
   "metadata": {},
   "outputs": [],
   "source": [
    "\"\"\"\n",
    "A pipeline categorical_feature_hp contém as transformações que serão aplicadas nas variáveis categóricas\n",
    "que contem uma alta proporção de dados ausentes, enquanto a pipeline categorical_features_lp_pipeline contem as\n",
    "transformações que serão aplicadas as variáveis categóricas que contem uma proporção baixa de valores ausentes.\n",
    "\"\"\"\n",
    "\n",
    "categorical_features_hp_pipeline_pp=Pipeline([\n",
    "    ('convert_to_object',FunctionTransformer(convert_to_object)),\n",
    "    ('impute_cat',SimpleImputer(strategy='constant',fill_value='missing')),\n",
    "    ('rare_labels',RareLabelEncoder(tol=0.2,n_categories=2)),\n",
    "    ('encoding_cat',MeanEncoder()),\n",
    "    ('standardize',StandardScaler())\n",
    "])\n",
    "\n",
    "categorical_features_lp_pipeline_pp=Pipeline([\n",
    "    ('convert_to_object',FunctionTransformer(convert_to_object)),\n",
    "    ('impute_cat',SimpleImputer(strategy='most_frequent')),\n",
    "    ('rare_labels',RareLabelEncoder(tol=0.2,n_categories=2)),\n",
    "    ('encoding_cat',MeanEncoder()),\n",
    "    ('standardize',StandardScaler())\n",
    "])\n"
   ]
  },
  {
   "cell_type": "code",
   "execution_count": 109,
   "id": "c78f2655",
   "metadata": {},
   "outputs": [],
   "source": [
    "'''\n",
    "A pipeline cont_ordinal_features_pipeline será aplicada as variáveis contínuas e ordinárias\n",
    "'''\n",
    "cont_ordinal_features_pipeline_pp=Pipeline([\n",
    "    ('impute_num',SimpleImputer(strategy='median')),\n",
    "    (('standardize',StandardScaler()))\n",
    "])"
   ]
  },
  {
   "cell_type": "code",
   "execution_count": 110,
   "id": "968a22fb",
   "metadata": {},
   "outputs": [],
   "source": [
    "'''\n",
    "A transforamação da remainder pipeline será aplicada as variáveis restantes (são as duas variáveis criadas\n",
    "para indicar ser haviam dados ausentes).\n",
    "'''\n",
    "remainder_pipeline_pp=Pipeline([\n",
    "    ('imputer_one_hot',OneHotEncoder(handle_unknown='ignore',sparse_output=False))\n",
    "])"
   ]
  },
  {
   "cell_type": "code",
   "execution_count": 111,
   "id": "bcd845d8",
   "metadata": {},
   "outputs": [],
   "source": [
    "second_pipeline_pp=ColumnTransformer([\n",
    "    ('binary',binary_pipeline_pp,binary_features),\n",
    "    ('categorical_hp',categorical_features_hp_pipeline_pp,categorical_features_hp),\n",
    "    ('categorical_lp',categorical_features_lp_pipeline_pp,categorical_features_lp),\n",
    "    ('numerical',cont_ordinal_features_pipeline_pp,cont_ordinal_features)],remainder=remainder_pipeline_pp)"
   ]
  },
  {
   "cell_type": "code",
   "execution_count": 112,
   "id": "11ffb2cc",
   "metadata": {},
   "outputs": [],
   "source": [
    "complete_pipeline_pp=Pipeline([('first_pipeline',first_pipeline),\n",
    "                            ('second_pipeline',second_pipeline_pp)])"
   ]
  },
  {
   "cell_type": "code",
   "execution_count": 113,
   "id": "42f57b8a",
   "metadata": {},
   "outputs": [],
   "source": [
    "#x_pre_processed=complete_pipeline_pp.fit_transform(x_train,y_train)"
   ]
  },
  {
   "cell_type": "code",
   "execution_count": 114,
   "id": "ad46efe9",
   "metadata": {},
   "outputs": [],
   "source": [
    "#x_pre_processed.columns"
   ]
  },
  {
   "cell_type": "markdown",
   "id": "0fa6d122",
   "metadata": {},
   "source": [
    "### Segunda Pipeline"
   ]
  },
  {
   "cell_type": "code",
   "execution_count": 115,
   "id": "335de264",
   "metadata": {},
   "outputs": [],
   "source": [
    "#Semelhante a anterior com substituição de mean encoding por one hot encoding\n",
    "\n",
    "one_hot_encoder=OneHotEncoder(handle_unknown='ignore',sparse_output=False)\n"
   ]
  },
  {
   "cell_type": "code",
   "execution_count": 116,
   "id": "8e04300a",
   "metadata": {},
   "outputs": [],
   "source": [
    "#Função que converte o formato dos dados para string\n",
    "def convert_to_str(x):\n",
    "    return x.astype('str')"
   ]
  },
  {
   "cell_type": "code",
   "execution_count": 154,
   "id": "b03c08fb",
   "metadata": {},
   "outputs": [],
   "source": [
    "binary_pipeline_sp=Pipeline([\n",
    "    ('convert_to_object',FunctionTransformer(convert_to_str)),\n",
    "    ('impute_binary',SimpleImputer(strategy='most_frequent')),\n",
    "    ('encoding_binary',one_hot_encoder)\n",
    "])\n",
    "\n",
    "categorical_features_hp_pipeline_sp=Pipeline([\n",
    "    ('convert_to_object',FunctionTransformer(convert_to_str)),\n",
    "    ('impute_cat',SimpleImputer(strategy='constant',fill_value='missing')),\n",
    "    #('rare_labels',RareLabelEncoder(tol=0.2,n_categories=2)),\n",
    "    ('encoding_cat',one_hot_encoder)\n",
    "])\n",
    "\n",
    "categorical_features_lp_pipeline_sp=Pipeline([\n",
    "    ('convert_to_object',FunctionTransformer(convert_to_str)),\n",
    "    ('impute_cat',SimpleImputer(strategy='most_frequent')),\n",
    "    #('rare_labels',RareLabelEncoder(tol=0.2,n_categories=2)),\n",
    "    ('encoding_cat',one_hot_encoder)\n",
    "])\n",
    "\n",
    "cont_ordinal_features_pipeline_sp=Pipeline([\n",
    "    ('impute_num',SimpleImputer(strategy='median')),\n",
    "    (('standardize',StandardScaler()))\n",
    "])\n",
    "\n",
    "remainder_pipeline_sp=Pipeline([\n",
    "    ('imputer_one_hot',one_hot_encoder)\n",
    "])\n",
    "\n",
    "second_pipeline_sp=ColumnTransformer([\n",
    "    ('binary',binary_pipeline_sp,binary_features),\n",
    "    ('categorical_hp',categorical_features_hp_pipeline_sp,categorical_features_hp),\n",
    "    ('categorical_lp',categorical_features_lp_pipeline_sp,categorical_features_lp),\n",
    "    ('numerical',cont_ordinal_features_pipeline_sp,cont_ordinal_features)],remainder=remainder_pipeline_sp)\n",
    "\n",
    "complete_pipeline_sp=Pipeline([('first_pipeline',first_pipeline),\n",
    "                            ('second_pipeline',second_pipeline_sp)])"
   ]
  },
  {
   "cell_type": "markdown",
   "id": "a268c4a9",
   "metadata": {},
   "source": [
    "### Pipeline knn"
   ]
  },
  {
   "cell_type": "markdown",
   "id": "05f83229",
   "metadata": {},
   "source": [
    "### Aplicação da pipeline"
   ]
  },
  {
   "cell_type": "code",
   "execution_count": 156,
   "id": "fcf0b9bd",
   "metadata": {},
   "outputs": [],
   "source": [
    "#x_pre_processed=complete_pipeline_pp.fit_transform(x_train,y_train)\n",
    "x_pre_processed=complete_pipeline_sp.fit_transform(x_train,y_train)"
   ]
  },
  {
   "cell_type": "code",
   "execution_count": 157,
   "id": "a86b2b12",
   "metadata": {},
   "outputs": [
    {
     "name": "stdout",
     "output_type": "stream",
     "text": [
      "<class 'pandas.core.frame.DataFrame'>\n",
      "RangeIndex: 595212 entries, 0 to 595211\n",
      "Columns: 222 entries, binary__ps_ind_06_bin_0 to remainder__ps_car_14_missing_not_missing\n",
      "dtypes: float64(222)\n",
      "memory usage: 1008.1 MB\n"
     ]
    }
   ],
   "source": [
    "x_pre_processed.info()"
   ]
  },
  {
   "cell_type": "markdown",
   "id": "9ed18c59",
   "metadata": {},
   "source": [
    "# - Train Baseline"
   ]
  },
  {
   "cell_type": "code",
   "execution_count": null,
   "id": "9e8aac73",
   "metadata": {},
   "outputs": [],
   "source": [
    "\"\"\"\n",
    "Treinando alguns modelos para obter um valor inicial para as metricas a partir do qual se buscará aprimorar os \n",
    "resultados. Para o treinamento será usada a função train_baseline, que fez o treinamento dos modelos usando cross\n",
    "validation  e retorna os resultados em um dicionário.\n",
    "\"\"\""
   ]
  },
  {
   "cell_type": "code",
   "execution_count": null,
   "id": "7a0afa93",
   "metadata": {},
   "outputs": [],
   "source": []
  },
  {
   "cell_type": "code",
   "execution_count": 150,
   "id": "cb0ff3d6",
   "metadata": {},
   "outputs": [],
   "source": [
    "#Nem todos os modelos serão treinados porque isso toma muito tempo, especialmente para SVM\n",
    "models={#'Logistic Regression'  :[LogisticRegression()],\n",
    "        #'SVC classifier_linear':[SVC(kernel='linear')],\n",
    "        #'SVC classifier_rbf'   :[SVC(kernel='rbf')],\n",
    "        #'Single tree'          :[DecisionTreeClassifier()],\n",
    "        #'RandomForest'         :[RandomForestClassifier()],\n",
    "        #'GBM'                  :[GradientBoostingClassifier()],\n",
    "        'LGBM'                 :[LGBMClassifier()]}\n",
    "        #'XgBoost'              :[XGBClassifier(eval_metric= 'logloss')]}\n"
   ]
  },
  {
   "cell_type": "code",
   "execution_count": 151,
   "id": "6eb2b2f9",
   "metadata": {},
   "outputs": [],
   "source": [
    "#Métricas que serão usadas para avaliar os modelos\n",
    "scoring=['precision','recall','accuracy','roc_auc']"
   ]
  },
  {
   "cell_type": "code",
   "execution_count": 122,
   "id": "13c61be7",
   "metadata": {},
   "outputs": [
    {
     "name": "stderr",
     "output_type": "stream",
     "text": [
      "Models: 100%|█████████████████████████████████████| 1/1 [00:44<00:00, 44.18s/it]\n"
     ]
    }
   ],
   "source": [
    "#Treinar os modelos usando dataset desbalanceado\n",
    "results_no_sampling=train_baseline(x_pre_processed,y_train,models)"
   ]
  },
  {
   "cell_type": "code",
   "execution_count": 123,
   "id": "71a18505",
   "metadata": {},
   "outputs": [
    {
     "data": {
      "text/plain": [
       "{'model': ['LGBM'],\n",
       " 'scores': [{'accuracy': [0.9635341851263829,\n",
       "    0.9635593861041808,\n",
       "    0.9635674803850742,\n",
       "    0.963542279195578,\n",
       "    0.963542279195578],\n",
       "   'precision': [0.3333333333333333, 1.0, 1.0, 0.0, 0.4],\n",
       "   'recall': [0.0004609356994699239,\n",
       "    0.00023046784973496196,\n",
       "    0.0002305209774089442,\n",
       "    0.0,\n",
       "    0.0004609356994699239],\n",
       "   'roc_auc': [0.6339285496139672,\n",
       "    0.6377757074927384,\n",
       "    0.6385944030831481,\n",
       "    0.6349081703170409,\n",
       "    0.6377290019206632]}]}"
      ]
     },
     "execution_count": 123,
     "metadata": {},
     "output_type": "execute_result"
    }
   ],
   "source": [
    "results_no_sampling\n"
   ]
  },
  {
   "cell_type": "code",
   "execution_count": 124,
   "id": "9b1ddd58",
   "metadata": {},
   "outputs": [
    {
     "name": "stderr",
     "output_type": "stream",
     "text": [
      "Models: 100%|█████████████████████████████████████| 1/1 [01:15<00:00, 75.32s/it]\n"
     ]
    }
   ],
   "source": [
    "#Treinar modelos com dataset balanceado usado random oversampling\n",
    "results_random_over_sampling=train_baseline(x_pre_processed,y_train,models,RandomOverSampler())"
   ]
  },
  {
   "cell_type": "code",
   "execution_count": 125,
   "id": "91e6508f",
   "metadata": {},
   "outputs": [
    {
     "data": {
      "text/plain": [
       "{'model': ['LGBM'],\n",
       " 'scores': [{'accuracy': [0.6444730055526154,\n",
       "    0.6450694286938333,\n",
       "    0.6513163421313486,\n",
       "    0.6425211269971942,\n",
       "    0.6492918465751584],\n",
       "   'precision': [0.05474281427298729,\n",
       "    0.05518924372902832,\n",
       "    0.055318945303153566,\n",
       "    0.055483180570418275,\n",
       "    0.05652235762719901],\n",
       "   'recall': [0.5381424291311362,\n",
       "    0.5420603825766306,\n",
       "    0.532964499769479,\n",
       "    0.5496658216178844,\n",
       "    0.5494353537681493],\n",
       "   'roc_auc': [0.6314914782832837,\n",
       "    0.63521458167417,\n",
       "    0.6355377854397303,\n",
       "    0.6355980669232077,\n",
       "    0.6382988222916666]}]}"
      ]
     },
     "execution_count": 125,
     "metadata": {},
     "output_type": "execute_result"
    }
   ],
   "source": [
    "results_random_over_sampling"
   ]
  },
  {
   "cell_type": "code",
   "execution_count": 126,
   "id": "5c6dbad4",
   "metadata": {},
   "outputs": [
    {
     "name": "stderr",
     "output_type": "stream",
     "text": [
      "Models: 100%|█████████████████████████████████████| 1/1 [00:11<00:00, 11.75s/it]\n"
     ]
    }
   ],
   "source": [
    "#Treinar modelos com dataset balanceado usado random undersampling\n",
    "results_random_under_sampling=train_baseline(x_pre_processed,y_train,models,RandomUnderSampler())"
   ]
  },
  {
   "cell_type": "code",
   "execution_count": 127,
   "id": "c649566b",
   "metadata": {},
   "outputs": [
    {
     "data": {
      "text/plain": [
       "{'model': ['LGBM'],\n",
       " 'scores': [{'accuracy': [0.6126777718975496,\n",
       "    0.6083348033903715,\n",
       "    0.6135313586801298,\n",
       "    0.6014431881184792,\n",
       "    0.6177987601014768],\n",
       "   'precision': [0.052995441022238396,\n",
       "    0.05307770355965164,\n",
       "    0.052899266062921155,\n",
       "    0.05300924965780414,\n",
       "    0.05361907034249398],\n",
       "   'recall': [0.5706383959437659,\n",
       "    0.5787047706844896,\n",
       "    0.5682342093130475,\n",
       "    0.5890758239225629,\n",
       "    0.569716524544826],\n",
       "   'roc_auc': [0.6276209348616973,\n",
       "    0.6303793720537109,\n",
       "    0.6289691835994599,\n",
       "    0.6337120071555602,\n",
       "    0.6349331072104357]}]}"
      ]
     },
     "execution_count": 127,
     "metadata": {},
     "output_type": "execute_result"
    }
   ],
   "source": [
    "results_random_under_sampling"
   ]
  },
  {
   "cell_type": "code",
   "execution_count": 128,
   "id": "ccbd066d",
   "metadata": {},
   "outputs": [],
   "source": [
    "#Calcular a média dos resultados obtidos com cross validation\n",
    "results_LGBM_brief=update_dictionary(results_no_sampling,'all_features_no_sampling')"
   ]
  },
  {
   "cell_type": "code",
   "execution_count": 129,
   "id": "3fe8ee26",
   "metadata": {},
   "outputs": [
    {
     "data": {
      "text/plain": [
       "{'dataset': ['all_features_no_sampling'],\n",
       " 'mean_precision': [0.5466666666666666],\n",
       " 'mean_recall': [0.00027657204521675086],\n",
       " 'mean_roc': [0.6365871664855115]}"
      ]
     },
     "execution_count": 129,
     "metadata": {},
     "output_type": "execute_result"
    }
   ],
   "source": [
    "results_LGBM_brief"
   ]
  },
  {
   "cell_type": "code",
   "execution_count": 130,
   "id": "bbfad218",
   "metadata": {},
   "outputs": [],
   "source": [
    "results_LGBM_brief=update_dictionary(results_random_over_sampling,'all_features_random_over_sampling',\n",
    "                                     results_LGBM_brief)"
   ]
  },
  {
   "cell_type": "code",
   "execution_count": 131,
   "id": "3242f294",
   "metadata": {},
   "outputs": [],
   "source": [
    "results_LGBM_brief=update_dictionary(results_random_under_sampling,'all_features_random_under_sampling'     \n",
    "                                     ,results_LGBM_brief)"
   ]
  },
  {
   "cell_type": "code",
   "execution_count": 132,
   "id": "4072a947",
   "metadata": {},
   "outputs": [
    {
     "data": {
      "text/plain": [
       "'\\nthe ROC-AUC obtido no treinamento dos modelos com o dataset original e usando random oversampling e random under\\nsampling ficaram muito próximos. O uso das técnicas de amostragem aprimorou a recall, mas a precisão degradou.\\n'"
      ]
     },
     "execution_count": 132,
     "metadata": {},
     "output_type": "execute_result"
    }
   ],
   "source": [
    "\"\"\"\n",
    "the ROC-AUC obtido no treinamento dos modelos com o dataset original e usando random oversampling e random under\n",
    "sampling ficaram muito próximos. O uso das técnicas de amostragem aprimorou a recall, mas a precisão degradou.\n",
    "\"\"\""
   ]
  },
  {
   "cell_type": "code",
   "execution_count": 133,
   "id": "5639d17a",
   "metadata": {},
   "outputs": [
    {
     "data": {
      "text/html": [
       "<div>\n",
       "<style scoped>\n",
       "    .dataframe tbody tr th:only-of-type {\n",
       "        vertical-align: middle;\n",
       "    }\n",
       "\n",
       "    .dataframe tbody tr th {\n",
       "        vertical-align: top;\n",
       "    }\n",
       "\n",
       "    .dataframe thead th {\n",
       "        text-align: right;\n",
       "    }\n",
       "</style>\n",
       "<table border=\"1\" class=\"dataframe\">\n",
       "  <thead>\n",
       "    <tr style=\"text-align: right;\">\n",
       "      <th></th>\n",
       "      <th>dataset</th>\n",
       "      <th>mean_precision</th>\n",
       "      <th>mean_recall</th>\n",
       "      <th>mean_roc</th>\n",
       "    </tr>\n",
       "  </thead>\n",
       "  <tbody>\n",
       "    <tr>\n",
       "      <th>0</th>\n",
       "      <td>all_features_no_sampling</td>\n",
       "      <td>0.546667</td>\n",
       "      <td>0.000277</td>\n",
       "      <td>0.636587</td>\n",
       "    </tr>\n",
       "    <tr>\n",
       "      <th>1</th>\n",
       "      <td>all_features_random_over_sampling</td>\n",
       "      <td>0.055451</td>\n",
       "      <td>0.542454</td>\n",
       "      <td>0.635228</td>\n",
       "    </tr>\n",
       "    <tr>\n",
       "      <th>2</th>\n",
       "      <td>all_features_random_under_sampling</td>\n",
       "      <td>0.053120</td>\n",
       "      <td>0.575274</td>\n",
       "      <td>0.631123</td>\n",
       "    </tr>\n",
       "  </tbody>\n",
       "</table>\n",
       "</div>"
      ],
      "text/plain": [
       "                              dataset  mean_precision  mean_recall  mean_roc\n",
       "0            all_features_no_sampling        0.546667     0.000277  0.636587\n",
       "1   all_features_random_over_sampling        0.055451     0.542454  0.635228\n",
       "2  all_features_random_under_sampling        0.053120     0.575274  0.631123"
      ]
     },
     "execution_count": 133,
     "metadata": {},
     "output_type": "execute_result"
    }
   ],
   "source": [
    "pd.DataFrame(results_LGBM_brief)"
   ]
  },
  {
   "cell_type": "markdown",
   "id": "5e6393da",
   "metadata": {},
   "source": [
    "# - Feature Selection"
   ]
  },
  {
   "cell_type": "markdown",
   "id": "5f1c1621",
   "metadata": {},
   "source": [
    "## - Sequential Feature Selector \n"
   ]
  },
  {
   "cell_type": "code",
   "execution_count": null,
   "id": "369749b2",
   "metadata": {},
   "outputs": [],
   "source": [
    "#Buscar o grupo de variáveis que levam aos melhores resultados. Para esse propósito será usado \n",
    "#o SequentialFeatureSelector do sklearn. Para essa seleção é necessário especificar o número máximo\n",
    "#de variáveis que serão mantidas. Diferentes valores para esse parâmetro serão testados."
   ]
  },
  {
   "cell_type": "code",
   "execution_count": null,
   "id": "cf2a1bda",
   "metadata": {},
   "outputs": [],
   "source": [
    "min_number_features=5  #número mínimo de variáveis que serão mantidas nos testes\n",
    "step=5                 #Variação entre o número de features que seráo testadas. Por exemplo, se step=5, serão \n",
    "                       #testados grupos com 5,10,15... variáveis\n",
    "max_number_features=np.arange(6,7,1)\n"
   ]
  },
  {
   "cell_type": "code",
   "execution_count": null,
   "id": "6adfb8e7",
   "metadata": {},
   "outputs": [],
   "source": [
    "#O modelo LGBMCClassifier será treinado com diferentes combinações de variáveis. PAra balancear o \n",
    "#dataset será usado randomoversampling\n",
    "model=make_pipeline(RandomOverSampler(),\n",
    "                   LGBMClassifier())"
   ]
  },
  {
   "cell_type": "code",
   "execution_count": null,
   "id": "a1efa199",
   "metadata": {},
   "outputs": [],
   "source": [
    "from sklearn.feature_selection import SequentialFeatureSelector as SFS\n",
    "\n",
    "\n",
    "results_feature_selection={'feature':[],'roc_auc':[]}\n",
    "sampler= RandomOverSampler()\n",
    "for key in tqdm(max_number_features,desc='Max_features'):\n",
    "    sfs = SFS(estimator=model,\n",
    "    n_features_to_select=key,  # the number of features to retain\n",
    "    tol=0.005,  # the maximum increase or decrease in the performance metric\n",
    "    direction='forward',  # the direction of the selection procedure\n",
    "    scoring='roc_auc',  # the metric to evaluate\n",
    "    cv=5,  # the cross-validation fold\n",
    "    n_jobs=4)  # for parallelization\n",
    "    sfs=sfs.fit(x_pre_processed,y_train)\n",
    "    x_forward=sfs.transform(x_pre_processed)\n",
    "    results_feature_selection['feature']=results_feature_selection['feature']+[x_forward.columns]\n",
    "    results_forward=train_model(LGBMClassifier(),x_forward,y_train,scoring,sampler)\n",
    "    results_feature_selection['roc_auc']=results_feature_selection['roc_auc']+[np.mean(results_forward)]\n"
   ]
  },
  {
   "cell_type": "code",
   "execution_count": null,
   "id": "e85a026d",
   "metadata": {},
   "outputs": [],
   "source": [
    "#Salvar os resultados obtidos com SequentialFeatureSelector\n",
    "'''\n",
    "with open('results_feature_selection.pkl', 'wb') as fp:\n",
    "    pickle.dump(results_LGBM_brief, fp)\n",
    "    print('dictionary saved successfully to file')\n",
    "'''"
   ]
  },
  {
   "cell_type": "code",
   "execution_count": null,
   "id": "d6ba32b5",
   "metadata": {},
   "outputs": [],
   "source": [
    "#Carregar os resultados obtidos com SequentialFeatureSelector\n",
    "# Read dictionary pkl file\n",
    "'''\n",
    "with open('results_feature_selection.pkl', 'rb') as fp:\n",
    "    results_LGBM_brief = pickle.load(fp)\n",
    "'''"
   ]
  },
  {
   "cell_type": "markdown",
   "id": "8da0d6f1",
   "metadata": {},
   "source": [
    "## - Feature Importance"
   ]
  },
  {
   "cell_type": "code",
   "execution_count": 158,
   "id": "6e9e121e",
   "metadata": {},
   "outputs": [
    {
     "data": {
      "text/html": [
       "<style>#sk-container-id-3 {color: black;background-color: white;}#sk-container-id-3 pre{padding: 0;}#sk-container-id-3 div.sk-toggleable {background-color: white;}#sk-container-id-3 label.sk-toggleable__label {cursor: pointer;display: block;width: 100%;margin-bottom: 0;padding: 0.3em;box-sizing: border-box;text-align: center;}#sk-container-id-3 label.sk-toggleable__label-arrow:before {content: \"▸\";float: left;margin-right: 0.25em;color: #696969;}#sk-container-id-3 label.sk-toggleable__label-arrow:hover:before {color: black;}#sk-container-id-3 div.sk-estimator:hover label.sk-toggleable__label-arrow:before {color: black;}#sk-container-id-3 div.sk-toggleable__content {max-height: 0;max-width: 0;overflow: hidden;text-align: left;background-color: #f0f8ff;}#sk-container-id-3 div.sk-toggleable__content pre {margin: 0.2em;color: black;border-radius: 0.25em;background-color: #f0f8ff;}#sk-container-id-3 input.sk-toggleable__control:checked~div.sk-toggleable__content {max-height: 200px;max-width: 100%;overflow: auto;}#sk-container-id-3 input.sk-toggleable__control:checked~label.sk-toggleable__label-arrow:before {content: \"▾\";}#sk-container-id-3 div.sk-estimator input.sk-toggleable__control:checked~label.sk-toggleable__label {background-color: #d4ebff;}#sk-container-id-3 div.sk-label input.sk-toggleable__control:checked~label.sk-toggleable__label {background-color: #d4ebff;}#sk-container-id-3 input.sk-hidden--visually {border: 0;clip: rect(1px 1px 1px 1px);clip: rect(1px, 1px, 1px, 1px);height: 1px;margin: -1px;overflow: hidden;padding: 0;position: absolute;width: 1px;}#sk-container-id-3 div.sk-estimator {font-family: monospace;background-color: #f0f8ff;border: 1px dotted black;border-radius: 0.25em;box-sizing: border-box;margin-bottom: 0.5em;}#sk-container-id-3 div.sk-estimator:hover {background-color: #d4ebff;}#sk-container-id-3 div.sk-parallel-item::after {content: \"\";width: 100%;border-bottom: 1px solid gray;flex-grow: 1;}#sk-container-id-3 div.sk-label:hover label.sk-toggleable__label {background-color: #d4ebff;}#sk-container-id-3 div.sk-serial::before {content: \"\";position: absolute;border-left: 1px solid gray;box-sizing: border-box;top: 0;bottom: 0;left: 50%;z-index: 0;}#sk-container-id-3 div.sk-serial {display: flex;flex-direction: column;align-items: center;background-color: white;padding-right: 0.2em;padding-left: 0.2em;position: relative;}#sk-container-id-3 div.sk-item {position: relative;z-index: 1;}#sk-container-id-3 div.sk-parallel {display: flex;align-items: stretch;justify-content: center;background-color: white;position: relative;}#sk-container-id-3 div.sk-item::before, #sk-container-id-3 div.sk-parallel-item::before {content: \"\";position: absolute;border-left: 1px solid gray;box-sizing: border-box;top: 0;bottom: 0;left: 50%;z-index: -1;}#sk-container-id-3 div.sk-parallel-item {display: flex;flex-direction: column;z-index: 1;position: relative;background-color: white;}#sk-container-id-3 div.sk-parallel-item:first-child::after {align-self: flex-end;width: 50%;}#sk-container-id-3 div.sk-parallel-item:last-child::after {align-self: flex-start;width: 50%;}#sk-container-id-3 div.sk-parallel-item:only-child::after {width: 0;}#sk-container-id-3 div.sk-dashed-wrapped {border: 1px dashed gray;margin: 0 0.4em 0.5em 0.4em;box-sizing: border-box;padding-bottom: 0.4em;background-color: white;}#sk-container-id-3 div.sk-label label {font-family: monospace;font-weight: bold;display: inline-block;line-height: 1.2em;}#sk-container-id-3 div.sk-label-container {text-align: center;}#sk-container-id-3 div.sk-container {/* jupyter's `normalize.less` sets `[hidden] { display: none; }` but bootstrap.min.css set `[hidden] { display: none !important; }` so we also need the `!important` here to be able to override the default hidden behavior on the sphinx rendered scikit-learn.org. See: https://github.com/scikit-learn/scikit-learn/issues/21755 */display: inline-block !important;position: relative;}#sk-container-id-3 div.sk-text-repr-fallback {display: none;}</style><div id=\"sk-container-id-3\" class=\"sk-top-container\"><div class=\"sk-text-repr-fallback\"><pre>LGBMClassifier()</pre><b>In a Jupyter environment, please rerun this cell to show the HTML representation or trust the notebook. <br />On GitHub, the HTML representation is unable to render, please try loading this page with nbviewer.org.</b></div><div class=\"sk-container\" hidden><div class=\"sk-item\"><div class=\"sk-estimator sk-toggleable\"><input class=\"sk-toggleable__control sk-hidden--visually\" id=\"sk-estimator-id-3\" type=\"checkbox\" checked><label for=\"sk-estimator-id-3\" class=\"sk-toggleable__label sk-toggleable__label-arrow\">LGBMClassifier</label><div class=\"sk-toggleable__content\"><pre>LGBMClassifier()</pre></div></div></div></div></div>"
      ],
      "text/plain": [
       "LGBMClassifier()"
      ]
     },
     "execution_count": 158,
     "metadata": {},
     "output_type": "execute_result"
    }
   ],
   "source": [
    "model_fi=LGBMClassifier()\n",
    "model_fi.fit(x_pre_processed,y_train)"
   ]
  },
  {
   "cell_type": "code",
   "execution_count": 159,
   "id": "6b4b6fa1",
   "metadata": {},
   "outputs": [
    {
     "data": {
      "text/html": [
       "<div>\n",
       "<style scoped>\n",
       "    .dataframe tbody tr th:only-of-type {\n",
       "        vertical-align: middle;\n",
       "    }\n",
       "\n",
       "    .dataframe tbody tr th {\n",
       "        vertical-align: top;\n",
       "    }\n",
       "\n",
       "    .dataframe thead th {\n",
       "        text-align: right;\n",
       "    }\n",
       "</style>\n",
       "<table border=\"1\" class=\"dataframe\">\n",
       "  <thead>\n",
       "    <tr style=\"text-align: right;\">\n",
       "      <th></th>\n",
       "      <th>importance</th>\n",
       "      <th>features</th>\n",
       "    </tr>\n",
       "  </thead>\n",
       "  <tbody>\n",
       "    <tr>\n",
       "      <th>203</th>\n",
       "      <td>202</td>\n",
       "      <td>numerical__ps_car_13</td>\n",
       "    </tr>\n",
       "    <tr>\n",
       "      <th>200</th>\n",
       "      <td>196</td>\n",
       "      <td>numerical__ps_reg_03</td>\n",
       "    </tr>\n",
       "    <tr>\n",
       "      <th>195</th>\n",
       "      <td>184</td>\n",
       "      <td>numerical__ps_ind_03</td>\n",
       "    </tr>\n",
       "    <tr>\n",
       "      <th>197</th>\n",
       "      <td>122</td>\n",
       "      <td>numerical__ps_ind_15</td>\n",
       "    </tr>\n",
       "    <tr>\n",
       "      <th>199</th>\n",
       "      <td>107</td>\n",
       "      <td>numerical__ps_reg_02</td>\n",
       "    </tr>\n",
       "    <tr>\n",
       "      <th>...</th>\n",
       "      <td>...</td>\n",
       "      <td>...</td>\n",
       "    </tr>\n",
       "    <tr>\n",
       "      <th>183</th>\n",
       "      <td>0</td>\n",
       "      <td>categorical_lp__ps_car_11_cat_9</td>\n",
       "    </tr>\n",
       "    <tr>\n",
       "      <th>109</th>\n",
       "      <td>0</td>\n",
       "      <td>categorical_lp__ps_car_11_cat_22</td>\n",
       "    </tr>\n",
       "    <tr>\n",
       "      <th>186</th>\n",
       "      <td>0</td>\n",
       "      <td>categorical_lp__ps_car_11_cat_92</td>\n",
       "    </tr>\n",
       "    <tr>\n",
       "      <th>153</th>\n",
       "      <td>0</td>\n",
       "      <td>categorical_lp__ps_car_11_cat_62</td>\n",
       "    </tr>\n",
       "    <tr>\n",
       "      <th>221</th>\n",
       "      <td>0</td>\n",
       "      <td>remainder__ps_car_14_missing_not_missing</td>\n",
       "    </tr>\n",
       "  </tbody>\n",
       "</table>\n",
       "<p>222 rows × 2 columns</p>\n",
       "</div>"
      ],
      "text/plain": [
       "     importance                                  features\n",
       "203         202                      numerical__ps_car_13\n",
       "200         196                      numerical__ps_reg_03\n",
       "195         184                      numerical__ps_ind_03\n",
       "197         122                      numerical__ps_ind_15\n",
       "199         107                      numerical__ps_reg_02\n",
       "..          ...                                       ...\n",
       "183           0           categorical_lp__ps_car_11_cat_9\n",
       "109           0          categorical_lp__ps_car_11_cat_22\n",
       "186           0          categorical_lp__ps_car_11_cat_92\n",
       "153           0          categorical_lp__ps_car_11_cat_62\n",
       "221           0  remainder__ps_car_14_missing_not_missing\n",
       "\n",
       "[222 rows x 2 columns]"
      ]
     },
     "execution_count": 159,
     "metadata": {},
     "output_type": "execute_result"
    }
   ],
   "source": [
    "features=x_pre_processed.columns\n",
    "importances=model_fi.feature_importances_\n",
    "feature_importance_df=pd.DataFrame({\n",
    "    'importance':importances,\n",
    "    'features'  :features\n",
    "}).sort_values('importance',ascending=False)\n",
    "feature_importance_df"
   ]
  },
  {
   "cell_type": "code",
   "execution_count": 161,
   "id": "08325240",
   "metadata": {},
   "outputs": [
    {
     "data": {
      "text/plain": [
       "<Axes: ylabel='importance'>"
      ]
     },
     "execution_count": 161,
     "metadata": {},
     "output_type": "execute_result"
    },
    {
     "data": {
      "image/png": "[encoded data removed]",
      "text/plain": [
       "<Figure size 640x480 with 1 Axes>"
      ]
     },
     "metadata": {},
     "output_type": "display_data"
    }
   ],
   "source": [
    "sns.boxplot(feature_importance_df,y='importance')"
   ]
  },
  {
   "cell_type": "code",
   "execution_count": 162,
   "id": "12c1311a",
   "metadata": {},
   "outputs": [
    {
     "data": {
      "text/html": [
       "<div>\n",
       "<style scoped>\n",
       "    .dataframe tbody tr th:only-of-type {\n",
       "        vertical-align: middle;\n",
       "    }\n",
       "\n",
       "    .dataframe tbody tr th {\n",
       "        vertical-align: top;\n",
       "    }\n",
       "\n",
       "    .dataframe thead th {\n",
       "        text-align: right;\n",
       "    }\n",
       "</style>\n",
       "<table border=\"1\" class=\"dataframe\">\n",
       "  <thead>\n",
       "    <tr style=\"text-align: right;\">\n",
       "      <th></th>\n",
       "      <th>importance</th>\n",
       "    </tr>\n",
       "  </thead>\n",
       "  <tbody>\n",
       "    <tr>\n",
       "      <th>count</th>\n",
       "      <td>222.000000</td>\n",
       "    </tr>\n",
       "    <tr>\n",
       "      <th>mean</th>\n",
       "      <td>13.513514</td>\n",
       "    </tr>\n",
       "    <tr>\n",
       "      <th>std</th>\n",
       "      <td>30.426639</td>\n",
       "    </tr>\n",
       "    <tr>\n",
       "      <th>min</th>\n",
       "      <td>0.000000</td>\n",
       "    </tr>\n",
       "    <tr>\n",
       "      <th>25%</th>\n",
       "      <td>1.000000</td>\n",
       "    </tr>\n",
       "    <tr>\n",
       "      <th>50%</th>\n",
       "      <td>3.000000</td>\n",
       "    </tr>\n",
       "    <tr>\n",
       "      <th>75%</th>\n",
       "      <td>8.000000</td>\n",
       "    </tr>\n",
       "    <tr>\n",
       "      <th>max</th>\n",
       "      <td>202.000000</td>\n",
       "    </tr>\n",
       "  </tbody>\n",
       "</table>\n",
       "</div>"
      ],
      "text/plain": [
       "       importance\n",
       "count  222.000000\n",
       "mean    13.513514\n",
       "std     30.426639\n",
       "min      0.000000\n",
       "25%      1.000000\n",
       "50%      3.000000\n",
       "75%      8.000000\n",
       "max    202.000000"
      ]
     },
     "execution_count": 162,
     "metadata": {},
     "output_type": "execute_result"
    }
   ],
   "source": [
    "feature_importance_df.describe()"
   ]
  },
  {
   "cell_type": "code",
   "execution_count": 163,
   "id": "9c28881c",
   "metadata": {},
   "outputs": [
    {
     "data": {
      "text/plain": [
       "3.0"
      ]
     },
     "execution_count": 163,
     "metadata": {},
     "output_type": "execute_result"
    }
   ],
   "source": [
    "feature_importance_df['importance'].median()"
   ]
  },
  {
   "cell_type": "code",
   "execution_count": 173,
   "id": "504b107e",
   "metadata": {},
   "outputs": [],
   "source": [
    "#filtro=feature_importance_df['importance']>feature_importance_df['importance'].median()\n",
    "filtro=feature_importance_df['importance']>8\n",
    "\n",
    "important_features=feature_importance_df.loc[filtro,'features']"
   ]
  },
  {
   "cell_type": "code",
   "execution_count": 170,
   "id": "d0c8e617",
   "metadata": {
    "scrolled": true
   },
   "outputs": [
    {
     "data": {
      "text/plain": [
       "54"
      ]
     },
     "execution_count": 170,
     "metadata": {},
     "output_type": "execute_result"
    }
   ],
   "source": [
    "len(important_features)"
   ]
  },
  {
   "cell_type": "code",
   "execution_count": 171,
   "id": "4b8aba31",
   "metadata": {},
   "outputs": [
    {
     "name": "stderr",
     "output_type": "stream",
     "text": [
      "Models: 100%|█████████████████████████████████████| 1/1 [01:02<00:00, 62.38s/it]\n"
     ]
    }
   ],
   "source": [
    "results_less_features=train_baseline(x_pre_processed.loc[:,important_features],y_train,models,RandomOverSampler())"
   ]
  },
  {
   "cell_type": "code",
   "execution_count": 172,
   "id": "bdb9da59",
   "metadata": {},
   "outputs": [
    {
     "data": {
      "text/plain": [
       "{'model': ['LGBM'],\n",
       " 'scores': [{'accuracy': [0.6488831766672547,\n",
       "    0.6446242114194031,\n",
       "    0.6513247425278473,\n",
       "    0.6467801280220427,\n",
       "    0.6490314342836981],\n",
       "   'precision': [0.0552560966922328,\n",
       "    0.055287447875181556,\n",
       "    0.055702981185302064,\n",
       "    0.055936315033326266,\n",
       "    0.05578625157202857],\n",
       "   'recall': [0.5362986863332565,\n",
       "    0.5439041253745103,\n",
       "    0.53711387736284,\n",
       "    0.5473611431205346,\n",
       "    0.5418299147268956],\n",
       "   'roc_auc': [0.6328248309562203,\n",
       "    0.6344839316426378,\n",
       "    0.6386419888317104,\n",
       "    0.6366400426869143,\n",
       "    0.6402139499858908]}]}"
      ]
     },
     "execution_count": 172,
     "metadata": {},
     "output_type": "execute_result"
    }
   ],
   "source": [
    "results_less_features\n"
   ]
  },
  {
   "cell_type": "code",
   "execution_count": 185,
   "id": "596067c1",
   "metadata": {},
   "outputs": [],
   "source": [
    "y_train_cat=one_hot_encoder.fit_transform(pd.DataFrame(y_train))"
   ]
  },
  {
   "cell_type": "code",
   "execution_count": 184,
   "id": "41f61c4b",
   "metadata": {},
   "outputs": [],
   "source": [
    "inputs=tf.keras.layers.Input(shape=len(important_features))\n",
    "filters=[100,100,100]\n",
    "x=inputs\n",
    "for i in filters:\n",
    "    x=tf.keras.layers.Dense(units=i,activation='relu')(x)\n",
    "x=tf.keras.layers.Dense(units=2,activation='softmax')(x)\n",
    "neural_model=tf.keras.Model(inputs=inputs,outputs=x)"
   ]
  },
  {
   "cell_type": "code",
   "execution_count": 186,
   "id": "5a5d7994",
   "metadata": {},
   "outputs": [
    {
     "name": "stdout",
     "output_type": "stream",
     "text": [
      "Model: \"model\"\n",
      "_________________________________________________________________\n",
      " Layer (type)                Output Shape              Param #   \n",
      "=================================================================\n",
      " input_5 (InputLayer)        [(None, 54)]              0         \n",
      "                                                                 \n",
      " dense_10 (Dense)            (None, 100)               5500      \n",
      "                                                                 \n",
      " dense_11 (Dense)            (None, 100)               10100     \n",
      "                                                                 \n",
      " dense_12 (Dense)            (None, 100)               10100     \n",
      "                                                                 \n",
      " dense_13 (Dense)            (None, 2)                 202       \n",
      "                                                                 \n",
      "=================================================================\n",
      "Total params: 25902 (101.18 KB)\n",
      "Trainable params: 25902 (101.18 KB)\n",
      "Non-trainable params: 0 (0.00 Byte)\n",
      "_________________________________________________________________\n"
     ]
    }
   ],
   "source": [
    "neural_model.summary()"
   ]
  },
  {
   "cell_type": "code",
   "execution_count": 200,
   "id": "e87cf399",
   "metadata": {},
   "outputs": [],
   "source": [
    "neural_model.compile(loss=tf.keras.losses.CategoricalCrossentropy(),metrics=['accuracy'])"
   ]
  },
  {
   "cell_type": "code",
   "execution_count": 201,
   "id": "8a50ad48",
   "metadata": {
    "scrolled": true
   },
   "outputs": [
    {
     "name": "stdout",
     "output_type": "stream",
     "text": [
      "Epoch 1/100\n"
     ]
    },
    {
     "name": "stderr",
     "output_type": "stream",
     "text": [
      "2023-11-27 06:22:07.770812: W tensorflow/tsl/framework/cpu_allocator_impl.cc:83] Allocation of 205705008 exceeds 10% of free system memory.\n"
     ]
    },
    {
     "name": "stdout",
     "output_type": "stream",
     "text": [
      "14881/14881 [==============================] - 51s 3ms/step - loss: 0.1567 - accuracy: 0.9636 - val_loss: 0.1551 - val_accuracy: 0.9634\n",
      "Epoch 2/100\n",
      "14881/14881 [==============================] - 53s 4ms/step - loss: 0.1557 - accuracy: 0.9636 - val_loss: 0.1547 - val_accuracy: 0.9634\n",
      "Epoch 3/100\n",
      "14881/14881 [==============================] - 44s 3ms/step - loss: 0.1564 - accuracy: 0.9636 - val_loss: 0.1542 - val_accuracy: 0.9634\n",
      "Epoch 4/100\n",
      "14881/14881 [==============================] - 45s 3ms/step - loss: 0.1570 - accuracy: 0.9636 - val_loss: 0.1564 - val_accuracy: 0.9634\n",
      "Epoch 5/100\n",
      " 2371/14881 [===>..........................] - ETA: 44s - loss: 0.1574 - accuracy: 0.9631"
     ]
    },
    {
     "ename": "KeyboardInterrupt",
     "evalue": "",
     "output_type": "error",
     "traceback": [
      "\u001b[0;31m---------------------------------------------------------------------------\u001b[0m",
      "\u001b[0;31mKeyboardInterrupt\u001b[0m                         Traceback (most recent call last)",
      "Cell \u001b[0;32mIn[201], line 1\u001b[0m\n\u001b[0;32m----> 1\u001b[0m \u001b[43mneural_model\u001b[49m\u001b[38;5;241;43m.\u001b[39;49m\u001b[43mfit\u001b[49m\u001b[43m(\u001b[49m\u001b[43mx\u001b[49m\u001b[38;5;241;43m=\u001b[39;49m\u001b[43mx_pre_processed\u001b[49m\u001b[38;5;241;43m.\u001b[39;49m\u001b[43mloc\u001b[49m\u001b[43m[\u001b[49m\u001b[43m:\u001b[49m\u001b[43m,\u001b[49m\u001b[43mimportant_features\u001b[49m\u001b[43m]\u001b[49m\u001b[43m,\u001b[49m\n\u001b[1;32m      2\u001b[0m \u001b[43m                \u001b[49m\u001b[43my\u001b[49m\u001b[38;5;241;43m=\u001b[39;49m\u001b[43my_train_cat\u001b[49m\u001b[43m,\u001b[49m\u001b[43mepochs\u001b[49m\u001b[38;5;241;43m=\u001b[39;49m\u001b[38;5;241;43m100\u001b[39;49m\u001b[43m,\u001b[49m\u001b[43mvalidation_split\u001b[49m\u001b[38;5;241;43m=\u001b[39;49m\u001b[38;5;241;43m0.2\u001b[39;49m\u001b[43m)\u001b[49m\n",
      "File \u001b[0;32m~/anaconda3/envs/estudo/lib/python3.10/site-packages/keras/src/utils/traceback_utils.py:65\u001b[0m, in \u001b[0;36mfilter_traceback.<locals>.error_handler\u001b[0;34m(*args, **kwargs)\u001b[0m\n\u001b[1;32m     63\u001b[0m filtered_tb \u001b[38;5;241m=\u001b[39m \u001b[38;5;28;01mNone\u001b[39;00m\n\u001b[1;32m     64\u001b[0m \u001b[38;5;28;01mtry\u001b[39;00m:\n\u001b[0;32m---> 65\u001b[0m     \u001b[38;5;28;01mreturn\u001b[39;00m \u001b[43mfn\u001b[49m\u001b[43m(\u001b[49m\u001b[38;5;241;43m*\u001b[39;49m\u001b[43margs\u001b[49m\u001b[43m,\u001b[49m\u001b[43m \u001b[49m\u001b[38;5;241;43m*\u001b[39;49m\u001b[38;5;241;43m*\u001b[39;49m\u001b[43mkwargs\u001b[49m\u001b[43m)\u001b[49m\n\u001b[1;32m     66\u001b[0m \u001b[38;5;28;01mexcept\u001b[39;00m \u001b[38;5;167;01mException\u001b[39;00m \u001b[38;5;28;01mas\u001b[39;00m e:\n\u001b[1;32m     67\u001b[0m     filtered_tb \u001b[38;5;241m=\u001b[39m _process_traceback_frames(e\u001b[38;5;241m.\u001b[39m__traceback__)\n",
      "File \u001b[0;32m~/anaconda3/envs/estudo/lib/python3.10/site-packages/keras/src/engine/training.py:1783\u001b[0m, in \u001b[0;36mModel.fit\u001b[0;34m(self, x, y, batch_size, epochs, verbose, callbacks, validation_split, validation_data, shuffle, class_weight, sample_weight, initial_epoch, steps_per_epoch, validation_steps, validation_batch_size, validation_freq, max_queue_size, workers, use_multiprocessing)\u001b[0m\n\u001b[1;32m   1775\u001b[0m \u001b[38;5;28;01mwith\u001b[39;00m tf\u001b[38;5;241m.\u001b[39mprofiler\u001b[38;5;241m.\u001b[39mexperimental\u001b[38;5;241m.\u001b[39mTrace(\n\u001b[1;32m   1776\u001b[0m     \u001b[38;5;124m\"\u001b[39m\u001b[38;5;124mtrain\u001b[39m\u001b[38;5;124m\"\u001b[39m,\n\u001b[1;32m   1777\u001b[0m     epoch_num\u001b[38;5;241m=\u001b[39mepoch,\n\u001b[0;32m   (...)\u001b[0m\n\u001b[1;32m   1780\u001b[0m     _r\u001b[38;5;241m=\u001b[39m\u001b[38;5;241m1\u001b[39m,\n\u001b[1;32m   1781\u001b[0m ):\n\u001b[1;32m   1782\u001b[0m     callbacks\u001b[38;5;241m.\u001b[39mon_train_batch_begin(step)\n\u001b[0;32m-> 1783\u001b[0m     tmp_logs \u001b[38;5;241m=\u001b[39m \u001b[38;5;28;43mself\u001b[39;49m\u001b[38;5;241;43m.\u001b[39;49m\u001b[43mtrain_function\u001b[49m\u001b[43m(\u001b[49m\u001b[43miterator\u001b[49m\u001b[43m)\u001b[49m\n\u001b[1;32m   1784\u001b[0m     \u001b[38;5;28;01mif\u001b[39;00m data_handler\u001b[38;5;241m.\u001b[39mshould_sync:\n\u001b[1;32m   1785\u001b[0m         context\u001b[38;5;241m.\u001b[39masync_wait()\n",
      "File \u001b[0;32m~/anaconda3/envs/estudo/lib/python3.10/site-packages/tensorflow/python/util/traceback_utils.py:150\u001b[0m, in \u001b[0;36mfilter_traceback.<locals>.error_handler\u001b[0;34m(*args, **kwargs)\u001b[0m\n\u001b[1;32m    148\u001b[0m filtered_tb \u001b[38;5;241m=\u001b[39m \u001b[38;5;28;01mNone\u001b[39;00m\n\u001b[1;32m    149\u001b[0m \u001b[38;5;28;01mtry\u001b[39;00m:\n\u001b[0;32m--> 150\u001b[0m   \u001b[38;5;28;01mreturn\u001b[39;00m \u001b[43mfn\u001b[49m\u001b[43m(\u001b[49m\u001b[38;5;241;43m*\u001b[39;49m\u001b[43margs\u001b[49m\u001b[43m,\u001b[49m\u001b[43m \u001b[49m\u001b[38;5;241;43m*\u001b[39;49m\u001b[38;5;241;43m*\u001b[39;49m\u001b[43mkwargs\u001b[49m\u001b[43m)\u001b[49m\n\u001b[1;32m    151\u001b[0m \u001b[38;5;28;01mexcept\u001b[39;00m \u001b[38;5;167;01mException\u001b[39;00m \u001b[38;5;28;01mas\u001b[39;00m e:\n\u001b[1;32m    152\u001b[0m   filtered_tb \u001b[38;5;241m=\u001b[39m _process_traceback_frames(e\u001b[38;5;241m.\u001b[39m__traceback__)\n",
      "File \u001b[0;32m~/anaconda3/envs/estudo/lib/python3.10/site-packages/tensorflow/python/eager/polymorphic_function/polymorphic_function.py:831\u001b[0m, in \u001b[0;36mFunction.__call__\u001b[0;34m(self, *args, **kwds)\u001b[0m\n\u001b[1;32m    828\u001b[0m compiler \u001b[38;5;241m=\u001b[39m \u001b[38;5;124m\"\u001b[39m\u001b[38;5;124mxla\u001b[39m\u001b[38;5;124m\"\u001b[39m \u001b[38;5;28;01mif\u001b[39;00m \u001b[38;5;28mself\u001b[39m\u001b[38;5;241m.\u001b[39m_jit_compile \u001b[38;5;28;01melse\u001b[39;00m \u001b[38;5;124m\"\u001b[39m\u001b[38;5;124mnonXla\u001b[39m\u001b[38;5;124m\"\u001b[39m\n\u001b[1;32m    830\u001b[0m \u001b[38;5;28;01mwith\u001b[39;00m OptionalXlaContext(\u001b[38;5;28mself\u001b[39m\u001b[38;5;241m.\u001b[39m_jit_compile):\n\u001b[0;32m--> 831\u001b[0m   result \u001b[38;5;241m=\u001b[39m \u001b[38;5;28;43mself\u001b[39;49m\u001b[38;5;241;43m.\u001b[39;49m\u001b[43m_call\u001b[49m\u001b[43m(\u001b[49m\u001b[38;5;241;43m*\u001b[39;49m\u001b[43margs\u001b[49m\u001b[43m,\u001b[49m\u001b[43m \u001b[49m\u001b[38;5;241;43m*\u001b[39;49m\u001b[38;5;241;43m*\u001b[39;49m\u001b[43mkwds\u001b[49m\u001b[43m)\u001b[49m\n\u001b[1;32m    833\u001b[0m new_tracing_count \u001b[38;5;241m=\u001b[39m \u001b[38;5;28mself\u001b[39m\u001b[38;5;241m.\u001b[39mexperimental_get_tracing_count()\n\u001b[1;32m    834\u001b[0m without_tracing \u001b[38;5;241m=\u001b[39m (tracing_count \u001b[38;5;241m==\u001b[39m new_tracing_count)\n",
      "File \u001b[0;32m~/anaconda3/envs/estudo/lib/python3.10/site-packages/tensorflow/python/eager/polymorphic_function/polymorphic_function.py:867\u001b[0m, in \u001b[0;36mFunction._call\u001b[0;34m(self, *args, **kwds)\u001b[0m\n\u001b[1;32m    864\u001b[0m   \u001b[38;5;28mself\u001b[39m\u001b[38;5;241m.\u001b[39m_lock\u001b[38;5;241m.\u001b[39mrelease()\n\u001b[1;32m    865\u001b[0m   \u001b[38;5;66;03m# In this case we have created variables on the first call, so we run the\u001b[39;00m\n\u001b[1;32m    866\u001b[0m   \u001b[38;5;66;03m# defunned version which is guaranteed to never create variables.\u001b[39;00m\n\u001b[0;32m--> 867\u001b[0m   \u001b[38;5;28;01mreturn\u001b[39;00m \u001b[43mtracing_compilation\u001b[49m\u001b[38;5;241;43m.\u001b[39;49m\u001b[43mcall_function\u001b[49m\u001b[43m(\u001b[49m\n\u001b[1;32m    868\u001b[0m \u001b[43m      \u001b[49m\u001b[43margs\u001b[49m\u001b[43m,\u001b[49m\u001b[43m \u001b[49m\u001b[43mkwds\u001b[49m\u001b[43m,\u001b[49m\u001b[43m \u001b[49m\u001b[38;5;28;43mself\u001b[39;49m\u001b[38;5;241;43m.\u001b[39;49m\u001b[43m_no_variable_creation_config\u001b[49m\n\u001b[1;32m    869\u001b[0m \u001b[43m  \u001b[49m\u001b[43m)\u001b[49m\n\u001b[1;32m    870\u001b[0m \u001b[38;5;28;01melif\u001b[39;00m \u001b[38;5;28mself\u001b[39m\u001b[38;5;241m.\u001b[39m_variable_creation_config \u001b[38;5;129;01mis\u001b[39;00m \u001b[38;5;129;01mnot\u001b[39;00m \u001b[38;5;28;01mNone\u001b[39;00m:\n\u001b[1;32m    871\u001b[0m   \u001b[38;5;66;03m# Release the lock early so that multiple threads can perform the call\u001b[39;00m\n\u001b[1;32m    872\u001b[0m   \u001b[38;5;66;03m# in parallel.\u001b[39;00m\n\u001b[1;32m    873\u001b[0m   \u001b[38;5;28mself\u001b[39m\u001b[38;5;241m.\u001b[39m_lock\u001b[38;5;241m.\u001b[39mrelease()\n",
      "File \u001b[0;32m~/anaconda3/envs/estudo/lib/python3.10/site-packages/tensorflow/python/eager/polymorphic_function/tracing_compilation.py:139\u001b[0m, in \u001b[0;36mcall_function\u001b[0;34m(args, kwargs, tracing_options)\u001b[0m\n\u001b[1;32m    137\u001b[0m bound_args \u001b[38;5;241m=\u001b[39m function\u001b[38;5;241m.\u001b[39mfunction_type\u001b[38;5;241m.\u001b[39mbind(\u001b[38;5;241m*\u001b[39margs, \u001b[38;5;241m*\u001b[39m\u001b[38;5;241m*\u001b[39mkwargs)\n\u001b[1;32m    138\u001b[0m flat_inputs \u001b[38;5;241m=\u001b[39m function\u001b[38;5;241m.\u001b[39mfunction_type\u001b[38;5;241m.\u001b[39munpack_inputs(bound_args)\n\u001b[0;32m--> 139\u001b[0m \u001b[38;5;28;01mreturn\u001b[39;00m \u001b[43mfunction\u001b[49m\u001b[38;5;241;43m.\u001b[39;49m\u001b[43m_call_flat\u001b[49m\u001b[43m(\u001b[49m\u001b[43m  \u001b[49m\u001b[38;5;66;43;03m# pylint: disable=protected-access\u001b[39;49;00m\n\u001b[1;32m    140\u001b[0m \u001b[43m    \u001b[49m\u001b[43mflat_inputs\u001b[49m\u001b[43m,\u001b[49m\u001b[43m \u001b[49m\u001b[43mcaptured_inputs\u001b[49m\u001b[38;5;241;43m=\u001b[39;49m\u001b[43mfunction\u001b[49m\u001b[38;5;241;43m.\u001b[39;49m\u001b[43mcaptured_inputs\u001b[49m\n\u001b[1;32m    141\u001b[0m \u001b[43m\u001b[49m\u001b[43m)\u001b[49m\n",
      "File \u001b[0;32m~/anaconda3/envs/estudo/lib/python3.10/site-packages/tensorflow/python/eager/polymorphic_function/concrete_function.py:1264\u001b[0m, in \u001b[0;36mConcreteFunction._call_flat\u001b[0;34m(self, tensor_inputs, captured_inputs)\u001b[0m\n\u001b[1;32m   1260\u001b[0m possible_gradient_type \u001b[38;5;241m=\u001b[39m gradients_util\u001b[38;5;241m.\u001b[39mPossibleTapeGradientTypes(args)\n\u001b[1;32m   1261\u001b[0m \u001b[38;5;28;01mif\u001b[39;00m (possible_gradient_type \u001b[38;5;241m==\u001b[39m gradients_util\u001b[38;5;241m.\u001b[39mPOSSIBLE_GRADIENT_TYPES_NONE\n\u001b[1;32m   1262\u001b[0m     \u001b[38;5;129;01mand\u001b[39;00m executing_eagerly):\n\u001b[1;32m   1263\u001b[0m   \u001b[38;5;66;03m# No tape is watching; skip to running the function.\u001b[39;00m\n\u001b[0;32m-> 1264\u001b[0m   \u001b[38;5;28;01mreturn\u001b[39;00m \u001b[38;5;28;43mself\u001b[39;49m\u001b[38;5;241;43m.\u001b[39;49m\u001b[43m_inference_function\u001b[49m\u001b[38;5;241;43m.\u001b[39;49m\u001b[43mflat_call\u001b[49m\u001b[43m(\u001b[49m\u001b[43margs\u001b[49m\u001b[43m)\u001b[49m\n\u001b[1;32m   1265\u001b[0m forward_backward \u001b[38;5;241m=\u001b[39m \u001b[38;5;28mself\u001b[39m\u001b[38;5;241m.\u001b[39m_select_forward_and_backward_functions(\n\u001b[1;32m   1266\u001b[0m     args,\n\u001b[1;32m   1267\u001b[0m     possible_gradient_type,\n\u001b[1;32m   1268\u001b[0m     executing_eagerly)\n\u001b[1;32m   1269\u001b[0m forward_function, args_with_tangents \u001b[38;5;241m=\u001b[39m forward_backward\u001b[38;5;241m.\u001b[39mforward()\n",
      "File \u001b[0;32m~/anaconda3/envs/estudo/lib/python3.10/site-packages/tensorflow/python/eager/polymorphic_function/atomic_function.py:217\u001b[0m, in \u001b[0;36mAtomicFunction.flat_call\u001b[0;34m(self, args)\u001b[0m\n\u001b[1;32m    215\u001b[0m \u001b[38;5;28;01mdef\u001b[39;00m \u001b[38;5;21mflat_call\u001b[39m(\u001b[38;5;28mself\u001b[39m, args: Sequence[core\u001b[38;5;241m.\u001b[39mTensor]) \u001b[38;5;241m-\u001b[39m\u001b[38;5;241m>\u001b[39m Any:\n\u001b[1;32m    216\u001b[0m   \u001b[38;5;124;03m\"\"\"Calls with tensor inputs and returns the structured output.\"\"\"\u001b[39;00m\n\u001b[0;32m--> 217\u001b[0m   flat_outputs \u001b[38;5;241m=\u001b[39m \u001b[38;5;28;43mself\u001b[39;49m\u001b[43m(\u001b[49m\u001b[38;5;241;43m*\u001b[39;49m\u001b[43margs\u001b[49m\u001b[43m)\u001b[49m\n\u001b[1;32m    218\u001b[0m   \u001b[38;5;28;01mreturn\u001b[39;00m \u001b[38;5;28mself\u001b[39m\u001b[38;5;241m.\u001b[39mfunction_type\u001b[38;5;241m.\u001b[39mpack_output(flat_outputs)\n",
      "File \u001b[0;32m~/anaconda3/envs/estudo/lib/python3.10/site-packages/tensorflow/python/eager/polymorphic_function/atomic_function.py:252\u001b[0m, in \u001b[0;36mAtomicFunction.__call__\u001b[0;34m(self, *args)\u001b[0m\n\u001b[1;32m    250\u001b[0m \u001b[38;5;28;01mwith\u001b[39;00m record\u001b[38;5;241m.\u001b[39mstop_recording():\n\u001b[1;32m    251\u001b[0m   \u001b[38;5;28;01mif\u001b[39;00m \u001b[38;5;28mself\u001b[39m\u001b[38;5;241m.\u001b[39m_bound_context\u001b[38;5;241m.\u001b[39mexecuting_eagerly():\n\u001b[0;32m--> 252\u001b[0m     outputs \u001b[38;5;241m=\u001b[39m \u001b[38;5;28;43mself\u001b[39;49m\u001b[38;5;241;43m.\u001b[39;49m\u001b[43m_bound_context\u001b[49m\u001b[38;5;241;43m.\u001b[39;49m\u001b[43mcall_function\u001b[49m\u001b[43m(\u001b[49m\n\u001b[1;32m    253\u001b[0m \u001b[43m        \u001b[49m\u001b[38;5;28;43mself\u001b[39;49m\u001b[38;5;241;43m.\u001b[39;49m\u001b[43mname\u001b[49m\u001b[43m,\u001b[49m\n\u001b[1;32m    254\u001b[0m \u001b[43m        \u001b[49m\u001b[38;5;28;43mlist\u001b[39;49m\u001b[43m(\u001b[49m\u001b[43margs\u001b[49m\u001b[43m)\u001b[49m\u001b[43m,\u001b[49m\n\u001b[1;32m    255\u001b[0m \u001b[43m        \u001b[49m\u001b[38;5;28;43mlen\u001b[39;49m\u001b[43m(\u001b[49m\u001b[38;5;28;43mself\u001b[39;49m\u001b[38;5;241;43m.\u001b[39;49m\u001b[43mfunction_type\u001b[49m\u001b[38;5;241;43m.\u001b[39;49m\u001b[43mflat_outputs\u001b[49m\u001b[43m)\u001b[49m\u001b[43m,\u001b[49m\n\u001b[1;32m    256\u001b[0m \u001b[43m    \u001b[49m\u001b[43m)\u001b[49m\n\u001b[1;32m    257\u001b[0m   \u001b[38;5;28;01melse\u001b[39;00m:\n\u001b[1;32m    258\u001b[0m     outputs \u001b[38;5;241m=\u001b[39m make_call_op_in_graph(\n\u001b[1;32m    259\u001b[0m         \u001b[38;5;28mself\u001b[39m,\n\u001b[1;32m    260\u001b[0m         \u001b[38;5;28mlist\u001b[39m(args),\n\u001b[1;32m    261\u001b[0m         \u001b[38;5;28mself\u001b[39m\u001b[38;5;241m.\u001b[39m_bound_context\u001b[38;5;241m.\u001b[39mfunction_call_options\u001b[38;5;241m.\u001b[39mas_attrs(),\n\u001b[1;32m    262\u001b[0m     )\n",
      "File \u001b[0;32m~/anaconda3/envs/estudo/lib/python3.10/site-packages/tensorflow/python/eager/context.py:1479\u001b[0m, in \u001b[0;36mContext.call_function\u001b[0;34m(self, name, tensor_inputs, num_outputs)\u001b[0m\n\u001b[1;32m   1477\u001b[0m cancellation_context \u001b[38;5;241m=\u001b[39m cancellation\u001b[38;5;241m.\u001b[39mcontext()\n\u001b[1;32m   1478\u001b[0m \u001b[38;5;28;01mif\u001b[39;00m cancellation_context \u001b[38;5;129;01mis\u001b[39;00m \u001b[38;5;28;01mNone\u001b[39;00m:\n\u001b[0;32m-> 1479\u001b[0m   outputs \u001b[38;5;241m=\u001b[39m \u001b[43mexecute\u001b[49m\u001b[38;5;241;43m.\u001b[39;49m\u001b[43mexecute\u001b[49m\u001b[43m(\u001b[49m\n\u001b[1;32m   1480\u001b[0m \u001b[43m      \u001b[49m\u001b[43mname\u001b[49m\u001b[38;5;241;43m.\u001b[39;49m\u001b[43mdecode\u001b[49m\u001b[43m(\u001b[49m\u001b[38;5;124;43m\"\u001b[39;49m\u001b[38;5;124;43mutf-8\u001b[39;49m\u001b[38;5;124;43m\"\u001b[39;49m\u001b[43m)\u001b[49m\u001b[43m,\u001b[49m\n\u001b[1;32m   1481\u001b[0m \u001b[43m      \u001b[49m\u001b[43mnum_outputs\u001b[49m\u001b[38;5;241;43m=\u001b[39;49m\u001b[43mnum_outputs\u001b[49m\u001b[43m,\u001b[49m\n\u001b[1;32m   1482\u001b[0m \u001b[43m      \u001b[49m\u001b[43minputs\u001b[49m\u001b[38;5;241;43m=\u001b[39;49m\u001b[43mtensor_inputs\u001b[49m\u001b[43m,\u001b[49m\n\u001b[1;32m   1483\u001b[0m \u001b[43m      \u001b[49m\u001b[43mattrs\u001b[49m\u001b[38;5;241;43m=\u001b[39;49m\u001b[43mattrs\u001b[49m\u001b[43m,\u001b[49m\n\u001b[1;32m   1484\u001b[0m \u001b[43m      \u001b[49m\u001b[43mctx\u001b[49m\u001b[38;5;241;43m=\u001b[39;49m\u001b[38;5;28;43mself\u001b[39;49m\u001b[43m,\u001b[49m\n\u001b[1;32m   1485\u001b[0m \u001b[43m  \u001b[49m\u001b[43m)\u001b[49m\n\u001b[1;32m   1486\u001b[0m \u001b[38;5;28;01melse\u001b[39;00m:\n\u001b[1;32m   1487\u001b[0m   outputs \u001b[38;5;241m=\u001b[39m execute\u001b[38;5;241m.\u001b[39mexecute_with_cancellation(\n\u001b[1;32m   1488\u001b[0m       name\u001b[38;5;241m.\u001b[39mdecode(\u001b[38;5;124m\"\u001b[39m\u001b[38;5;124mutf-8\u001b[39m\u001b[38;5;124m\"\u001b[39m),\n\u001b[1;32m   1489\u001b[0m       num_outputs\u001b[38;5;241m=\u001b[39mnum_outputs,\n\u001b[0;32m   (...)\u001b[0m\n\u001b[1;32m   1493\u001b[0m       cancellation_manager\u001b[38;5;241m=\u001b[39mcancellation_context,\n\u001b[1;32m   1494\u001b[0m   )\n",
      "File \u001b[0;32m~/anaconda3/envs/estudo/lib/python3.10/site-packages/tensorflow/python/eager/execute.py:60\u001b[0m, in \u001b[0;36mquick_execute\u001b[0;34m(op_name, num_outputs, inputs, attrs, ctx, name)\u001b[0m\n\u001b[1;32m     53\u001b[0m   \u001b[38;5;66;03m# Convert any objects of type core_types.Tensor to Tensor.\u001b[39;00m\n\u001b[1;32m     54\u001b[0m   inputs \u001b[38;5;241m=\u001b[39m [\n\u001b[1;32m     55\u001b[0m       tensor_conversion_registry\u001b[38;5;241m.\u001b[39mconvert(t)\n\u001b[1;32m     56\u001b[0m       \u001b[38;5;28;01mif\u001b[39;00m \u001b[38;5;28misinstance\u001b[39m(t, core_types\u001b[38;5;241m.\u001b[39mTensor)\n\u001b[1;32m     57\u001b[0m       \u001b[38;5;28;01melse\u001b[39;00m t\n\u001b[1;32m     58\u001b[0m       \u001b[38;5;28;01mfor\u001b[39;00m t \u001b[38;5;129;01min\u001b[39;00m inputs\n\u001b[1;32m     59\u001b[0m   ]\n\u001b[0;32m---> 60\u001b[0m   tensors \u001b[38;5;241m=\u001b[39m \u001b[43mpywrap_tfe\u001b[49m\u001b[38;5;241;43m.\u001b[39;49m\u001b[43mTFE_Py_Execute\u001b[49m\u001b[43m(\u001b[49m\u001b[43mctx\u001b[49m\u001b[38;5;241;43m.\u001b[39;49m\u001b[43m_handle\u001b[49m\u001b[43m,\u001b[49m\u001b[43m \u001b[49m\u001b[43mdevice_name\u001b[49m\u001b[43m,\u001b[49m\u001b[43m \u001b[49m\u001b[43mop_name\u001b[49m\u001b[43m,\u001b[49m\n\u001b[1;32m     61\u001b[0m \u001b[43m                                      \u001b[49m\u001b[43minputs\u001b[49m\u001b[43m,\u001b[49m\u001b[43m \u001b[49m\u001b[43mattrs\u001b[49m\u001b[43m,\u001b[49m\u001b[43m \u001b[49m\u001b[43mnum_outputs\u001b[49m\u001b[43m)\u001b[49m\n\u001b[1;32m     62\u001b[0m \u001b[38;5;28;01mexcept\u001b[39;00m core\u001b[38;5;241m.\u001b[39m_NotOkStatusException \u001b[38;5;28;01mas\u001b[39;00m e:\n\u001b[1;32m     63\u001b[0m   \u001b[38;5;28;01mif\u001b[39;00m name \u001b[38;5;129;01mis\u001b[39;00m \u001b[38;5;129;01mnot\u001b[39;00m \u001b[38;5;28;01mNone\u001b[39;00m:\n",
      "\u001b[0;31mKeyboardInterrupt\u001b[0m: "
     ]
    }
   ],
   "source": [
    "neural_model.fit(x=x_pre_processed.loc[:,important_features],\n",
    "                y=y_train_cat,epochs=100,validation_split=0.2)"
   ]
  },
  {
   "cell_type": "markdown",
   "id": "0dcf8dea",
   "metadata": {},
   "source": [
    "# - Redução Dimensionalidade"
   ]
  },
  {
   "cell_type": "markdown",
   "id": "680877f2",
   "metadata": {},
   "source": [
    "## - PCA\n"
   ]
  },
  {
   "cell_type": "code",
   "execution_count": null,
   "id": "cff27a03",
   "metadata": {},
   "outputs": [],
   "source": [
    "pca = PCA(n_components=0.99)"
   ]
  },
  {
   "cell_type": "code",
   "execution_count": null,
   "id": "9b58148f",
   "metadata": {},
   "outputs": [],
   "source": [
    "x_pre_processed_train, x_pre_processed_valid, y_train_ae, y_test_ae = train_test_split(x_pre_processed, \n",
    "                                                         y_train, test_size=0.33, random_state=42)"
   ]
  },
  {
   "cell_type": "code",
   "execution_count": null,
   "id": "1271c065",
   "metadata": {},
   "outputs": [],
   "source": [
    "pca.fit(x_pre_processed_train)"
   ]
  },
  {
   "cell_type": "code",
   "execution_count": null,
   "id": "468242b5",
   "metadata": {},
   "outputs": [],
   "source": [
    "x_pre_processed_train_pca=pca.transform(x_pre_processed_train)\n"
   ]
  },
  {
   "cell_type": "code",
   "execution_count": null,
   "id": "e00a49a6",
   "metadata": {},
   "outputs": [],
   "source": [
    "np.shape(x_pre_processed)"
   ]
  },
  {
   "cell_type": "code",
   "execution_count": null,
   "id": "705d9751",
   "metadata": {},
   "outputs": [],
   "source": [
    "np.shape(x_pre_processed_train_pca)"
   ]
  },
  {
   "cell_type": "code",
   "execution_count": null,
   "id": "2686c68b",
   "metadata": {},
   "outputs": [],
   "source": [
    "results_pca_over=train_baseline(x_pre_processed_train_pca,y_train_ae,models,RandomUnderSampler())"
   ]
  },
  {
   "cell_type": "code",
   "execution_count": null,
   "id": "46e6d98a",
   "metadata": {},
   "outputs": [],
   "source": [
    "results_pca_over"
   ]
  },
  {
   "cell_type": "markdown",
   "id": "5c413735",
   "metadata": {},
   "source": [
    "## - AutoEncoder\n"
   ]
  },
  {
   "cell_type": "code",
   "execution_count": null,
   "id": "d461a1d7",
   "metadata": {},
   "outputs": [],
   "source": [
    "#Uso de autoencoder para reduzir dimensionalidade dos dados"
   ]
  },
  {
   "cell_type": "code",
   "execution_count": null,
   "id": "c0f6bf15",
   "metadata": {},
   "outputs": [],
   "source": [
    "n_dimension=25\n",
    "num_camadas=3"
   ]
  },
  {
   "cell_type": "code",
   "execution_count": null,
   "id": "d9a710c1",
   "metadata": {},
   "outputs": [],
   "source": [
    "final_n_neurons=np.shape(x_pre_processed)[-1]\n",
    "final_n_neurons"
   ]
  },
  {
   "cell_type": "code",
   "execution_count": null,
   "id": "1f82f947",
   "metadata": {},
   "outputs": [],
   "source": [
    "neurons_encoder=np.linspace(final_n_neurons,n_dimension,num_camadas).astype('int')\n",
    "neurons_encoder"
   ]
  },
  {
   "cell_type": "code",
   "execution_count": null,
   "id": "4cce6c00",
   "metadata": {},
   "outputs": [],
   "source": [
    "neurons_decoder=neurons_encoder[-1::-1]"
   ]
  },
  {
   "cell_type": "code",
   "execution_count": null,
   "id": "25bbac3b",
   "metadata": {},
   "outputs": [],
   "source": [
    "neurons_decoder\n"
   ]
  },
  {
   "cell_type": "code",
   "execution_count": null,
   "id": "be03583a",
   "metadata": {},
   "outputs": [],
   "source": [
    "neurons_encoder=[80,50,30]\n",
    "neurons_decoder=[50,80,94]"
   ]
  },
  {
   "cell_type": "code",
   "execution_count": null,
   "id": "b63065b0",
   "metadata": {},
   "outputs": [],
   "source": [
    "patience     =50     #number of epochs with no improvement after which tranning will stop\n",
    "lr_factor    =0.1    #factor by which the learning rate will be reduced. new_lr = lr * factor\n",
    "lr_patience  =15     #number of epochs with no improvement after which learning rate will be reduced.\n",
    "lr_min_delta =0.0001 #threshold for measuring the new optimum, to only focus on significant changes (min_delta).\n",
    "lr_cooldown  =4     #number of epochs to wait before resuming normal operation after lr has been reduced.\n",
    "lr_minimum   =0     #lower bound on the learning rate.\n",
    "\n",
    "early_stop=EarlyStopping(monitor='val_loss',patience=patience,verbose=1,restore_best_weights=True) #early stopping\n",
    "\n",
    "#Save the best model\n",
    "#checkpoint = ModelCheckpoint(filepath_baseline,save_weights_only=False, monitor='mse', verbose=1,\n",
    "#                             save_best_only=True, mode='max')\n",
    "\n",
    "#Reduce the learning rate when the results are not improving\n",
    "reduce_lr = ReduceLROnPlateau(monitor='val_loss', factor=lr_factor, patience=lr_patience,\n",
    "                                mode='auto', verbose=1, min_delta=lr_min_delta,\n",
    "                                 cooldown=lr_cooldown, min_lr=lr_minimum)\n",
    "\n",
    "callbacks_list=[early_stop,reduce_lr]\n"
   ]
  },
  {
   "cell_type": "code",
   "execution_count": null,
   "id": "269172e7",
   "metadata": {},
   "outputs": [],
   "source": [
    "stacked_encoder=tf.keras.Sequential(\n",
    "#[tf.keras.layers.BatchNormalization()]+\n",
    "    [tf.keras.layers.Dense(n_neuron,activation='relu') for n_neuron in neurons_encoder])\n",
    "\n",
    "\n",
    "stacked_decoder=tf.keras.Sequential(\n",
    "[tf.keras.layers.Dense(n_neuron,activation='relu') for n_neuron in neurons_decoder])\n",
    "\n",
    "\n",
    "stacked_ae=tf.keras.Sequential([stacked_encoder,stacked_decoder])\n",
    "stacked_ae.compile(loss=\"mse\", optimizer=tf.keras.optimizers.Adam(learning_rate=0.01))\n",
    "\n",
    "history=stacked_ae.fit(x_pre_processed_train,x_pre_processed_train,epochs=500,callbacks=callbacks_list,\n",
    "                      validation_data=(x_pre_processed_valid,x_pre_processed_valid))"
   ]
  },
  {
   "cell_type": "code",
   "execution_count": null,
   "id": "b33ddfa7",
   "metadata": {
    "scrolled": false
   },
   "outputs": [],
   "source": [
    "pd.DataFrame(history.history).plot(xlabel='epoch')\n"
   ]
  },
  {
   "cell_type": "markdown",
   "id": "2e2e6b49",
   "metadata": {},
   "source": [
    "# - Sampling"
   ]
  },
  {
   "cell_type": "markdown",
   "id": "dc67d797",
   "metadata": {},
   "source": [
    "## - OverSampling"
   ]
  },
  {
   "cell_type": "code",
   "execution_count": null,
   "id": "f719ad30",
   "metadata": {},
   "outputs": [],
   "source": [
    "#Aplicação de técnicas de oversampling para balancear o dataset. Através dessas técnicas serão criadas \n",
    "#novas amostras da classe minoritária\n"
   ]
  },
  {
   "cell_type": "code",
   "execution_count": null,
   "id": "9c322929",
   "metadata": {},
   "outputs": [],
   "source": [
    "#Técnicas de oversampling que serão testadas\n",
    "\n",
    "#Random\n",
    "os_random=RandomOverSampler()\n",
    "\n",
    "#Smote\n",
    "os_smote=SMOTE(sampling_strategy='auto',\n",
    "                random_state=29,\n",
    "                  k_neighbors=5)\n",
    "\n",
    "#ADASYN\n",
    "os_adasyn=ADASYN(sampling_strategy='auto',\n",
    "                random_state=0,\n",
    "                n_neighbors=5,\n",
    "                n_jobs=4)\n",
    "\n",
    "#BorderLine Smote\n",
    "os_borderline_smote=BorderlineSMOTE(sampling_strategy='auto',\n",
    "                                   k_neighbors=5,\n",
    "                                   random_state=0,\n",
    "                                    m_neighbors=10\n",
    "                   )\n",
    "\n",
    "#SVM SMOTE\n",
    "os_svm_smote=SVMSMOTE(sampling_strategy='auto',\n",
    "            random_state=0,\n",
    "            k_neighbors=5,\n",
    "            m_neighbors=10,\n",
    "            svm_estimator=SVC(kernel='linear')\n",
    "            )\n",
    "\n",
    "oversampling_techniques={'Random' :os_random\n",
    "                         ,'Smote'  :os_smote\n",
    "                         ,'Adasyn':os_adasyn\n",
    "                         ,'Borderline Smote':os_borderline_smote\n",
    "                          #'SVM_Smote':os_svm_smote\n",
    "                        }\n",
    "\n",
    "results_over_sampling={}"
   ]
  },
  {
   "cell_type": "code",
   "execution_count": null,
   "id": "c0fca732",
   "metadata": {},
   "outputs": [],
   "source": [
    "'''\n",
    "for key in tqdm(oversampling_techniques.keys(),desc='Technique'):\n",
    "    results_over_sampling[key]=train_model(LGBMClassifier(),x_pre_processed,y_train,scoring,\n",
    "                                           sampler=oversampling_techniques[key])\n",
    "'''"
   ]
  },
  {
   "cell_type": "code",
   "execution_count": null,
   "id": "b2fd8f36",
   "metadata": {},
   "outputs": [],
   "source": [
    "#Salvar resultados\n",
    "'''\n",
    "with open('results_over_sampling.pkl', 'wb') as fp:\n",
    "    pickle.dump(results_over_sampling, fp)\n",
    "    print('dictionary saved successfully to file')\n",
    "'''"
   ]
  },
  {
   "cell_type": "code",
   "execution_count": null,
   "id": "29133c0c",
   "metadata": {},
   "outputs": [],
   "source": [
    "# Carregar resultados obtidos\n",
    "'''\n",
    "with open('results_over_sampling.pkl', 'rb') as fp:\n",
    "    results_over_sampling = pickle.load(fp)\n",
    "'''"
   ]
  },
  {
   "cell_type": "code",
   "execution_count": null,
   "id": "f39c09ca",
   "metadata": {},
   "outputs": [],
   "source": [
    "#results_over_sampling"
   ]
  },
  {
   "cell_type": "code",
   "execution_count": null,
   "id": "7183b0f4",
   "metadata": {},
   "outputs": [],
   "source": [
    "#O balanceamento do dataset com o uso de técnicas de oversampling não produziu melhioria nos\n",
    "#resultados"
   ]
  },
  {
   "cell_type": "markdown",
   "id": "8975ad80",
   "metadata": {},
   "source": [
    "## - UnderSampling"
   ]
  },
  {
   "cell_type": "code",
   "execution_count": null,
   "id": "56f4e5af",
   "metadata": {},
   "outputs": [],
   "source": [
    "#Balanceamento do dataset com o uso de diferentes técnicas de undersampling"
   ]
  },
  {
   "cell_type": "code",
   "execution_count": null,
   "id": "3790a603",
   "metadata": {},
   "outputs": [],
   "source": [
    "#Técnicas de undeersampling que serão testadas\n",
    "\n",
    "#Random\n",
    "us_random=RandomUnderSampler()\n",
    "\n",
    "#Condensed Nearest Neighbours\n",
    "us_cnn=CondensedNearestNeighbour(sampling_strategy='auto',\n",
    "                random_state=29,\n",
    "                n_neighbors =1)\n",
    "\n",
    "#Tomek Links\n",
    "us_tomek=TomekLinks(sampling_strategy='auto')\n",
    "\n",
    "#One-Sided Selection\n",
    "us_onesideselection=OneSidedSelection(sampling_strategy='auto',\n",
    "                                   n_neighbors=1,\n",
    "                                   random_state=0,\n",
    "                   )\n",
    "\n",
    "#Edited Nearest NEighbours\n",
    "us_enn=EditedNearestNeighbours(\n",
    "            sampling_strategy='auto',\n",
    "            n_neighbors=3,\n",
    "            kind_sel='all')\n",
    "\n",
    "#Repeated Edited Nearest NEighbours\n",
    "us_renn=RepeatedEditedNearestNeighbours(\n",
    "        sampling_strategy='auto',\n",
    "        n_neighbors=3,\n",
    "        kind_sel='auto',\n",
    "        max_iter=100)\n",
    "\n",
    "#All KNN\n",
    "us_allknn=AllKNN(sampling_strategy='auto',\n",
    "                n_neighbors=3,\n",
    "                kind_sel='all')\n",
    "\n",
    "#Neighbourhood Cleaning Rule (NCR)\n",
    "us_ncr=NeighbourhoodCleaningRule(\n",
    "                sampling_strategy='auto',\n",
    "                n_neighbors=3,\n",
    "                kind_sel='all',\n",
    "                threshold_cleaning=0.5)\n",
    "\n",
    "undersampling_techniques={'Random' :us_random\n",
    "                         #,'Condensed Nearest Neighbours':us_cnn\n",
    "                         ,'Tomek Links':us_tomek\n",
    "                         ,'One-Sided Selection':us_onesideselection\n",
    "                         #,'Edited Nearest NEighbours':us_enn\n",
    "                         ,'Repeated Edited Nearest NEighbours':us_renn\n",
    "                         ,'All KNN':us_allknn\n",
    "                         ,'Neighbourhood Cleaning Rule':us_ncr\n",
    "                        }\n",
    "\n",
    "results_under_sampling={}"
   ]
  },
  {
   "cell_type": "code",
   "execution_count": null,
   "id": "4fa7b8aa",
   "metadata": {},
   "outputs": [],
   "source": [
    "#for key in tqdm(undersampling_techniques.keys(),desc=key):\n",
    "#    results_under_sampling[key]=train_model(LGBMClassifier(),x_pre_processed,y_train,scoring,\n",
    "#                                           sampler=undersampling_techniques[key])"
   ]
  },
  {
   "cell_type": "code",
   "execution_count": null,
   "id": "af8ad7cc",
   "metadata": {},
   "outputs": [],
   "source": [
    "#results_under_sampling"
   ]
  },
  {
   "cell_type": "code",
   "execution_count": null,
   "id": "4927c249",
   "metadata": {},
   "outputs": [],
   "source": [
    "#The application of different undersampling techniques did not improve the results."
   ]
  },
  {
   "cell_type": "markdown",
   "id": "3c8d3962",
   "metadata": {},
   "source": [
    "## - Variational Autoencoders"
   ]
  },
  {
   "cell_type": "code",
   "execution_count": null,
   "id": "b729d912",
   "metadata": {},
   "outputs": [],
   "source": [
    "#Variational autoencoder será outra técnica que será empregada para gerar novas amostras para a classe minoritária"
   ]
  },
  {
   "cell_type": "code",
   "execution_count": null,
   "id": "bba20093",
   "metadata": {},
   "outputs": [],
   "source": [
    "class Sampling(tf.keras.layers.Layer):\n",
    "    #This function will sample from a normal distribution (mean,var).\n",
    "    #It returns s sample that has the same shape of log_var\n",
    "    def call(self,inputs):\n",
    "        mean,log_var=inputs\n",
    "        return tf.random.normal(tf.shape(log_var))*tf.exp(log_var/2)+mean"
   ]
  },
  {
   "cell_type": "code",
   "execution_count": null,
   "id": "e172bebd",
   "metadata": {},
   "outputs": [],
   "source": [
    "#Encoder\n",
    "codings_size=10\n",
    "\n",
    "n_neurons=np.arange(45,codings_size,-10)\n",
    "input_shape=[np.shape(x_pre_processed)[1]]\n",
    "\n",
    "inputs=tf.keras.layers.Input(shape=input_shape)\n",
    "z=inputs\n",
    "for i in n_neurons:\n",
    "    z=tf.keras.layers.Dense(i,activation='relu')(z)\n",
    "codings_mean=tf.keras.layers.Dense(codings_size)(z) #mean\n",
    "codings_log_var=tf.keras.layers.Dense(codings_size)(z) #log_var\n",
    "codings=Sampling()([codings_mean,codings_log_var])\n",
    "variational_encoder=tf.keras.Model(inputs=[inputs],outputs=[codings_mean,codings_log_var,codings])"
   ]
  },
  {
   "cell_type": "code",
   "execution_count": null,
   "id": "8a92c4a1",
   "metadata": {},
   "outputs": [],
   "source": [
    "variational_encoder.summary()"
   ]
  },
  {
   "cell_type": "code",
   "execution_count": null,
   "id": "f7df3afe",
   "metadata": {},
   "outputs": [],
   "source": [
    "#Decoder\n",
    "\n",
    "decoder_inputs=tf.keras.layers.Input(shape=[codings_size])\n",
    "z=decoder_inputs\n",
    "for i in n_neurons[-1::-1]:\n",
    "    z=tf.keras.layers.Dense(i,activation='relu')(z)\n",
    "outputs=tf.keras.layers.Dense(input_shape[0])(z)\n",
    "variational_decoder=tf.keras.Model(inputs=[decoder_inputs],outputs=[outputs])"
   ]
  },
  {
   "cell_type": "code",
   "execution_count": null,
   "id": "d5b4a36a",
   "metadata": {},
   "outputs": [],
   "source": [
    "#Variational auto encoder model\n",
    "\n",
    "_,_,codings=variational_encoder(inputs)\n",
    "reconstructions=variational_decoder(codings)\n",
    "variational_ae=tf.keras.Model(inputs=[inputs],outputs=[reconstructions])"
   ]
  },
  {
   "cell_type": "code",
   "execution_count": null,
   "id": "d1165088",
   "metadata": {},
   "outputs": [],
   "source": [
    "#Latent loss and reconstruction loss\n",
    "\n",
    "latent_loss=-0.5*tf.reduce_sum( 1+codings_log_var-tf.exp(codings_log_var)-tf.square(codings_mean),axis=-1)\n",
    "# tf.reduce_mean calculates the mean loss over all the instances in the batch\n",
    "#The division by input_shape[0] is to garantee that the result has the appropriate \n",
    "#scale compared to the reconstruction loss\n",
    "variational_ae.add_loss(tf.reduce_mean(latent_loss)/input_shape[0])"
   ]
  },
  {
   "cell_type": "code",
   "execution_count": null,
   "id": "5d973f45",
   "metadata": {},
   "outputs": [],
   "source": [
    "def rounded_accuracy(y_true, y_pred):\n",
    "    return tf.keras.metrics.binary_accuracy(tf.round(y_true), tf.round(y_pred))"
   ]
  },
  {
   "cell_type": "code",
   "execution_count": null,
   "id": "1b7ce71a",
   "metadata": {},
   "outputs": [],
   "source": [
    "#Compiling the model\n",
    "\n",
    "variational_ae.compile(loss=\"binary_crossentropy\", optimizer=\"rmsprop\", metrics=[rounded_accuracy])\n"
   ]
  },
  {
   "cell_type": "code",
   "execution_count": null,
   "id": "84f2082a",
   "metadata": {},
   "outputs": [],
   "source": [
    "#Separating samples from different classes.\n",
    "#Getting all samples from the minority \n",
    "indexes_class_1=np.where(y_train==1)[0]\n",
    "\n",
    "x_class_1=x_pre_processed.iloc[indexes_class_1]\n"
   ]
  },
  {
   "cell_type": "code",
   "execution_count": null,
   "id": "fef9453c",
   "metadata": {},
   "outputs": [],
   "source": [
    "x_train_class_1,x_test_class_1=train_test_split(x_class_1,test_size=0.33,random_state=42)"
   ]
  },
  {
   "cell_type": "code",
   "execution_count": null,
   "id": "41b268ad",
   "metadata": {},
   "outputs": [],
   "source": [
    "#Training the autoencoder using the samples from the minority class.\n",
    "history=variational_ae.fit(x_train_class_1,x_train_class_1,epochs=500,batch_size=128,validation_data=[x_test_class_1,\n",
    "                                                                                                    x_test_class_1])"
   ]
  },
  {
   "cell_type": "code",
   "execution_count": null,
   "id": "904e2d15",
   "metadata": {},
   "outputs": [],
   "source": [
    "pd.DataFrame(history.history).plot(xlabel='epoch')"
   ]
  },
  {
   "cell_type": "code",
   "execution_count": null,
   "id": "f3a9b6d9",
   "metadata": {},
   "outputs": [],
   "source": [
    "n_splits=5\n",
    "scores={'accuracy':[],'precision':[],'recall':[],'roc_auc':[]}\n",
    "model_classifier=LGBMClassifier()\n",
    "skf = StratifiedKFold(n_splits=n_splits, shuffle=True, random_state=1)\n",
    "for train_index, test_index in skf.split(x_pre_processed, y_train):\n",
    "    x_train,x_test=x_pre_processed.iloc[train_index],x_pre_processed.iloc[test_index]\n",
    "    y_train_kfold,y_test=y_train.iloc[train_index],y_train.iloc[test_index]\n",
    "    #A função generating_new_samples vai ser usada para criar novas samples da classe minoritária\n",
    "    x_train,y_train_kfold=generating_new_samples(x_train,y_train_kfold,codings_size=codings_size,\n",
    "                                                 auto_encoder=variational_ae,decoder=variational_decoder)\n",
    "    model_classifier.fit(x_train,y_train_kfold)\n",
    "    y_pred_proba=model_classifier.predict_proba(x_test)\n",
    "    y_pred=np.argmax(y_pred_proba,axis=1)\n",
    "    scores['accuracy']=scores['accuracy']  +[accuracy_score(y_test,y_pred)]\n",
    "    scores['precision']=scores['precision']+[precision_score(y_test,y_pred)]\n",
    "    scores['recall']=scores['recall']      +[recall_score(y_test,y_pred)]\n",
    "    scores['roc_auc']=scores['roc_auc']    +[roc_auc_score(y_test,y_pred_proba[:,1])]"
   ]
  },
  {
   "cell_type": "code",
   "execution_count": null,
   "id": "090f2041",
   "metadata": {},
   "outputs": [],
   "source": [
    "scores\n"
   ]
  },
  {
   "cell_type": "code",
   "execution_count": null,
   "id": "5c6c076b",
   "metadata": {},
   "outputs": [],
   "source": [
    "#The creation of new samples using an autoencoder did not improve the results."
   ]
  },
  {
   "cell_type": "code",
   "execution_count": null,
   "id": "befb0bf5",
   "metadata": {},
   "outputs": [],
   "source": []
  }
 ],
 "metadata": {
  "kernelspec": {
   "display_name": "Python 3 (ipykernel)",
   "language": "python",
   "name": "python3"
  },
  "language_info": {
   "codemirror_mode": {
    "name": "ipython",
    "version": 3
   },
   "file_extension": ".py",
   "mimetype": "text/x-python",
   "name": "python",
   "nbconvert_exporter": "python",
   "pygments_lexer": "ipython3",
   "version": "3.9.18"
  },
  "toc": {
   "base_numbering": 1,
   "nav_menu": {},
   "number_sections": true,
   "sideBar": true,
   "skip_h1_title": false,
   "title_cell": "Table of Contents",
   "title_sidebar": "Contents",
   "toc_cell": false,
   "toc_position": {
    "height": "calc(100% - 180px)",
    "left": "10px",
    "top": "150px",
    "width": "263.183px"
   },
   "toc_section_display": true,
   "toc_window_display": true
  }
 },
 "nbformat": 4,
 "nbformat_minor": 5
}
